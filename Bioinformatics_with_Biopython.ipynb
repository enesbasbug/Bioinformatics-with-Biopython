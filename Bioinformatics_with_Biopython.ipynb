{
 "cells": [
  {
   "cell_type": "markdown",
   "metadata": {},
   "source": [
    "#### Applications\n",
    "+ Applications\n",
    "+ For sequence analysis (DNA,RNA)\n",
    "+ To do transcription and translation of DNA (Protein Synthesis)\n",
    "+ Querying and Access BioInformatic Databases\n",
    "+ Entrez, BLAST,GenBank,etc\n",
    "+ 3D Structure analysis"
   ]
  },
  {
   "cell_type": "markdown",
   "metadata": {},
   "source": [
    "#### Questions\n",
    "+ How to create a sequence?\n",
    "+ Protein Synthesis (Transcription,Translation)\n",
    "+ Find GC content,\n",
    "+ Molecular weights of a protein or DNA\n",
    "+ Convert protein sequence from one-letter to three-letter code and vice versa\n",
    "+ Find patterns\n",
    "+ How to find the Frequency of Nucleotide,Amino Acids,etc\n",
    "+ Sequence Alignment\n",
    "+ Similarity and homology"
   ]
  },
  {
   "cell_type": "code",
   "execution_count": 1,
   "metadata": {},
   "outputs": [],
   "source": [
    "#pip install biopython"
   ]
  },
  {
   "cell_type": "code",
   "execution_count": 2,
   "metadata": {},
   "outputs": [],
   "source": [
    "import Bio\n",
    "import warnings\n",
    "warnings.filterwarnings('ignore')"
   ]
  },
  {
   "cell_type": "code",
   "execution_count": 3,
   "metadata": {},
   "outputs": [],
   "source": [
    "from Bio.Seq import Seq\n",
    "from Bio.Alphabet import generic_dna,generic_rna,generic_protein"
   ]
  },
  {
   "cell_type": "code",
   "execution_count": 4,
   "metadata": {},
   "outputs": [
    {
     "data": {
      "text/plain": [
       "Seq('ATGATCTCGTAA', DNAAlphabet())"
      ]
     },
     "execution_count": 4,
     "metadata": {},
     "output_type": "execute_result"
    }
   ],
   "source": [
    "dna = Seq('ATGATCTCGTAA',generic_dna)\n",
    "dna"
   ]
  },
  {
   "cell_type": "code",
   "execution_count": 5,
   "metadata": {},
   "outputs": [
    {
     "data": {
      "text/plain": [
       "Seq('AUGAUCUCGUAA', RNAAlphabet())"
      ]
     },
     "execution_count": 5,
     "metadata": {},
     "output_type": "execute_result"
    }
   ],
   "source": [
    "rna = Seq('AUGAUCUCGUAA',generic_rna)\n",
    "rna"
   ]
  },
  {
   "cell_type": "code",
   "execution_count": 6,
   "metadata": {},
   "outputs": [],
   "source": [
    "# Load Our Bioinformatic Pkgs\n",
    "import Bio\n",
    "\n",
    "# Methods and Attributes\n",
    "\n",
    "# dir(Bio)\n"
   ]
  },
  {
   "cell_type": "markdown",
   "metadata": {},
   "source": [
    "#### Sequence Analysis\n",
    "+ DNA and RNA Sequence\n",
    "    - A Adenine\n",
    "    - C Cytosine\n",
    "    - G Guanine\n",
    "    - T Thymine\n",
    "    - U Uracil * RNA\n",
    "+ DNA Structure"
   ]
  },
  {
   "cell_type": "code",
   "execution_count": 7,
   "metadata": {},
   "outputs": [],
   "source": [
    "from Bio.Seq import Seq"
   ]
  },
  {
   "cell_type": "code",
   "execution_count": 8,
   "metadata": {},
   "outputs": [],
   "source": [
    "# Methods of Seq\n",
    "\n",
    "# dir(Seq)"
   ]
  },
  {
   "cell_type": "markdown",
   "metadata": {},
   "source": [
    "# Working with Sequences"
   ]
  },
  {
   "cell_type": "code",
   "execution_count": 9,
   "metadata": {},
   "outputs": [
    {
     "data": {
      "text/plain": [
       "Seq('ATGATCTCGTAA')"
      ]
     },
     "execution_count": 9,
     "metadata": {},
     "output_type": "execute_result"
    }
   ],
   "source": [
    "# Create A simple sequences\n",
    "seq1 = Seq('ATGATCTCGTAA')\n",
    "seq1"
   ]
  },
  {
   "cell_type": "code",
   "execution_count": 10,
   "metadata": {},
   "outputs": [
    {
     "data": {
      "text/plain": [
       "Alphabet()"
      ]
     },
     "execution_count": 10,
     "metadata": {},
     "output_type": "execute_result"
    }
   ],
   "source": [
    "# Checking for the type of sequences\n",
    "seq1.alphabet"
   ]
  },
  {
   "cell_type": "markdown",
   "metadata": {},
   "source": [
    "#### Alphabet Types\n",
    "+ generic_dna/rna\n",
    "+ generic_protein\n",
    "+ IUPACUnambiguousDNA, which provides for just the basic letters, \n",
    "+ IUPACAmbiguousDNA ,which provides for ambiguity letters for every possible situation\n",
    "\n",
    "#### Usefulness of Specifying the Type of Sequence or Alphabet\n",
    "+ Help us to have an idea of the type of information the Seq object contains. \n",
    "+ Act as a means of constraining the information,\n",
    "+ As a means of type checking."
   ]
  },
  {
   "cell_type": "code",
   "execution_count": 11,
   "metadata": {},
   "outputs": [],
   "source": [
    "# Create a generic dna\n",
    "from Bio.Alphabet import generic_dna,generic_rna,generic_protein"
   ]
  },
  {
   "cell_type": "code",
   "execution_count": 12,
   "metadata": {},
   "outputs": [
    {
     "data": {
      "text/plain": [
       "Seq('ATGATCTCGTAA', DNAAlphabet())"
      ]
     },
     "execution_count": 12,
     "metadata": {},
     "output_type": "execute_result"
    }
   ],
   "source": [
    "# Create our DNA\n",
    "dna = Seq('ATGATCTCGTAA',generic_dna)\n",
    "dna"
   ]
  },
  {
   "cell_type": "code",
   "execution_count": 13,
   "metadata": {},
   "outputs": [
    {
     "data": {
      "text/plain": [
       "DNAAlphabet()"
      ]
     },
     "execution_count": 13,
     "metadata": {},
     "output_type": "execute_result"
    }
   ],
   "source": [
    "# Check the type of sequence\n",
    "dna.alphabet"
   ]
  },
  {
   "cell_type": "code",
   "execution_count": 14,
   "metadata": {},
   "outputs": [
    {
     "data": {
      "text/plain": [
       "Seq('AUGUUCUCGUAA', RNAAlphabet())"
      ]
     },
     "execution_count": 14,
     "metadata": {},
     "output_type": "execute_result"
    }
   ],
   "source": [
    "# Create an RNA\n",
    "rna = Seq('AUGUUCUCGUAA',generic_rna)\n",
    "rna"
   ]
  },
  {
   "cell_type": "code",
   "execution_count": 15,
   "metadata": {},
   "outputs": [],
   "source": [
    "# Creating an IUPAC dna\n",
    "from Bio.Alphabet import IUPAC   # Standard nucleotide and protein alphabets defined by IUPAC."
   ]
  },
  {
   "cell_type": "markdown",
   "metadata": {},
   "source": [
    "\n",
    " + IUPACProtein\n",
    "    - IUPAC protein alphabet of the 20 standard amino acids.\n",
    " + IUPACAmbiguousDNA\n",
    "    - Uppercase IUPAC ambiguous DNA.\n",
    " + IUPACUnambiguousDNA\n",
    "    - Uppercase IUPAC unambiguous DNA (letters GATC only).\n",
    " + ExtendedIUPACDNA\n",
    "    - Extended IUPAC DNA alphabet.\n",
    " + IUPACAmbiguousRNA\n",
    "    - Uppercase IUPAC ambiguous RNA.\n",
    " + IUPACUnambiguousRNA\n",
    "    - Uppercase IUPAC unambiguous RNA (letters GAUC only)."
   ]
  },
  {
   "cell_type": "code",
   "execution_count": 16,
   "metadata": {},
   "outputs": [
    {
     "data": {
      "text/plain": [
       "Seq('ATGATCTCGTAA', IUPACUnambiguousDNA())"
      ]
     },
     "execution_count": 16,
     "metadata": {},
     "output_type": "execute_result"
    }
   ],
   "source": [
    "dna_iupac = Seq('ATGATCTCGTAA',IUPAC.unambiguous_dna)\n",
    "dna_iupac"
   ]
  },
  {
   "cell_type": "code",
   "execution_count": 17,
   "metadata": {},
   "outputs": [
    {
     "data": {
      "text/plain": [
       "Seq('MIT', ProteinAlphabet())"
      ]
     },
     "execution_count": 17,
     "metadata": {},
     "output_type": "execute_result"
    }
   ],
   "source": [
    "# Creating a Protein seq\n",
    "protein_a = Seq('MIT',generic_protein)\n",
    "protein_a"
   ]
  },
  {
   "cell_type": "code",
   "execution_count": 18,
   "metadata": {},
   "outputs": [
    {
     "data": {
      "text/plain": [
       "ProteinAlphabet()"
      ]
     },
     "execution_count": 18,
     "metadata": {},
     "output_type": "execute_result"
    }
   ],
   "source": [
    "protein_a.alphabet"
   ]
  },
  {
   "cell_type": "markdown",
   "metadata": {},
   "source": [
    "#### Sequence Manipulation\n",
    "+ Indexing/Slicing\n",
    "+ Join 2 Sequences\n",
    "+ Find a Codon in a sequence\n",
    "+ Count the number of Nucleotides\n",
    "+ Find the number of times a patten repeat"
   ]
  },
  {
   "cell_type": "code",
   "execution_count": 19,
   "metadata": {},
   "outputs": [
    {
     "data": {
      "text/plain": [
       "Seq('ATGATCTCGTAA', DNAAlphabet())"
      ]
     },
     "execution_count": 19,
     "metadata": {},
     "output_type": "execute_result"
    }
   ],
   "source": [
    "dna"
   ]
  },
  {
   "cell_type": "code",
   "execution_count": 20,
   "metadata": {},
   "outputs": [
    {
     "name": "stdout",
     "output_type": "stream",
     "text": [
      "12 = 12\n"
     ]
    }
   ],
   "source": [
    "# Length of our seq\n",
    "print(str(len(dna)) + \" = \" + str(len('ATGATCTCGTAA')))"
   ]
  },
  {
   "cell_type": "code",
   "execution_count": 21,
   "metadata": {},
   "outputs": [
    {
     "data": {
      "text/plain": [
       "Seq('ATGAT', DNAAlphabet())"
      ]
     },
     "execution_count": 21,
     "metadata": {},
     "output_type": "execute_result"
    }
   ],
   "source": [
    "# Slicing\n",
    "dna[0:5]"
   ]
  },
  {
   "cell_type": "code",
   "execution_count": 22,
   "metadata": {},
   "outputs": [
    {
     "data": {
      "text/plain": [
       "Seq('AATGCTCTAGTA', DNAAlphabet())"
      ]
     },
     "execution_count": 22,
     "metadata": {},
     "output_type": "execute_result"
    }
   ],
   "source": [
    "# Reverse\n",
    "dna[::-1]"
   ]
  },
  {
   "cell_type": "code",
   "execution_count": 23,
   "metadata": {},
   "outputs": [],
   "source": [
    "seq2 = Seq('ATGATCTCGTGG')"
   ]
  },
  {
   "cell_type": "code",
   "execution_count": 24,
   "metadata": {},
   "outputs": [
    {
     "data": {
      "text/plain": [
       "Seq('ATGATCATGATCTCGTGG')"
      ]
     },
     "execution_count": 24,
     "metadata": {},
     "output_type": "execute_result"
    }
   ],
   "source": [
    "# Join Seq\n",
    "dna[0:6] + seq2"
   ]
  },
  {
   "cell_type": "code",
   "execution_count": 25,
   "metadata": {},
   "outputs": [
    {
     "name": "stdout",
     "output_type": "stream",
     "text": [
      "2\n",
      "4\n"
     ]
    }
   ],
   "source": [
    "# Find the number of Nucleotides/Base within our seq\n",
    "# Count\n",
    "print(dna.count('G'))\n",
    "print(dna.count('T'))"
   ]
  },
  {
   "cell_type": "code",
   "execution_count": 26,
   "metadata": {},
   "outputs": [
    {
     "data": {
      "text/plain": [
       "1"
      ]
     },
     "execution_count": 26,
     "metadata": {},
     "output_type": "execute_result"
    }
   ],
   "source": [
    "# Count the number of codon (3B) within a seq\n",
    "dna.count('ATG') # dna = ATGATCTCGTAA"
   ]
  },
  {
   "cell_type": "code",
   "execution_count": 27,
   "metadata": {},
   "outputs": [
    {
     "data": {
      "text/plain": [
       "2"
      ]
     },
     "execution_count": 27,
     "metadata": {},
     "output_type": "execute_result"
    }
   ],
   "source": [
    "# Find the position/location of a nucleotide\n",
    "dna.find('G') # dna = ATGATCTCGTAA"
   ]
  },
  {
   "cell_type": "code",
   "execution_count": 28,
   "metadata": {},
   "outputs": [
    {
     "data": {
      "text/plain": [
       "8"
      ]
     },
     "execution_count": 28,
     "metadata": {},
     "output_type": "execute_result"
    }
   ],
   "source": [
    "# Find the position/location of a nucleotide from the right\n",
    "dna.rfind('G') # dna = ATGATCTCGTAA"
   ]
  },
  {
   "cell_type": "code",
   "execution_count": 29,
   "metadata": {},
   "outputs": [
    {
     "data": {
      "text/plain": [
       "2"
      ]
     },
     "execution_count": 29,
     "metadata": {},
     "output_type": "execute_result"
    }
   ],
   "source": [
    "# Find the location/index using index\n",
    "dna.index('G')"
   ]
  },
  {
   "cell_type": "code",
   "execution_count": 30,
   "metadata": {},
   "outputs": [
    {
     "data": {
      "text/plain": [
       "8"
      ]
     },
     "execution_count": 30,
     "metadata": {},
     "output_type": "execute_result"
    }
   ],
   "source": [
    "# Find the location/index using index\n",
    "dna.rindex('G')"
   ]
  },
  {
   "cell_type": "markdown",
   "metadata": {},
   "source": [
    "#### Plot of Frequency of Nucleotides/Base"
   ]
  },
  {
   "cell_type": "code",
   "execution_count": 31,
   "metadata": {},
   "outputs": [],
   "source": [
    "import matplotlib.pyplot as plt\n",
    "from collections import Counter"
   ]
  },
  {
   "cell_type": "code",
   "execution_count": 32,
   "metadata": {},
   "outputs": [
    {
     "data": {
      "text/plain": [
       "Seq('ATGATCTCGTAA', DNAAlphabet())"
      ]
     },
     "execution_count": 32,
     "metadata": {},
     "output_type": "execute_result"
    }
   ],
   "source": [
    "dna"
   ]
  },
  {
   "cell_type": "code",
   "execution_count": 33,
   "metadata": {},
   "outputs": [
    {
     "data": {
      "text/plain": [
       "Counter({'A': 4, 'T': 4, 'G': 2, 'C': 2})"
      ]
     },
     "execution_count": 33,
     "metadata": {},
     "output_type": "execute_result"
    }
   ],
   "source": [
    "dna_freq = Counter(dna)\n",
    "dna_freq"
   ]
  },
  {
   "cell_type": "code",
   "execution_count": 34,
   "metadata": {},
   "outputs": [
    {
     "data": {
      "text/plain": [
       "<BarContainer object of 4 artists>"
      ]
     },
     "execution_count": 34,
     "metadata": {},
     "output_type": "execute_result"
    },
    {
     "data": {
      "image/png": "[encoded data removed]",
      "text/plain": [
       "<Figure size 432x288 with 1 Axes>"
      ]
     },
     "metadata": {
      "needs_background": "light"
     },
     "output_type": "display_data"
    }
   ],
   "source": [
    "plt.bar(dna_freq.keys(),dna_freq.values())"
   ]
  },
  {
   "cell_type": "markdown",
   "metadata": {},
   "source": [
    "## Protein Synthesis\n",
    "+ Protein synthesis is how cells make proteins using 2 stages\n",
    " - Transcription\n",
    " - Translation"
   ]
  },
  {
   "cell_type": "code",
   "execution_count": 35,
   "metadata": {},
   "outputs": [
    {
     "data": {
      "text/plain": [
       "12"
      ]
     },
     "execution_count": 35,
     "metadata": {},
     "output_type": "execute_result"
    }
   ],
   "source": [
    "from Bio.Seq import Seq\n",
    "\n",
    "dna_seq = Seq('ATGATCTCGTAA')\n",
    "len(dna_seq)"
   ]
  },
  {
   "cell_type": "code",
   "execution_count": 36,
   "metadata": {},
   "outputs": [],
   "source": [
    "## A T = 2 hydrogen bonds\n",
    "## G C =  3 hydrogen bonds"
   ]
  },
  {
   "cell_type": "code",
   "execution_count": 37,
   "metadata": {},
   "outputs": [
    {
     "data": {
      "text/plain": [
       "Seq('ATGATCTCGTAA')"
      ]
     },
     "execution_count": 37,
     "metadata": {},
     "output_type": "execute_result"
    }
   ],
   "source": [
    "dna_seq"
   ]
  },
  {
   "cell_type": "code",
   "execution_count": 38,
   "metadata": {},
   "outputs": [
    {
     "data": {
      "text/plain": [
       "Seq('TACTAGAGCATT')"
      ]
     },
     "execution_count": 38,
     "metadata": {},
     "output_type": "execute_result"
    }
   ],
   "source": [
    "# Complement\n",
    "dna_seq.complement()"
   ]
  },
  {
   "cell_type": "code",
   "execution_count": 39,
   "metadata": {},
   "outputs": [
    {
     "data": {
      "text/plain": [
       "Seq('TTACGAGATCAT')"
      ]
     },
     "execution_count": 39,
     "metadata": {},
     "output_type": "execute_result"
    }
   ],
   "source": [
    "# reverse complement\n",
    "dna_seq.reverse_complement()"
   ]
  },
  {
   "cell_type": "code",
   "execution_count": 40,
   "metadata": {},
   "outputs": [
    {
     "data": {
      "text/plain": [
       "Seq('TTACGAGATCAT')"
      ]
     },
     "execution_count": 40,
     "metadata": {},
     "output_type": "execute_result"
    }
   ],
   "source": [
    "# custom fxn\n",
    "dna_seq.complement()[::-1]"
   ]
  },
  {
   "cell_type": "markdown",
   "metadata": {},
   "source": [
    "### Protein Synthesis"
   ]
  },
  {
   "cell_type": "code",
   "execution_count": 41,
   "metadata": {},
   "outputs": [
    {
     "data": {
      "text/plain": [
       "Seq('ATGATCTCGTAA')"
      ]
     },
     "execution_count": 41,
     "metadata": {},
     "output_type": "execute_result"
    }
   ],
   "source": [
    "dna_seq"
   ]
  },
  {
   "cell_type": "code",
   "execution_count": 42,
   "metadata": {},
   "outputs": [
    {
     "data": {
      "text/plain": [
       "Seq('AUGAUCUCGUAA', RNAAlphabet())"
      ]
     },
     "execution_count": 42,
     "metadata": {},
     "output_type": "execute_result"
    }
   ],
   "source": [
    "# Transcription\n",
    "# DNA to mRNA\n",
    "# Writing the msg\n",
    "dna_seq.transcribe()"
   ]
  },
  {
   "cell_type": "code",
   "execution_count": 43,
   "metadata": {},
   "outputs": [],
   "source": [
    "mRNA = dna_seq.transcribe()"
   ]
  },
  {
   "cell_type": "code",
   "execution_count": 44,
   "metadata": {},
   "outputs": [
    {
     "data": {
      "text/plain": [
       "Seq('MIS*', HasStopCodon(ExtendedIUPACProtein(), '*'))"
      ]
     },
     "execution_count": 44,
     "metadata": {},
     "output_type": "execute_result"
    }
   ],
   "source": [
    "# Translation \n",
    "# mRNA to Protein/Amino Acid\n",
    "# Method 1\n",
    "mRNA.translate()"
   ]
  },
  {
   "cell_type": "code",
   "execution_count": 45,
   "metadata": {},
   "outputs": [
    {
     "data": {
      "text/plain": [
       "Seq('MIS*', HasStopCodon(ExtendedIUPACProtein(), '*'))"
      ]
     },
     "execution_count": 45,
     "metadata": {},
     "output_type": "execute_result"
    }
   ],
   "source": [
    "# Method 2\n",
    "# Direct translation of DNA to Amino Acid\n",
    "dna_seq.translate()"
   ]
  },
  {
   "cell_type": "code",
   "execution_count": 46,
   "metadata": {},
   "outputs": [
    {
     "data": {
      "text/plain": [
       "Seq('MIS@', HasStopCodon(ExtendedIUPACProtein(), '@'))"
      ]
     },
     "execution_count": 46,
     "metadata": {},
     "output_type": "execute_result"
    }
   ],
   "source": [
    "# Create our custom stop codon sym\n",
    "mRNA.translate(stop_symbol=\"@\")\n"
   ]
  },
  {
   "cell_type": "code",
   "execution_count": 47,
   "metadata": {},
   "outputs": [
    {
     "data": {
      "text/plain": [
       "Seq('ATGATCTCGTAA', DNAAlphabet())"
      ]
     },
     "execution_count": 47,
     "metadata": {},
     "output_type": "execute_result"
    }
   ],
   "source": [
    "# Back Transcription \n",
    "# mrna to DNA\n",
    "mRNA.back_transcribe()"
   ]
  },
  {
   "cell_type": "code",
   "execution_count": 48,
   "metadata": {},
   "outputs": [
    {
     "data": {
      "text/plain": [
       "True"
      ]
     },
     "execution_count": 48,
     "metadata": {},
     "output_type": "execute_result"
    }
   ],
   "source": [
    "mRNA.back_transcribe() == dna_seq"
   ]
  },
  {
   "cell_type": "code",
   "execution_count": 49,
   "metadata": {},
   "outputs": [
    {
     "data": {
      "text/plain": [
       "Seq('MIS*', HasStopCodon(ExtendedIUPACProtein(), '*'))"
      ]
     },
     "execution_count": 49,
     "metadata": {},
     "output_type": "execute_result"
    }
   ],
   "source": [
    "# join the steps\n",
    "dna_seq.transcribe().translate()"
   ]
  },
  {
   "cell_type": "code",
   "execution_count": 50,
   "metadata": {},
   "outputs": [],
   "source": [
    "# Convert Amino Acid to 3 letter\n",
    "from Bio.SeqUtils import seq3,seq1"
   ]
  },
  {
   "cell_type": "code",
   "execution_count": 51,
   "metadata": {},
   "outputs": [
    {
     "data": {
      "text/plain": [
       "Seq('MIS*', HasStopCodon(ExtendedIUPACProtein(), '*'))"
      ]
     },
     "execution_count": 51,
     "metadata": {},
     "output_type": "execute_result"
    }
   ],
   "source": [
    "aa = dna_seq.translate()\n",
    "aa"
   ]
  },
  {
   "cell_type": "code",
   "execution_count": 52,
   "metadata": {},
   "outputs": [
    {
     "data": {
      "text/plain": [
       "'MetIleSerTer'"
      ]
     },
     "execution_count": 52,
     "metadata": {},
     "output_type": "execute_result"
    }
   ],
   "source": [
    "seq3(aa)"
   ]
  },
  {
   "cell_type": "code",
   "execution_count": 53,
   "metadata": {},
   "outputs": [
    {
     "data": {
      "text/plain": [
       "'MIS*'"
      ]
     },
     "execution_count": 53,
     "metadata": {},
     "output_type": "execute_result"
    }
   ],
   "source": [
    "# From 3 letters to 1\n",
    "seq1('MetIleSerTer')"
   ]
  },
  {
   "cell_type": "markdown",
   "metadata": {},
   "source": [
    "## Amino Acids\n",
    "![](./images/aminoacidchart1.png)"
   ]
  },
  {
   "cell_type": "code",
   "execution_count": 54,
   "metadata": {},
   "outputs": [],
   "source": [
    "# View our codonTable\n",
    "from Bio.Data import CodonTable\n",
    "\n",
    "# methods \n",
    "# dir(CodonTable)"
   ]
  },
  {
   "cell_type": "code",
   "execution_count": 55,
   "metadata": {},
   "outputs": [
    {
     "name": "stdout",
     "output_type": "stream",
     "text": [
      "Table 1 Standard, SGC0\n",
      "\n",
      "  |  T      |  C      |  A      |  G      |\n",
      "--+---------+---------+---------+---------+--\n",
      "T | TTT F   | TCT S   | TAT Y   | TGT C   | T\n",
      "T | TTC F   | TCC S   | TAC Y   | TGC C   | C\n",
      "T | TTA L   | TCA S   | TAA Stop| TGA Stop| A\n",
      "T | TTG L(s)| TCG S   | TAG Stop| TGG W   | G\n",
      "--+---------+---------+---------+---------+--\n",
      "C | CTT L   | CCT P   | CAT H   | CGT R   | T\n",
      "C | CTC L   | CCC P   | CAC H   | CGC R   | C\n",
      "C | CTA L   | CCA P   | CAA Q   | CGA R   | A\n",
      "C | CTG L(s)| CCG P   | CAG Q   | CGG R   | G\n",
      "--+---------+---------+---------+---------+--\n",
      "A | ATT I   | ACT T   | AAT N   | AGT S   | T\n",
      "A | ATC I   | ACC T   | AAC N   | AGC S   | C\n",
      "A | ATA I   | ACA T   | AAA K   | AGA R   | A\n",
      "A | ATG M(s)| ACG T   | AAG K   | AGG R   | G\n",
      "--+---------+---------+---------+---------+--\n",
      "G | GTT V   | GCT A   | GAT D   | GGT G   | T\n",
      "G | GTC V   | GCC A   | GAC D   | GGC G   | C\n",
      "G | GTA V   | GCA A   | GAA E   | GGA G   | A\n",
      "G | GTG V   | GCG A   | GAG E   | GGG G   | G\n",
      "--+---------+---------+---------+---------+--\n"
     ]
    }
   ],
   "source": [
    "print(CodonTable.unambiguous_dna_by_name['Standard'])"
   ]
  },
  {
   "cell_type": "code",
   "execution_count": 56,
   "metadata": {},
   "outputs": [
    {
     "name": "stdout",
     "output_type": "stream",
     "text": [
      "Table 1 Standard, SGC0\n",
      "\n",
      "  |  U      |  C      |  A      |  G      |\n",
      "--+---------+---------+---------+---------+--\n",
      "U | UUU F   | UCU S   | UAU Y   | UGU C   | U\n",
      "U | UUC F   | UCC S   | UAC Y   | UGC C   | C\n",
      "U | UUA L   | UCA S   | UAA Stop| UGA Stop| A\n",
      "U | UUG L(s)| UCG S   | UAG Stop| UGG W   | G\n",
      "--+---------+---------+---------+---------+--\n",
      "C | CUU L   | CCU P   | CAU H   | CGU R   | U\n",
      "C | CUC L   | CCC P   | CAC H   | CGC R   | C\n",
      "C | CUA L   | CCA P   | CAA Q   | CGA R   | A\n",
      "C | CUG L(s)| CCG P   | CAG Q   | CGG R   | G\n",
      "--+---------+---------+---------+---------+--\n",
      "A | AUU I   | ACU T   | AAU N   | AGU S   | U\n",
      "A | AUC I   | ACC T   | AAC N   | AGC S   | C\n",
      "A | AUA I   | ACA T   | AAA K   | AGA R   | A\n",
      "A | AUG M(s)| ACG T   | AAG K   | AGG R   | G\n",
      "--+---------+---------+---------+---------+--\n",
      "G | GUU V   | GCU A   | GAU D   | GGU G   | U\n",
      "G | GUC V   | GCC A   | GAC D   | GGC G   | C\n",
      "G | GUA V   | GCA A   | GAA E   | GGA G   | A\n",
      "G | GUG V   | GCG A   | GAG E   | GGG G   | G\n",
      "--+---------+---------+---------+---------+--\n"
     ]
    }
   ],
   "source": [
    "# Rna codon table\n",
    "print(CodonTable.unambiguous_rna_by_name['Standard'])"
   ]
  },
  {
   "cell_type": "code",
   "execution_count": null,
   "metadata": {},
   "outputs": [],
   "source": []
  },
  {
   "cell_type": "code",
   "execution_count": null,
   "metadata": {},
   "outputs": [],
   "source": []
  },
  {
   "cell_type": "markdown",
   "metadata": {},
   "source": [
    "# DNA Composition : GC and AT Content"
   ]
  },
  {
   "cell_type": "markdown",
   "metadata": {},
   "source": [
    "#### GC Contents In DNA\n",
    "+ GC-content (or guanine-cytosine content) is the percentage of nitrogenous bases in a DNA or RNA molecule \n",
    "that are either Guanine (G) or Cytosine (C)\n",
    "\n",
    "A=T \n",
    "G=-C\n",
    "\n",
    "#### Usefulness\n",
    "+ In polymerase chain reaction (PCR) experiments, the GC-content of short oligonucleotides known as primers is often used to predict their annealing temperature to the template DNA. \n",
    "+ A higher GC-content level indicates a relatively higher melting temperature.\n",
    "+ DNA with low GC-content is less stable than DNA with high GC-content\n",
    "+ High GC content DNA can make it difficult to perform PCR amplication due to difficulty in designing a primer long enough to provide great specifity\n",
    "\n",
    "\n",
    "#### AT Contents in DNA\n",
    "+ AT content is the percentage of nitrogenous bases in a DNA or RNA molecule that are either Adenine (A) or Thymine (T)\n",
    "+ AT base pairing yields only 2 hydrogen bonds"
   ]
  },
  {
   "cell_type": "code",
   "execution_count": 57,
   "metadata": {},
   "outputs": [],
   "source": [
    "from Bio.SeqUtils import GC"
   ]
  },
  {
   "cell_type": "code",
   "execution_count": 58,
   "metadata": {},
   "outputs": [
    {
     "data": {
      "text/plain": [
       "Seq('ATGATCTCGTAA')"
      ]
     },
     "execution_count": 58,
     "metadata": {},
     "output_type": "execute_result"
    }
   ],
   "source": [
    "dna_seq"
   ]
  },
  {
   "cell_type": "code",
   "execution_count": 59,
   "metadata": {},
   "outputs": [
    {
     "data": {
      "text/plain": [
       "33.333333333333336"
      ]
     },
     "execution_count": 59,
     "metadata": {},
     "output_type": "execute_result"
    }
   ],
   "source": [
    "GC(dna_seq)"
   ]
  },
  {
   "cell_type": "code",
   "execution_count": 60,
   "metadata": {},
   "outputs": [
    {
     "data": {
      "text/plain": [
       "4"
      ]
     },
     "execution_count": 60,
     "metadata": {},
     "output_type": "execute_result"
    }
   ],
   "source": [
    "# Method 2\n",
    "# Custom Fxn to Get GC Count\n",
    "dna_seq.count('A')"
   ]
  },
  {
   "cell_type": "code",
   "execution_count": 61,
   "metadata": {},
   "outputs": [
    {
     "data": {
      "text/plain": [
       "33.33333333333333"
      ]
     },
     "execution_count": 61,
     "metadata": {},
     "output_type": "execute_result"
    }
   ],
   "source": [
    "\n",
    "def gc_content(seq):\n",
    "    result = float(seq.count('G') + seq.count('C')) / len(seq) * 100\n",
    "    return result\n",
    "\n",
    "gc_content(dna_seq)"
   ]
  },
  {
   "cell_type": "code",
   "execution_count": 62,
   "metadata": {},
   "outputs": [
    {
     "data": {
      "text/plain": [
       "33.33333333333333"
      ]
     },
     "execution_count": 62,
     "metadata": {},
     "output_type": "execute_result"
    }
   ],
   "source": [
    "# Method 3\n",
    "def gc_content2(seq):\n",
    "    gc = [Base for Base in seq.upper() if Base in 'GC']\n",
    "    result = float(len(gc))/len(seq) * 100\n",
    "    return result\n",
    "\n",
    "gc_content2(dna_seq)"
   ]
  },
  {
   "cell_type": "code",
   "execution_count": 63,
   "metadata": {},
   "outputs": [
    {
     "data": {
      "text/plain": [
       "Seq('atgatctcgtaa')"
      ]
     },
     "execution_count": 63,
     "metadata": {},
     "output_type": "execute_result"
    }
   ],
   "source": [
    "dna_seq.lower()"
   ]
  },
  {
   "cell_type": "code",
   "execution_count": 64,
   "metadata": {},
   "outputs": [
    {
     "data": {
      "text/plain": [
       "33.33333333333333"
      ]
     },
     "execution_count": 64,
     "metadata": {},
     "output_type": "execute_result"
    }
   ],
   "source": [
    "gc_content2('atgatctcgtaa')"
   ]
  },
  {
   "cell_type": "code",
   "execution_count": 65,
   "metadata": {},
   "outputs": [
    {
     "data": {
      "text/plain": [
       "33.333333333333336"
      ]
     },
     "execution_count": 65,
     "metadata": {},
     "output_type": "execute_result"
    }
   ],
   "source": [
    "GC('atgatctcgtaa')"
   ]
  },
  {
   "cell_type": "markdown",
   "metadata": {},
   "source": [
    "## AT Content"
   ]
  },
  {
   "cell_type": "code",
   "execution_count": 66,
   "metadata": {},
   "outputs": [
    {
     "data": {
      "text/plain": [
       "66.66666666666666"
      ]
     },
     "execution_count": 66,
     "metadata": {},
     "output_type": "execute_result"
    }
   ],
   "source": [
    "# Fxn for AT Content\n",
    "\n",
    "def at_content(seq):\n",
    "    result = float(seq.count('A') + seq.count('T')) / len(seq) * 100\n",
    "    return result\n",
    "\n",
    "at_content(dna_seq)"
   ]
  },
  {
   "cell_type": "markdown",
   "metadata": {},
   "source": [
    "### Melting Point of DNA\n",
    "\n",
    "+ Higher GC means high melting point\n",
    "+ Tm_Wallace: 'Rule of thumb'\n",
    "+ Tm_GC: Empirical formulas based on GC content. Salt and mismatch corrections can be included.\n",
    "+ Tm_NN: Calculation based on nearest neighbor thermodynamics. Several tables for DNA/DNA, DNA/RNA and RNA/RNA hybridizations are included. Correction for mismatches, dangling ends, salt concentration and other additives are available.\n",
    "    - further info : https://biopython.org/DIST/docs/api/Bio.SeqUtils.MeltingTemp-module.html"
   ]
  },
  {
   "cell_type": "code",
   "execution_count": 67,
   "metadata": {},
   "outputs": [],
   "source": [
    "import Bio.SeqUtils\n",
    "from Bio.SeqUtils import MeltingTemp as mt\n",
    "\n",
    "# dir(Bio.SeqUtils)"
   ]
  },
  {
   "cell_type": "code",
   "execution_count": 68,
   "metadata": {},
   "outputs": [
    {
     "data": {
      "text/plain": [
       "Seq('ATGATCTCGTAA')"
      ]
     },
     "execution_count": 68,
     "metadata": {},
     "output_type": "execute_result"
    }
   ],
   "source": [
    "dna_seq"
   ]
  },
  {
   "cell_type": "code",
   "execution_count": 69,
   "metadata": {},
   "outputs": [
    {
     "data": {
      "text/plain": [
       "33.333333333333336"
      ]
     },
     "execution_count": 69,
     "metadata": {},
     "output_type": "execute_result"
    }
   ],
   "source": [
    "GC(dna_seq)"
   ]
  },
  {
   "cell_type": "code",
   "execution_count": 70,
   "metadata": {},
   "outputs": [
    {
     "name": "stdout",
     "output_type": "stream",
     "text": [
      "Wallence : 32.0 and GC : 23.32155893208184 \n"
     ]
    }
   ],
   "source": [
    "# Check for the melting point using wallace\n",
    "w  = mt.Tm_Wallace(dna_seq)\n",
    "\n",
    "# Check for the melting point using GC content\n",
    "gc = mt.Tm_GC(dna_seq)\n",
    "\n",
    "print(\"Wallence : {} and GC : {} \".format(w,gc))"
   ]
  },
  {
   "cell_type": "code",
   "execution_count": null,
   "metadata": {},
   "outputs": [],
   "source": []
  },
  {
   "cell_type": "code",
   "execution_count": null,
   "metadata": {},
   "outputs": [],
   "source": []
  },
  {
   "cell_type": "markdown",
   "metadata": {},
   "source": [
    "#### Exercise\n",
    "+ Which of the following sequence will have the highest GC ?\n",
    "+ ex1 = 'ATGCATGGTGCGCGA'\n",
    "+ ex2 = 'ATTTGTGCTCCTGGA'"
   ]
  },
  {
   "cell_type": "code",
   "execution_count": 71,
   "metadata": {},
   "outputs": [],
   "source": [
    "ex1 = 'ATGCATGGTGCGCGA'\n",
    "ex2 = 'ATTTGTGCTCCTGGA'"
   ]
  },
  {
   "cell_type": "code",
   "execution_count": 72,
   "metadata": {},
   "outputs": [],
   "source": [
    "def get_metrics(seq):\n",
    "    gc = GC(seq)\n",
    "    at = at_content(seq)\n",
    "    melting = mt.Tm_GC(seq)\n",
    "    result = \"GC : {}, AT : {}, Temp : {}\".format(gc,at,melting)\n",
    "    return result"
   ]
  },
  {
   "cell_type": "code",
   "execution_count": 73,
   "metadata": {},
   "outputs": [
    {
     "name": "stdout",
     "output_type": "stream",
     "text": [
      "GC : 60.0, AT : 40.0, Temp : 44.254892265415165\n",
      "GC : 46.666666666666664, AT : 53.333333333333336, Temp : 38.7882255987485\n"
     ]
    }
   ],
   "source": [
    "print(get_metrics(ex1))\n",
    "print(get_metrics(ex2))"
   ]
  },
  {
   "cell_type": "code",
   "execution_count": null,
   "metadata": {},
   "outputs": [],
   "source": []
  },
  {
   "cell_type": "markdown",
   "metadata": {},
   "source": [
    "### GC Skew\n",
    "+ check when the nucleotide (G,C) are over or under abundant in a particular region of a DNA or RNA\n",
    "+ Helps to indictate DNA lagging strand or leading strand\n",
    "+ GC skew pos = leading\n",
    "+ GC skew neg = lagging"
   ]
  },
  {
   "cell_type": "code",
   "execution_count": 74,
   "metadata": {},
   "outputs": [
    {
     "data": {
      "text/plain": [
       "Seq('ATGATCTCGTAA')"
      ]
     },
     "execution_count": 74,
     "metadata": {},
     "output_type": "execute_result"
    }
   ],
   "source": [
    "from Bio.SeqUtils import GC123, GC_skew, xGC_skew\n",
    "\n",
    "# further info : https://biopython.org/DIST/docs/api/Bio.SeqUtils-module.html\n",
    "\n",
    "\n",
    "# GC(seq)\n",
    "# Calculate G+C content, return percentage (as float between 0 and 100).\n",
    "\n",
    "# GC123(seq)\n",
    "# Calculate G+C content: total, for first, second and third positions.\n",
    "\n",
    "# GC_skew(seq, window=100)\n",
    "# Calculate GC skew (G-C)/(G+C) for multiple windows along the sequence.\n",
    "\n",
    "# xGC_skew(seq, window=1000, zoom=100, r=300, px=100, py=100)\n",
    "# Calculate and plot normal and accumulated GC skew (GRAPHICS !!!).\n",
    "\n",
    "\n",
    "dna_seq"
   ]
  },
  {
   "cell_type": "code",
   "execution_count": 75,
   "metadata": {},
   "outputs": [
    {
     "data": {
      "text/plain": [
       "33.333333333333336"
      ]
     },
     "execution_count": 75,
     "metadata": {},
     "output_type": "execute_result"
    }
   ],
   "source": [
    "GC(dna_seq)"
   ]
  },
  {
   "cell_type": "code",
   "execution_count": 76,
   "metadata": {},
   "outputs": [
    {
     "data": {
      "text/plain": [
       "(33.333333333333336, 0.0, 25.0, 75.0)"
      ]
     },
     "execution_count": 76,
     "metadata": {},
     "output_type": "execute_result"
    }
   ],
   "source": [
    "GC123(dna_seq)"
   ]
  },
  {
   "cell_type": "code",
   "execution_count": 77,
   "metadata": {},
   "outputs": [
    {
     "data": {
      "text/plain": [
       "[0.0, 0.0]"
      ]
     },
     "execution_count": 77,
     "metadata": {},
     "output_type": "execute_result"
    }
   ],
   "source": [
    "# GC_Skew\n",
    "GC_skew(dna_seq,10)"
   ]
  },
  {
   "cell_type": "code",
   "execution_count": 78,
   "metadata": {},
   "outputs": [
    {
     "data": {
      "text/plain": [
       "[0.0]"
      ]
     },
     "execution_count": 78,
     "metadata": {},
     "output_type": "execute_result"
    }
   ],
   "source": [
    "GC_skew('ATGGGGTCCCGCTC')"
   ]
  },
  {
   "cell_type": "markdown",
   "metadata": {},
   "source": [
    "### Subsequences\n",
    "+ Search for a DNA subseq in sequence, return list of [subseq, positions]"
   ]
  },
  {
   "cell_type": "code",
   "execution_count": 79,
   "metadata": {},
   "outputs": [],
   "source": [
    "from Bio.SeqUtils import nt_search"
   ]
  },
  {
   "cell_type": "code",
   "execution_count": 80,
   "metadata": {},
   "outputs": [
    {
     "data": {
      "text/plain": [
       "['ATT', 3]"
      ]
     },
     "execution_count": 80,
     "metadata": {},
     "output_type": "execute_result"
    }
   ],
   "source": [
    "main_seq = Seq('ACTATT')\n",
    "sub_seq  = Seq('ATT')\n",
    "\n",
    "nt_search(str(main_seq), str(sub_seq))"
   ]
  },
  {
   "cell_type": "markdown",
   "metadata": {},
   "source": [
    "### Sequence Alignment\n",
    "+ Sequence alignment is a method of arranging sequences of DNA, RNA, or Amino Acids or proteins to identify regions of similarity. \n",
    "+ The similarity being identified, may be a result of functional, structural, or evolutionary relationships between the sequences.\n",
    "+ It is useful in identifying similarity and homology\n",
    "+ Homology: descent from a common ancestor or source.\n",
    "\n",
    "#### Terms\n",
    "+ Matches\n",
    "+ Mismatches\n",
    "+ Gap\n",
    "\n",
    "![](./images/aligngap.png)\n",
    "\n",
    "#### Alignment Types\n",
    "+ Global alignment: finds the best concordance/agreement betwenn all characters in two sequences\n",
    "    + Mostly from end to end\n",
    "    + By Needle\n",
    "+ Local Alignment: finds just the subsequences that align the best\n",
    "    + In this method, we consider subsequences within each of the 2 sequences and try to match them to obtain the best alignment.\n",
    "    + By Water\n",
    " \n",
    "![](./images/localvsglobalalignment.jpg)\n",
    "\n",
    "#### When to use local alignment\n",
    "\n",
    "+ 2 sequences have a small matched region\n",
    "+ 2 Sequences are of different lengths\n",
    "+ Overlapping sequences\n",
    "+ One sequences is a subsequences of the other\n",
    "+ Blast\n",
    "+ Emboss"
   ]
  },
  {
   "cell_type": "code",
   "execution_count": 81,
   "metadata": {},
   "outputs": [],
   "source": [
    "from Bio import pairwise2\n",
    "from Bio.pairwise2 import format_alignment\n",
    "\n",
    "seq1 = Seq('ACTCGT')\n",
    "seq2 = Seq('ATTCG')"
   ]
  },
  {
   "cell_type": "code",
   "execution_count": 82,
   "metadata": {},
   "outputs": [],
   "source": [
    "# Global Alignment\n",
    "alignments = pairwise2.align.globalxx(seq1, seq2)\n"
   ]
  },
  {
   "cell_type": "code",
   "execution_count": 83,
   "metadata": {},
   "outputs": [
    {
     "data": {
      "text/plain": [
       "[Alignment(seqA='ACT-CGT', seqB='A-TTCG-', score=4.0, start=0, end=7),\n",
       " Alignment(seqA='AC-TCGT', seqB='A-TTCG-', score=4.0, start=0, end=7),\n",
       " Alignment(seqA='ACTCGT', seqB='ATTCG-', score=4.0, start=0, end=6)]"
      ]
     },
     "execution_count": 83,
     "metadata": {},
     "output_type": "execute_result"
    }
   ],
   "source": [
    "alignments"
   ]
  },
  {
   "cell_type": "code",
   "execution_count": 84,
   "metadata": {},
   "outputs": [
    {
     "name": "stdout",
     "output_type": "stream",
     "text": [
      "ACT-CGT\n",
      "| | || \n",
      "A-TTCG-\n",
      "  Score=4\n",
      "\n"
     ]
    }
   ],
   "source": [
    "# To display the alignment\n",
    "print(format_alignment(*alignments[0]))"
   ]
  },
  {
   "cell_type": "code",
   "execution_count": 85,
   "metadata": {},
   "outputs": [
    {
     "name": "stdout",
     "output_type": "stream",
     "text": [
      "ACT-CGT\n",
      "| | || \n",
      "A-TTCG-\n",
      "  Score=4\n",
      "\n",
      "AC-TCGT\n",
      "|  ||| \n",
      "A-TTCG-\n",
      "  Score=4\n",
      "\n",
      "ACTCGT\n",
      "|.||| \n",
      "ATTCG-\n",
      "  Score=4\n",
      "\n"
     ]
    }
   ],
   "source": [
    "# View all\n",
    "for i in alignments:\n",
    "    print(format_alignment(*i))"
   ]
  },
  {
   "cell_type": "code",
   "execution_count": 86,
   "metadata": {},
   "outputs": [],
   "source": [
    "# Local Alignment\n",
    "loc_alignments = pairwise2.align.localxx(seq1, seq2)"
   ]
  },
  {
   "cell_type": "code",
   "execution_count": 87,
   "metadata": {},
   "outputs": [
    {
     "name": "stdout",
     "output_type": "stream",
     "text": [
      "1 ACT-CG\n",
      "  | | ||\n",
      "1 A-TTCG\n",
      "  Score=4\n",
      "\n",
      "1 AC-TCG\n",
      "  |  |||\n",
      "1 A-TTCG\n",
      "  Score=4\n",
      "\n",
      "1 ACTCG\n",
      "  |.|||\n",
      "1 ATTCG\n",
      "  Score=4\n",
      "\n"
     ]
    }
   ],
   "source": [
    "# View all\n",
    "for i in loc_alignments:\n",
    "    print(format_alignment(*i))"
   ]
  },
  {
   "cell_type": "code",
   "execution_count": 88,
   "metadata": {},
   "outputs": [
    {
     "data": {
      "text/plain": [
       "4.0"
      ]
     },
     "execution_count": 88,
     "metadata": {},
     "output_type": "execute_result"
    }
   ],
   "source": [
    "# Get the aligment by only the score\n",
    "alignments2 = pairwise2.align.globalxx(seq1,seq2,one_alignment_only=True,score_only=True)\n",
    "alignments2"
   ]
  },
  {
   "cell_type": "code",
   "execution_count": 89,
   "metadata": {},
   "outputs": [
    {
     "data": {
      "text/plain": [
       "float"
      ]
     },
     "execution_count": 89,
     "metadata": {},
     "output_type": "execute_result"
    }
   ],
   "source": [
    "type(alignments2)"
   ]
  },
  {
   "cell_type": "markdown",
   "metadata": {},
   "source": [
    "#### Check for similarity or percentage of similarity using Alignment\n",
    "+ fraction of nucleotides that is the same/ total number of nucleotides * 100%\n"
   ]
  },
  {
   "cell_type": "code",
   "execution_count": 90,
   "metadata": {},
   "outputs": [
    {
     "data": {
      "text/plain": [
       "Seq('ACTCGT')"
      ]
     },
     "execution_count": 90,
     "metadata": {},
     "output_type": "execute_result"
    }
   ],
   "source": [
    "seq1"
   ]
  },
  {
   "cell_type": "code",
   "execution_count": 91,
   "metadata": {},
   "outputs": [
    {
     "data": {
      "text/plain": [
       "Seq('ATTCG')"
      ]
     },
     "execution_count": 91,
     "metadata": {},
     "output_type": "execute_result"
    }
   ],
   "source": [
    "seq2"
   ]
  },
  {
   "cell_type": "code",
   "execution_count": 92,
   "metadata": {},
   "outputs": [
    {
     "data": {
      "text/plain": [
       "66.66666666666666"
      ]
     },
     "execution_count": 92,
     "metadata": {},
     "output_type": "execute_result"
    }
   ],
   "source": [
    "alignments2/len(seq1) * 100"
   ]
  },
  {
   "cell_type": "code",
   "execution_count": 93,
   "metadata": {},
   "outputs": [],
   "source": [
    "# Get the alignment by only the score\n",
    "loc_alignment2 = pairwise2.align.localxx(seq1,seq2,one_alignment_only=True,score_only=True)"
   ]
  },
  {
   "cell_type": "code",
   "execution_count": 94,
   "metadata": {},
   "outputs": [
    {
     "data": {
      "text/plain": [
       "66.66666666666666"
      ]
     },
     "execution_count": 94,
     "metadata": {},
     "output_type": "execute_result"
    }
   ],
   "source": [
    "loc_alignment2/len(seq1) * 100"
   ]
  },
  {
   "cell_type": "markdown",
   "metadata": {},
   "source": [
    "### Find out all the possible global alignments with the maximum similarity score\n",
    "+ Matching characters :2 points, \n",
    "+ Each mismatching character: -1 point\n",
    "+ 0.5 points are deducted when opening a gap, \n",
    "+ 0.1 points are deducted when extending it."
   ]
  },
  {
   "cell_type": "code",
   "execution_count": 95,
   "metadata": {},
   "outputs": [],
   "source": [
    "# GLobal alignment with max sim\n",
    "glb_alignment = pairwise2.align.globalms(seq1,seq2,2,-1,-0.5,-0.1)"
   ]
  },
  {
   "cell_type": "code",
   "execution_count": 96,
   "metadata": {},
   "outputs": [
    {
     "name": "stdout",
     "output_type": "stream",
     "text": [
      "ACT-CGT\n",
      "| | || \n",
      "A-TTCG-\n",
      "  Score=6.5\n",
      "\n",
      "AC-TCGT\n",
      "|  ||| \n",
      "A-TTCG-\n",
      "  Score=6.5\n",
      "\n",
      "ACTCGT\n",
      "|.||| \n",
      "ATTCG-\n",
      "  Score=6.5\n",
      "\n"
     ]
    }
   ],
   "source": [
    "# View all\n",
    "for i in glb_alignment:\n",
    "    print(format_alignment(*i))"
   ]
  },
  {
   "cell_type": "code",
   "execution_count": 97,
   "metadata": {},
   "outputs": [
    {
     "name": "stdout",
     "output_type": "stream",
     "text": [
      "A v B :  100.0\n",
      "B v C :  100.0\n",
      "A v C :  85.71428571428571\n"
     ]
    }
   ],
   "source": [
    "seqA = Seq('AAGGCTT')\n",
    "seqB = Seq('AAGGC')\n",
    "seqC = Seq('AAGGCAT')\n",
    "AvB = pairwise2.align.localxx(seqA,seqB,one_alignment_only=True,score_only=True)\n",
    "BvC = pairwise2.align.localxx(seqB,seqC,one_alignment_only=True,score_only=True)\n",
    "AvC = pairwise2.align.localxx(seqA,seqC,one_alignment_only=True,score_only=True)\n",
    "print(\"A v B : \", AvB/len(seqB) *100)\n",
    "print(\"B v C : \", BvC/len(seqB) *100)\n",
    "print(\"A v C : \", AvC/len(seqA) *100)"
   ]
  },
  {
   "cell_type": "code",
   "execution_count": null,
   "metadata": {},
   "outputs": [],
   "source": []
  },
  {
   "cell_type": "markdown",
   "metadata": {},
   "source": [
    "### Checking for Similarity Between Sequences\n",
    "+ Sequence Alignment\n",
    "    - Dynamic Programming (Global/Local/(needle/water))\n",
    "    - Dotplot\n",
    "    \n",
    "+ Similarity: resemblance between two sequences in comparison\n",
    "    - the minimal number of edit operations (inserts, deletes, and substitutions) in order to transform the one sequence into an exact copy of the other sequence being aligned \n",
    "    - distance\n",
    "+ Identity: the number of charaters that match EXACTLY between two different sequences\n",
    "    + Gaps are not counted \n",
    "    + The measurement is relational to the shorter of the two sequences. \n",
    "    + This has the effect that sequence identity is not transitive, i.e. \n",
    "    + if sequence A=B and B=C then A is not necessarily equal C (in terms of the identity distance measure) :\n",
    " \n",
    " \n",
    " - A: AAGGCTT\n",
    " - B: AAGGC\n",
    " - C: AAGGCAT"
   ]
  },
  {
   "cell_type": "markdown",
   "metadata": {},
   "source": [
    "+ Here identity(A,B)=100% (5 identical nucleotides / min(length(A),length(B))).\n",
    "Identity(B,C)=100%, but identity(A,C)=85% ((6 identical nucleotides / 7)). So 100% identity does not mean two sequences are the same.\n",
    "+ Sequence similarity is first of all a general description of a relationship but nevertheless its more or less common practice to define similarity as an optimal matching problem (for sequence alignments or unless defined otherwise). \n",
    "+ Hereby, the optimal matching algorithm finds the minimal number of edit operations (inserts, deletes, and substitutions) in order to transform the one sequence into an exact copy of the other sequence being aligned (edit distance). \n",
    "+ Using this, the percentage sequence similarity of the examples above are sim(A,B)=60%, sim(B,C)=60%, sim(A,C)=86% (semi-global, sim=1-(edit distance/unaligned length of the shorter sequence)). But there are other ways to define similarity between two objects (e.g. using tertiary strucure of proteins).\n",
    "An then you might start to conclude from similarity to homology, but this was already covered sufficiently\n",
    "+ read more https://www.researchgate.net/post/Homology_similarity_and_identity-can_anyone_help_with_these_terms"
   ]
  },
  {
   "cell_type": "code",
   "execution_count": 98,
   "metadata": {},
   "outputs": [
    {
     "name": "stdout",
     "output_type": "stream",
     "text": [
      "AvB 100.0\n"
     ]
    }
   ],
   "source": [
    "from Bio.Seq import Seq\n",
    "from Bio import pairwise2\n",
    "\n",
    "seqA = Seq('AAGGCTT')\n",
    "seqB = Seq('AAGGC')\n",
    "seqC = Seq('AAGGCAT')\n",
    "\n",
    "AvB = pairwise2.align.localxx(seqA,seqB,one_alignment_only=True,score_only=True)\n",
    "BvC = pairwise2.align.localxx(seqB,seqC,one_alignment_only=True,score_only=True)\n",
    "AvC = pairwise2.align.localxx(seqA,seqC,one_alignment_only=True,score_only=True)\n",
    "\n",
    "print(\"AvB\",AvB/len(seqB) *100)"
   ]
  },
  {
   "cell_type": "markdown",
   "metadata": {},
   "source": [
    "#### Narative\n",
    "+ Seq A and Seq B are 100 identical"
   ]
  },
  {
   "cell_type": "code",
   "execution_count": 99,
   "metadata": {},
   "outputs": [
    {
     "name": "stdout",
     "output_type": "stream",
     "text": [
      "BvC :  100.0\n",
      "AvC :  85.71428571428571\n"
     ]
    }
   ],
   "source": [
    "print(\"BvC : \",BvC/len(seqB) *100)\n",
    "print(\"AvC : \",AvC/len(seqC) *100)"
   ]
  },
  {
   "cell_type": "code",
   "execution_count": 100,
   "metadata": {},
   "outputs": [
    {
     "data": {
      "text/plain": [
       "False"
      ]
     },
     "execution_count": 100,
     "metadata": {},
     "output_type": "execute_result"
    }
   ],
   "source": [
    "# Check if same\n",
    "seqA == seqB"
   ]
  },
  {
   "cell_type": "markdown",
   "metadata": {},
   "source": [
    "#### Hamming distance: shows how many places 2 strings differ\n",
    "+ Hamming distance between two strings of equal length is the number of positions at which the corresponding symbols are different. \n",
    "+ In other words, it measures the minimum number of substitutions required to change one string into the other, or the minimum number of errors that could have transformed one string into the othe\n",
    "+ It is used for error detection or error correction\n",
    "+ It is used to quantify the similarity of DNA sequences,\n",
    "+ For checking the edit distance\n",
    " - edit distance is a way of quantifying how dissimilar two strings (e.g., words) are to one another by counting the minimum number of operations required to transform one string into the other. \n",
    " - eg Levenshtein distance\n",
    "\n",
    "#### Levenshtein distance\n",
    "+ This method was invented in 1965 by the Russian Mathematician Vladimir Levenshtein (1935-2017). \n",
    "+ The distance value describes the minimal number of deletions, insertions, or substitutions that are required to transform one string (the source) into another (the target). \n",
    "+ Unlike the Hamming distance, the Levenshtein distance works on strings with an unequal length\n",
    "\n",
    "+ pip install python-Levenshtein"
   ]
  },
  {
   "cell_type": "code",
   "execution_count": 101,
   "metadata": {},
   "outputs": [],
   "source": [
    "seq1 = Seq('ACTAT')\n",
    "seq2 = Seq('ACTTA')\n",
    "seq3 = Seq('ACTT')"
   ]
  },
  {
   "cell_type": "code",
   "execution_count": 102,
   "metadata": {},
   "outputs": [
    {
     "data": {
      "text/plain": [
       "2"
      ]
     },
     "execution_count": 102,
     "metadata": {},
     "output_type": "execute_result"
    }
   ],
   "source": [
    "# Hamming Distance fxn\n",
    "def hamming_distance(lhs,rhs):\n",
    "    return len([(x,y) for x,y in zip(lhs,rhs) if x != y])\n",
    "\n",
    "hamming_distance(seq1, seq2)"
   ]
  },
  {
   "cell_type": "code",
   "execution_count": 103,
   "metadata": {},
   "outputs": [
    {
     "data": {
      "text/plain": [
       "0"
      ]
     },
     "execution_count": 103,
     "metadata": {},
     "output_type": "execute_result"
    }
   ],
   "source": [
    "# 0 if the same\n",
    "hamming_distance(seq1, seq1)"
   ]
  },
  {
   "cell_type": "code",
   "execution_count": 104,
   "metadata": {},
   "outputs": [
    {
     "name": "stdout",
     "output_type": "stream",
     "text": [
      "ACTAT\n",
      "TATCA\n"
     ]
    }
   ],
   "source": [
    "print(seq1)\n",
    "print(seq1[::-1])"
   ]
  },
  {
   "cell_type": "code",
   "execution_count": 105,
   "metadata": {},
   "outputs": [
    {
     "data": {
      "text/plain": [
       "4"
      ]
     },
     "execution_count": 105,
     "metadata": {},
     "output_type": "execute_result"
    }
   ],
   "source": [
    "hamming_distance(seq1,seq1[::-1])"
   ]
  },
  {
   "cell_type": "code",
   "execution_count": 106,
   "metadata": {},
   "outputs": [
    {
     "data": {
      "text/plain": [
       "1"
      ]
     },
     "execution_count": 106,
     "metadata": {},
     "output_type": "execute_result"
    }
   ],
   "source": [
    "hamming_distance(seq1,seq3)"
   ]
  },
  {
   "cell_type": "markdown",
   "metadata": {},
   "source": [
    "#### Levenshtein Distance"
   ]
  },
  {
   "cell_type": "code",
   "execution_count": 107,
   "metadata": {},
   "outputs": [],
   "source": [
    "#!pip install python-Levenshtein\n",
    "from Levenshtein import distance"
   ]
  },
  {
   "cell_type": "code",
   "execution_count": 108,
   "metadata": {},
   "outputs": [
    {
     "data": {
      "text/plain": [
       "2"
      ]
     },
     "execution_count": 108,
     "metadata": {},
     "output_type": "execute_result"
    }
   ],
   "source": [
    "distance(str(seq1),str(seq2))"
   ]
  },
  {
   "cell_type": "code",
   "execution_count": 109,
   "metadata": {},
   "outputs": [
    {
     "name": "stdout",
     "output_type": "stream",
     "text": [
      "Hamming Distance 2\n",
      "Levenshtein Distance 2\n"
     ]
    }
   ],
   "source": [
    "print(\"Hamming Distance\",hamming_distance(seq1,seq2))\n",
    "print(\"Levenshtein Distance\",distance(str(seq1),str(seq2)))"
   ]
  },
  {
   "cell_type": "code",
   "execution_count": 110,
   "metadata": {},
   "outputs": [
    {
     "name": "stdout",
     "output_type": "stream",
     "text": [
      "Hamming Distance 1\n",
      "Levenshtein Distance 1\n"
     ]
    }
   ],
   "source": [
    "print(\"Hamming Distance\",hamming_distance(seq1,seq3))\n",
    "print(\"Levenshtein Distance\",distance(str(seq1),str(seq3)))"
   ]
  },
  {
   "cell_type": "markdown",
   "metadata": {},
   "source": [
    "### Dot Plot\n",
    "+ A dot plot is a graphical method that allows the comparison of two biological sequences \n",
    "and identify regions of close similarity between them.\n",
    "+ Simplest method - put a dot wherever\n",
    "sequences are identical \n",
    "+ Dot plots compare two sequences by organizing one sequence on the x-axis, and another on the y-axis, of a plot. \n",
    "+ When the residues of both sequences match at the same location on the plot, a dot is drawn at the corresponding position\n",
    "\n",
    "#### usefulness\n",
    "+ Dot plots can also be used to visually inspect sequences for \n",
    "  - direct or inverted repeats\n",
    "  - regions with low sequence complexity.\n",
    "  - Similar regions\n",
    "  - Repeated sequences\n",
    "  - Sequence rearrangements\n",
    "  - RNA structures\n",
    "  - Gene order\n",
    "\n",
    "+ Link :https://stackoverflow.com/questions/40822400/how-to-create-a-dotplot-of-two-dna-sequence-in-python"
   ]
  },
  {
   "cell_type": "code",
   "execution_count": 111,
   "metadata": {},
   "outputs": [],
   "source": [
    "\n",
    "def delta(x,y):\n",
    "    return 0 if x == y else 1\n",
    "\n",
    "\n",
    "def M(seq1,seq2,i,j,k):\n",
    "    return sum(delta(x,y) for x,y in zip(seq1[i:i+k],seq2[j:j+k]))\n",
    "\n",
    "\n",
    "def makeMatrix(seq1,seq2,k):\n",
    "    n = len(seq1)\n",
    "    m = len(seq2)\n",
    "    return [[M(seq1,seq2,i,j,k) for j in range(m-k+1)] for i in range(n-k+1)]\n",
    "\n",
    "\n",
    "def plotMatrix(M,t, seq1, seq2, nonblank = chr(0x25A0), blank = ' '):\n",
    "    print(' |' + seq2)\n",
    "    print('-'*(2 + len(seq2)))\n",
    "    for label,row in zip(seq1,M):\n",
    "        line = ''.join(nonblank if s < t else blank for s in row)\n",
    "        print(label + '|' + line)\n",
    "\n",
    "\n",
    "def dotplot(seq1,seq2,k = 1,t = 1):\n",
    "    M = makeMatrix(seq1,seq2,k)\n",
    "    plotMatrix(M, t, seq1,seq2) #experiment with character choice"
   ]
  },
  {
   "cell_type": "code",
   "execution_count": 112,
   "metadata": {},
   "outputs": [],
   "source": [
    "from Bio.Seq import Seq"
   ]
  },
  {
   "cell_type": "code",
   "execution_count": 113,
   "metadata": {},
   "outputs": [
    {
     "name": "stdout",
     "output_type": "stream",
     "text": [
      " |AC\n",
      "----\n",
      "A|■ \n",
      "C| ■\n",
      "T|  \n",
      "T|  \n",
      "A|■ \n",
      "G|  \n"
     ]
    }
   ],
   "source": [
    "seq1 = Seq('ACTTAG')\n",
    "seq2 = Seq('AC')\n",
    "\n",
    "dotplot(seq1,seq2)"
   ]
  },
  {
   "cell_type": "code",
   "execution_count": 114,
   "metadata": {},
   "outputs": [
    {
     "name": "stdout",
     "output_type": "stream",
     "text": [
      " |ACTTAG\n",
      "--------\n",
      "A|■   ■ \n",
      "C| ■    \n",
      "T|  ■■  \n",
      "T|  ■■  \n",
      "A|■   ■ \n",
      "G|     ■\n"
     ]
    }
   ],
   "source": [
    "# Indentical show diagonal\n",
    "dotplot(seq1,seq1)"
   ]
  },
  {
   "cell_type": "code",
   "execution_count": 115,
   "metadata": {},
   "outputs": [
    {
     "name": "stdout",
     "output_type": "stream",
     "text": [
      " |LOVE\n",
      "------\n",
      "L|■   \n",
      "O| ■  \n",
      "V|  ■ \n",
      "E|   ■\n"
     ]
    }
   ],
   "source": [
    "# Indentical show diagonal\n",
    "dotplot('LOVE','LOVE')"
   ]
  },
  {
   "cell_type": "code",
   "execution_count": 116,
   "metadata": {},
   "outputs": [],
   "source": [
    "import matplotlib.pyplot as plt\n",
    "import numpy as np\n"
   ]
  },
  {
   "cell_type": "code",
   "execution_count": 117,
   "metadata": {},
   "outputs": [
    {
     "data": {
      "image/png": "[encoded data removed]",
      "text/plain": [
       "<Figure size 432x288 with 1 Axes>"
      ]
     },
     "metadata": {
      "needs_background": "light"
     },
     "output_type": "display_data"
    }
   ],
   "source": [
    "# Add Some fancyness to it\n",
    "plt.imshow(np.array(makeMatrix(seq1,seq2,1)))\n",
    "xt=plt.xticks(np.arange(len(list(seq1))),list(seq1))\n",
    "yt=plt.yticks(np.arange(len(list(seq1))),list(seq1))\n",
    "plt.show()"
   ]
  },
  {
   "cell_type": "code",
   "execution_count": 118,
   "metadata": {},
   "outputs": [
    {
     "data": {
      "image/png": "[encoded data removed]",
      "text/plain": [
       "<Figure size 432x288 with 1 Axes>"
      ]
     },
     "metadata": {
      "needs_background": "light"
     },
     "output_type": "display_data"
    }
   ],
   "source": [
    "# Convert to Fxn\n",
    "def dotplotx(seq1,seq2):\n",
    "    plt.imshow(np.array(makeMatrix(seq1,seq2,1)))\n",
    "    # on x-axis list all sequences of seq 2\n",
    "    xt=plt.xticks(np.arange(len(list(seq2))),list(seq2))\n",
    "    # on y-axis list all sequences of seq 1\n",
    "    yt=plt.yticks(np.arange(len(list(seq1))),list(seq1))\n",
    "    plt.show()\n",
    "    \n",
    "\n",
    "dotplotx(seq1,seq2)"
   ]
  },
  {
   "cell_type": "code",
   "execution_count": 119,
   "metadata": {},
   "outputs": [],
   "source": [
    "dna1 = Seq(\"ATGATCTCGTAA\",generic_dna)\n",
    "dna2 = Seq(\"ATTATGTCGTAA\",generic_dna)"
   ]
  },
  {
   "cell_type": "code",
   "execution_count": 120,
   "metadata": {},
   "outputs": [
    {
     "name": "stdout",
     "output_type": "stream",
     "text": [
      " |ATTATGTCGTAA\n",
      "--------------\n",
      "A|■  ■      ■■\n",
      "T| ■■ ■ ■  ■  \n",
      "G|     ■  ■   \n",
      "A|■  ■      ■■\n",
      "T| ■■ ■ ■  ■  \n",
      "C|       ■    \n",
      "T| ■■ ■ ■  ■  \n",
      "C|       ■    \n",
      "G|     ■  ■   \n",
      "T| ■■ ■ ■  ■  \n",
      "A|■  ■      ■■\n",
      "A|■  ■      ■■\n"
     ]
    }
   ],
   "source": [
    "dotplot(dna1,dna2)"
   ]
  },
  {
   "cell_type": "code",
   "execution_count": 121,
   "metadata": {},
   "outputs": [
    {
     "data": {
      "image/png": "[encoded data removed]",
      "text/plain": [
       "<Figure size 432x288 with 1 Axes>"
      ]
     },
     "metadata": {
      "needs_background": "light"
     },
     "output_type": "display_data"
    }
   ],
   "source": [
    "dotplotx(dna1,dna2)"
   ]
  },
  {
   "cell_type": "code",
   "execution_count": 122,
   "metadata": {},
   "outputs": [
    {
     "data": {
      "image/png": "[encoded data removed]",
      "text/plain": [
       "<Figure size 432x288 with 1 Axes>"
      ]
     },
     "metadata": {
      "needs_background": "light"
     },
     "output_type": "display_data"
    }
   ],
   "source": [
    "dotplotx(dna1,dna1)"
   ]
  },
  {
   "cell_type": "code",
   "execution_count": 123,
   "metadata": {},
   "outputs": [
    {
     "data": {
      "image/png": "[encoded data removed]",
      "text/plain": [
       "<Figure size 432x288 with 1 Axes>"
      ]
     },
     "metadata": {
      "needs_background": "light"
     },
     "output_type": "display_data"
    }
   ],
   "source": [
    "dna1 = Seq(\"ATGATCTCGTAA\",generic_dna)\n",
    "dna2 = Seq(\"ATTAAAGGTTTATACCTTCCCAGGTAACAAACCAACCAA\",generic_dna)\n",
    "\n",
    "dotplotx(dna1,dna1)"
   ]
  },
  {
   "cell_type": "code",
   "execution_count": null,
   "metadata": {},
   "outputs": [],
   "source": []
  },
  {
   "cell_type": "markdown",
   "metadata": {},
   "source": [
    "#### Check for the Count of Amino Acids and Molecular Weight\n",
    "+ ProtParam.ProteinAnalysis\n",
    "+ Counter from collections"
   ]
  },
  {
   "cell_type": "code",
   "execution_count": 124,
   "metadata": {},
   "outputs": [],
   "source": [
    "from Bio.Seq import Seq\n",
    "from Bio.SeqUtils import molecular_weight\n",
    "from Bio.SeqUtils.ProtParam import ProteinAnalysis"
   ]
  },
  {
   "cell_type": "code",
   "execution_count": 125,
   "metadata": {},
   "outputs": [
    {
     "data": {
      "text/plain": [
       "3724.3894999999998"
      ]
     },
     "execution_count": 125,
     "metadata": {},
     "output_type": "execute_result"
    }
   ],
   "source": [
    "dna = Seq('ATGATCTCGTAA')\n",
    "\n",
    "# Moleculer weight of DNA nucleotide\n",
    "molecular_weight(dna)"
   ]
  },
  {
   "cell_type": "code",
   "execution_count": 126,
   "metadata": {},
   "outputs": [
    {
     "data": {
      "text/plain": [
       "Seq('MIS*', HasStopCodon(ExtendedIUPACProtein(), '*'))"
      ]
     },
     "execution_count": 126,
     "metadata": {},
     "output_type": "execute_result"
    }
   ],
   "source": [
    "# Protein\n",
    "protein = dna.translate()\n",
    "protein"
   ]
  },
  {
   "cell_type": "code",
   "execution_count": 127,
   "metadata": {},
   "outputs": [],
   "source": [
    "# Amino Acid Count\n",
    "protein_a = ProteinAnalysis(str(protein))\n",
    "\n",
    "# dir(protein_a)"
   ]
  },
  {
   "cell_type": "code",
   "execution_count": 128,
   "metadata": {},
   "outputs": [
    {
     "data": {
      "text/plain": [
       "{'A': 0,\n",
       " 'C': 0,\n",
       " 'D': 0,\n",
       " 'E': 0,\n",
       " 'F': 0,\n",
       " 'G': 0,\n",
       " 'H': 0,\n",
       " 'I': 1,\n",
       " 'K': 0,\n",
       " 'L': 0,\n",
       " 'M': 1,\n",
       " 'N': 0,\n",
       " 'P': 0,\n",
       " 'Q': 0,\n",
       " 'R': 0,\n",
       " 'S': 1,\n",
       " 'T': 0,\n",
       " 'V': 0,\n",
       " 'W': 0,\n",
       " 'Y': 0}"
      ]
     },
     "execution_count": 128,
     "metadata": {},
     "output_type": "execute_result"
    }
   ],
   "source": [
    "# Count of AA\n",
    "protein_a.count_amino_acids()"
   ]
  },
  {
   "cell_type": "code",
   "execution_count": 129,
   "metadata": {},
   "outputs": [],
   "source": [
    "# Method 2 \n",
    "# Counter\n",
    "from collections import Counter"
   ]
  },
  {
   "cell_type": "code",
   "execution_count": 130,
   "metadata": {},
   "outputs": [
    {
     "data": {
      "text/plain": [
       "Seq('MIS*', HasStopCodon(ExtendedIUPACProtein(), '*'))"
      ]
     },
     "execution_count": 130,
     "metadata": {},
     "output_type": "execute_result"
    }
   ],
   "source": [
    "protein"
   ]
  },
  {
   "cell_type": "code",
   "execution_count": 131,
   "metadata": {},
   "outputs": [
    {
     "data": {
      "text/plain": [
       "Counter({'M': 1, 'I': 1, 'S': 1, '*': 1})"
      ]
     },
     "execution_count": 131,
     "metadata": {},
     "output_type": "execute_result"
    }
   ],
   "source": [
    "aa_freq = Counter(protein)\n",
    "aa_freq\n"
   ]
  },
  {
   "cell_type": "code",
   "execution_count": 132,
   "metadata": {},
   "outputs": [
    {
     "data": {
      "text/plain": [
       "<BarContainer object of 4 artists>"
      ]
     },
     "execution_count": 132,
     "metadata": {},
     "output_type": "execute_result"
    },
    {
     "data": {
      "image/png": "[encoded data removed]",
      "text/plain": [
       "<Figure size 432x288 with 1 Axes>"
      ]
     },
     "metadata": {
      "needs_background": "light"
     },
     "output_type": "display_data"
    }
   ],
   "source": [
    "plt.bar(aa_freq.keys(), aa_freq.values())"
   ]
  },
  {
   "cell_type": "code",
   "execution_count": 133,
   "metadata": {},
   "outputs": [
    {
     "data": {
      "text/plain": [
       "Seq('MIS*', HasStopCodon(ExtendedIUPACProtein(), '*'))"
      ]
     },
     "execution_count": 133,
     "metadata": {},
     "output_type": "execute_result"
    }
   ],
   "source": [
    "protein"
   ]
  },
  {
   "cell_type": "code",
   "execution_count": 134,
   "metadata": {},
   "outputs": [
    {
     "data": {
      "text/plain": [
       "349.4462"
      ]
     },
     "execution_count": 134,
     "metadata": {},
     "output_type": "execute_result"
    }
   ],
   "source": [
    "p2 = Seq('MIS')\n",
    "\n",
    "protein2 = ProteinAnalysis(str(p2))\n",
    "protein2.molecular_weight()"
   ]
  },
  {
   "cell_type": "code",
   "execution_count": 135,
   "metadata": {},
   "outputs": [
    {
     "data": {
      "text/plain": [
       "5.275022315979004"
      ]
     },
     "execution_count": 135,
     "metadata": {},
     "output_type": "execute_result"
    }
   ],
   "source": [
    "protein2.isoelectric_point()"
   ]
  },
  {
   "cell_type": "markdown",
   "metadata": {},
   "source": [
    "### Working with File Formats\n",
    " + FASTA\n",
    " + GenBank\n",
    " + PDB\n",
    " + etc\n",
    "\n",
    "+ Sample https://www.ncbi.nlm.nih.gov/nuccore/MN908947"
   ]
  },
  {
   "cell_type": "code",
   "execution_count": 136,
   "metadata": {},
   "outputs": [
    {
     "name": "stdout",
     "output_type": "stream",
     "text": [
      "MN908947.3\n",
      "MN908947.3 Severe acute respiratory syndrome coronavirus 2 isolate Wuhan-Hu-1, complete genome\n",
      "-------------------------------\n",
      "ID: MN908947.3\n",
      "Name: MN908947.3\n",
      "Description: MN908947.3 Severe acute respiratory syndrome coronavirus 2 isolate Wuhan-Hu-1, complete genome\n",
      "Number of features: 0\n",
      "Seq('ATTAAAGGTTTATACCTTCCCAGGTAACAAACCAACCAACTTTCGATCTCTTGT...AAA', SingleLetterAlphabet())\n"
     ]
    }
   ],
   "source": [
    "# Reading FASTA\n",
    "from Bio import SeqIO\n",
    "\n",
    "# Load a FASTA\n",
    "for record in SeqIO.parse(\"sequence.fasta\",\"fasta\"):\n",
    "    print(record.id)\n",
    "    print(record.description)\n",
    "    print(\"-------------------------------\")\n",
    "    print(record)"
   ]
  },
  {
   "cell_type": "code",
   "execution_count": 137,
   "metadata": {},
   "outputs": [
    {
     "data": {
      "text/plain": [
       "Seq('ATTAAAGGTTTATACCTTCCCAGGTAACAAACCAACCAACTTTCGATCTCTTGT...AAA', SingleLetterAlphabet())"
      ]
     },
     "execution_count": 137,
     "metadata": {},
     "output_type": "execute_result"
    }
   ],
   "source": [
    "# Reading the Sequence in FASTA\n",
    "dna_record = SeqIO.read(\"sequence.fasta\",\"fasta\")\n",
    "dna_seq = dna_record.seq\n",
    "dna_seq"
   ]
  },
  {
   "cell_type": "code",
   "execution_count": 138,
   "metadata": {},
   "outputs": [
    {
     "name": "stdout",
     "output_type": "stream",
     "text": [
      "ID: MN908947.3\n",
      "Name: MN908947\n",
      "Description: Severe acute respiratory syndrome coronavirus 2 isolate Wuhan-Hu-1, complete genome\n",
      "Number of features: 23\n",
      "/molecule_type=ss-RNA\n",
      "/topology=linear\n",
      "/data_file_division=VRL\n",
      "/date=18-MAR-2020\n",
      "/accessions=['MN908947']\n",
      "/sequence_version=3\n",
      "/keywords=['']\n",
      "/source=Severe acute respiratory syndrome coronavirus 2 (SARS-CoV-2)\n",
      "/organism=Severe acute respiratory syndrome coronavirus 2\n",
      "/taxonomy=['Viruses', 'Riboviria', 'Orthornavirae', 'Pisuviricota', 'Pisoniviricetes', 'Nidovirales', 'Cornidovirineae', 'Coronaviridae', 'Orthocoronavirinae', 'Betacoronavirus', 'Sarbecovirus']\n",
      "/references=[Reference(title='A new coronavirus associated with human respiratory disease in China', ...), Reference(title='Direct Submission', ...)]\n",
      "/comment=On Jan 17, 2020 this sequence version replaced MN908947.2.\n",
      "/structured_comment=OrderedDict([('Assembly-Data', OrderedDict([('Assembly Method', 'Megahit v. V1.1.3'), ('Sequencing Technology', 'Illumina')]))])\n",
      "Seq('ATTAAAGGTTTATACCTTCCCAGGTAACAAACCAACCAACTTTCGATCTCTTGT...AAA', IUPACAmbiguousDNA())\n"
     ]
    }
   ],
   "source": [
    "# Reading GenBank\n",
    "# Load a GenBank File\n",
    "for record in SeqIO.parse(\"sequence.gb\",\"genbank\"):\n",
    "    print(record)"
   ]
  },
  {
   "cell_type": "code",
   "execution_count": 139,
   "metadata": {},
   "outputs": [
    {
     "data": {
      "text/plain": [
       "SeqRecord(seq=Seq('ATTAAAGGTTTATACCTTCCCAGGTAACAAACCAACCAACTTTCGATCTCTTGT...AAA', IUPACAmbiguousDNA()), id='MN908947.3', name='MN908947', description='Severe acute respiratory syndrome coronavirus 2 isolate Wuhan-Hu-1, complete genome', dbxrefs=[])"
      ]
     },
     "execution_count": 139,
     "metadata": {},
     "output_type": "execute_result"
    }
   ],
   "source": [
    "# Reading the sequence in GenBank\n",
    "gb_dna_record = SeqIO.read(\"sequence.gb\",\"genbank\")\n",
    "gb_dna_record\n",
    "#gb_dna_record.seq"
   ]
  },
  {
   "cell_type": "code",
   "execution_count": 140,
   "metadata": {},
   "outputs": [],
   "source": [
    "# Writing Data\n",
    "from Bio import SeqIO\n",
    "\n",
    "record_dict = SeqIO.to_dict(SeqIO.parse(\"sequence.fasta\",\"fasta\"))\n",
    "\n",
    "with open('output_fasta.fasta', 'w') as handle:\n",
    "        SeqIO.write(record_dict.values(), handle, 'fasta')"
   ]
  },
  {
   "cell_type": "code",
   "execution_count": null,
   "metadata": {},
   "outputs": [],
   "source": []
  },
  {
   "cell_type": "markdown",
   "metadata": {},
   "source": [
    "### 3D Structure of Protein\n",
    "+ File Format\n",
    " - pdb :PDBParser() legacy\n",
    " - cif :MMCIFParser() recent\n",
    "\n",
    "#### links\n",
    "+ https://www.ncbi.nlm.nih.gov/Structure/pdb/6LU7\n",
    "+ https://www.rcsb.org/search\n",
    "+ Protein Data Bank\n",
    "\n",
    "#### Pkgs\n",
    "\n",
    "+ pip install nglview\n",
    "+ pip install py3Dmol\n",
    "+ pip install pytraj\n",
    "\n",
    "+ jupyter-nbextension enable nglview --py --sys-prefix\n",
    "+ nglview enable\n",
    "+ jupyter-labextension install @jupyter-widget/jupyterlab-manager\n",
    "+ jupyter-labextension install nglview-js-widgets"
   ]
  },
  {
   "cell_type": "code",
   "execution_count": 141,
   "metadata": {
    "collapsed": true,
    "jupyter": {
     "outputs_hidden": true
    }
   },
   "outputs": [
    {
     "name": "stdout",
     "output_type": "stream",
     "text": [
      "Requirement already satisfied: nglview in /Users/senesbasbug/opt/anaconda3/lib/python3.7/site-packages (2.7.7)\n",
      "Requirement already satisfied: numpy in /Users/senesbasbug/opt/anaconda3/lib/python3.7/site-packages (from nglview) (1.18.5)\n",
      "Requirement already satisfied: ipywidgets>=7 in /Users/senesbasbug/opt/anaconda3/lib/python3.7/site-packages (from nglview) (7.5.1)\n",
      "Requirement already satisfied: ipykernel>=4.5.1 in /Users/senesbasbug/opt/anaconda3/lib/python3.7/site-packages (from ipywidgets>=7->nglview) (5.3.2)\n",
      "Requirement already satisfied: ipython>=4.0.0; python_version >= \"3.3\" in /Users/senesbasbug/opt/anaconda3/lib/python3.7/site-packages (from ipywidgets>=7->nglview) (7.16.1)\n",
      "Requirement already satisfied: nbformat>=4.2.0 in /Users/senesbasbug/opt/anaconda3/lib/python3.7/site-packages (from ipywidgets>=7->nglview) (5.0.7)\n",
      "Requirement already satisfied: widgetsnbextension~=3.5.0 in /Users/senesbasbug/opt/anaconda3/lib/python3.7/site-packages (from ipywidgets>=7->nglview) (3.5.1)\n",
      "Requirement already satisfied: traitlets>=4.3.1 in /Users/senesbasbug/opt/anaconda3/lib/python3.7/site-packages (from ipywidgets>=7->nglview) (4.3.3)\n",
      "Requirement already satisfied: tornado>=4.2 in /Users/senesbasbug/opt/anaconda3/lib/python3.7/site-packages (from ipykernel>=4.5.1->ipywidgets>=7->nglview) (6.0.4)\n",
      "Requirement already satisfied: jupyter-client in /Users/senesbasbug/opt/anaconda3/lib/python3.7/site-packages (from ipykernel>=4.5.1->ipywidgets>=7->nglview) (6.1.6)\n",
      "Requirement already satisfied: appnope; platform_system == \"Darwin\" in /Users/senesbasbug/opt/anaconda3/lib/python3.7/site-packages (from ipykernel>=4.5.1->ipywidgets>=7->nglview) (0.1.0)\n",
      "Requirement already satisfied: jedi>=0.10 in /Users/senesbasbug/opt/anaconda3/lib/python3.7/site-packages (from ipython>=4.0.0; python_version >= \"3.3\"->ipywidgets>=7->nglview) (0.15.2)\n",
      "Requirement already satisfied: pickleshare in /Users/senesbasbug/opt/anaconda3/lib/python3.7/site-packages (from ipython>=4.0.0; python_version >= \"3.3\"->ipywidgets>=7->nglview) (0.7.5)\n",
      "Requirement already satisfied: pexpect; sys_platform != \"win32\" in /Users/senesbasbug/opt/anaconda3/lib/python3.7/site-packages (from ipython>=4.0.0; python_version >= \"3.3\"->ipywidgets>=7->nglview) (4.8.0)\n",
      "Requirement already satisfied: decorator in /Users/senesbasbug/opt/anaconda3/lib/python3.7/site-packages (from ipython>=4.0.0; python_version >= \"3.3\"->ipywidgets>=7->nglview) (4.4.2)\n",
      "Requirement already satisfied: setuptools>=18.5 in /Users/senesbasbug/opt/anaconda3/lib/python3.7/site-packages (from ipython>=4.0.0; python_version >= \"3.3\"->ipywidgets>=7->nglview) (49.2.0.post20200714)\n",
      "Requirement already satisfied: prompt-toolkit!=3.0.0,!=3.0.1,<3.1.0,>=2.0.0 in /Users/senesbasbug/opt/anaconda3/lib/python3.7/site-packages (from ipython>=4.0.0; python_version >= \"3.3\"->ipywidgets>=7->nglview) (3.0.5)\n",
      "Requirement already satisfied: pygments in /Users/senesbasbug/opt/anaconda3/lib/python3.7/site-packages (from ipython>=4.0.0; python_version >= \"3.3\"->ipywidgets>=7->nglview) (2.6.1)\n",
      "Requirement already satisfied: backcall in /Users/senesbasbug/opt/anaconda3/lib/python3.7/site-packages (from ipython>=4.0.0; python_version >= \"3.3\"->ipywidgets>=7->nglview) (0.2.0)\n",
      "Requirement already satisfied: jupyter-core in /Users/senesbasbug/opt/anaconda3/lib/python3.7/site-packages (from nbformat>=4.2.0->ipywidgets>=7->nglview) (4.6.3)\n",
      "Requirement already satisfied: jsonschema!=2.5.0,>=2.4 in /Users/senesbasbug/opt/anaconda3/lib/python3.7/site-packages (from nbformat>=4.2.0->ipywidgets>=7->nglview) (3.2.0)\n",
      "Requirement already satisfied: ipython-genutils in /Users/senesbasbug/opt/anaconda3/lib/python3.7/site-packages (from nbformat>=4.2.0->ipywidgets>=7->nglview) (0.2.0)\n",
      "Requirement already satisfied: notebook>=4.4.1 in /Users/senesbasbug/opt/anaconda3/lib/python3.7/site-packages (from widgetsnbextension~=3.5.0->ipywidgets>=7->nglview) (6.0.3)\n",
      "Requirement already satisfied: six in /Users/senesbasbug/opt/anaconda3/lib/python3.7/site-packages (from traitlets>=4.3.1->ipywidgets>=7->nglview) (1.15.0)\n",
      "Requirement already satisfied: pyzmq>=13 in /Users/senesbasbug/opt/anaconda3/lib/python3.7/site-packages (from jupyter-client->ipykernel>=4.5.1->ipywidgets>=7->nglview) (19.0.1)\n",
      "Requirement already satisfied: python-dateutil>=2.1 in /Users/senesbasbug/opt/anaconda3/lib/python3.7/site-packages (from jupyter-client->ipykernel>=4.5.1->ipywidgets>=7->nglview) (2.8.1)\n",
      "Requirement already satisfied: parso>=0.5.2 in /Users/senesbasbug/opt/anaconda3/lib/python3.7/site-packages (from jedi>=0.10->ipython>=4.0.0; python_version >= \"3.3\"->ipywidgets>=7->nglview) (0.5.2)\n",
      "Requirement already satisfied: ptyprocess>=0.5 in /Users/senesbasbug/opt/anaconda3/lib/python3.7/site-packages (from pexpect; sys_platform != \"win32\"->ipython>=4.0.0; python_version >= \"3.3\"->ipywidgets>=7->nglview) (0.6.0)\n",
      "Requirement already satisfied: wcwidth in /Users/senesbasbug/opt/anaconda3/lib/python3.7/site-packages (from prompt-toolkit!=3.0.0,!=3.0.1,<3.1.0,>=2.0.0->ipython>=4.0.0; python_version >= \"3.3\"->ipywidgets>=7->nglview) (0.2.5)\n",
      "Requirement already satisfied: attrs>=17.4.0 in /Users/senesbasbug/opt/anaconda3/lib/python3.7/site-packages (from jsonschema!=2.5.0,>=2.4->nbformat>=4.2.0->ipywidgets>=7->nglview) (19.3.0)\n",
      "Requirement already satisfied: importlib-metadata; python_version < \"3.8\" in /Users/senesbasbug/opt/anaconda3/lib/python3.7/site-packages (from jsonschema!=2.5.0,>=2.4->nbformat>=4.2.0->ipywidgets>=7->nglview) (1.7.0)\n",
      "Requirement already satisfied: pyrsistent>=0.14.0 in /Users/senesbasbug/opt/anaconda3/lib/python3.7/site-packages (from jsonschema!=2.5.0,>=2.4->nbformat>=4.2.0->ipywidgets>=7->nglview) (0.16.0)\n",
      "Requirement already satisfied: Send2Trash in /Users/senesbasbug/opt/anaconda3/lib/python3.7/site-packages (from notebook>=4.4.1->widgetsnbextension~=3.5.0->ipywidgets>=7->nglview) (1.5.0)\n",
      "Requirement already satisfied: prometheus-client in /Users/senesbasbug/opt/anaconda3/lib/python3.7/site-packages (from notebook>=4.4.1->widgetsnbextension~=3.5.0->ipywidgets>=7->nglview) (0.8.0)\n",
      "Requirement already satisfied: nbconvert in /Users/senesbasbug/opt/anaconda3/lib/python3.7/site-packages (from notebook>=4.4.1->widgetsnbextension~=3.5.0->ipywidgets>=7->nglview) (5.6.1)\n",
      "Requirement already satisfied: terminado>=0.8.1 in /Users/senesbasbug/opt/anaconda3/lib/python3.7/site-packages (from notebook>=4.4.1->widgetsnbextension~=3.5.0->ipywidgets>=7->nglview) (0.8.3)\n",
      "Requirement already satisfied: jinja2 in /Users/senesbasbug/opt/anaconda3/lib/python3.7/site-packages (from notebook>=4.4.1->widgetsnbextension~=3.5.0->ipywidgets>=7->nglview) (2.11.2)\n",
      "Requirement already satisfied: zipp>=0.5 in /Users/senesbasbug/opt/anaconda3/lib/python3.7/site-packages (from importlib-metadata; python_version < \"3.8\"->jsonschema!=2.5.0,>=2.4->nbformat>=4.2.0->ipywidgets>=7->nglview) (3.1.0)\n",
      "Requirement already satisfied: mistune<2,>=0.8.1 in /Users/senesbasbug/opt/anaconda3/lib/python3.7/site-packages (from nbconvert->notebook>=4.4.1->widgetsnbextension~=3.5.0->ipywidgets>=7->nglview) (0.8.4)\n",
      "Requirement already satisfied: entrypoints>=0.2.2 in /Users/senesbasbug/opt/anaconda3/lib/python3.7/site-packages (from nbconvert->notebook>=4.4.1->widgetsnbextension~=3.5.0->ipywidgets>=7->nglview) (0.3)\n",
      "Requirement already satisfied: testpath in /Users/senesbasbug/opt/anaconda3/lib/python3.7/site-packages (from nbconvert->notebook>=4.4.1->widgetsnbextension~=3.5.0->ipywidgets>=7->nglview) (0.4.4)\n",
      "Requirement already satisfied: defusedxml in /Users/senesbasbug/opt/anaconda3/lib/python3.7/site-packages (from nbconvert->notebook>=4.4.1->widgetsnbextension~=3.5.0->ipywidgets>=7->nglview) (0.6.0)\n",
      "Requirement already satisfied: pandocfilters>=1.4.1 in /Users/senesbasbug/opt/anaconda3/lib/python3.7/site-packages (from nbconvert->notebook>=4.4.1->widgetsnbextension~=3.5.0->ipywidgets>=7->nglview) (1.4.2)\n",
      "Requirement already satisfied: bleach in /Users/senesbasbug/opt/anaconda3/lib/python3.7/site-packages (from nbconvert->notebook>=4.4.1->widgetsnbextension~=3.5.0->ipywidgets>=7->nglview) (3.1.5)\n",
      "Requirement already satisfied: MarkupSafe>=0.23 in /Users/senesbasbug/opt/anaconda3/lib/python3.7/site-packages (from jinja2->notebook>=4.4.1->widgetsnbextension~=3.5.0->ipywidgets>=7->nglview) (1.1.1)\n",
      "Requirement already satisfied: packaging in /Users/senesbasbug/opt/anaconda3/lib/python3.7/site-packages (from bleach->nbconvert->notebook>=4.4.1->widgetsnbextension~=3.5.0->ipywidgets>=7->nglview) (20.4)\n",
      "Requirement already satisfied: webencodings in /Users/senesbasbug/opt/anaconda3/lib/python3.7/site-packages (from bleach->nbconvert->notebook>=4.4.1->widgetsnbextension~=3.5.0->ipywidgets>=7->nglview) (0.5.1)\n",
      "Requirement already satisfied: pyparsing>=2.0.2 in /Users/senesbasbug/opt/anaconda3/lib/python3.7/site-packages (from packaging->bleach->nbconvert->notebook>=4.4.1->widgetsnbextension~=3.5.0->ipywidgets>=7->nglview) (2.4.7)\n",
      "Requirement already satisfied: py3Dmol in /Users/senesbasbug/opt/anaconda3/lib/python3.7/site-packages (0.8.0)\n",
      "Requirement already satisfied: idisplay in /Users/senesbasbug/opt/anaconda3/lib/python3.7/site-packages (from py3Dmol) (0.1.2)\n",
      "Requirement already satisfied: jupyter in /Users/senesbasbug/opt/anaconda3/lib/python3.7/site-packages (from py3Dmol) (1.0.0)\n",
      "Requirement already satisfied: ipython>=1.0 in /Users/senesbasbug/opt/anaconda3/lib/python3.7/site-packages (from idisplay->py3Dmol) (7.16.1)\n",
      "Requirement already satisfied: jupyter-console in /Users/senesbasbug/opt/anaconda3/lib/python3.7/site-packages (from jupyter->py3Dmol) (6.1.0)\n",
      "Requirement already satisfied: qtconsole in /Users/senesbasbug/opt/anaconda3/lib/python3.7/site-packages (from jupyter->py3Dmol) (4.7.5)\n",
      "Requirement already satisfied: nbconvert in /Users/senesbasbug/opt/anaconda3/lib/python3.7/site-packages (from jupyter->py3Dmol) (5.6.1)\n",
      "Requirement already satisfied: ipykernel in /Users/senesbasbug/opt/anaconda3/lib/python3.7/site-packages (from jupyter->py3Dmol) (5.3.2)\n",
      "Requirement already satisfied: notebook in /Users/senesbasbug/opt/anaconda3/lib/python3.7/site-packages (from jupyter->py3Dmol) (6.0.3)\n",
      "Requirement already satisfied: ipywidgets in /Users/senesbasbug/opt/anaconda3/lib/python3.7/site-packages (from jupyter->py3Dmol) (7.5.1)\n",
      "Requirement already satisfied: pexpect; sys_platform != \"win32\" in /Users/senesbasbug/opt/anaconda3/lib/python3.7/site-packages (from ipython>=1.0->idisplay->py3Dmol) (4.8.0)\n",
      "Requirement already satisfied: pickleshare in /Users/senesbasbug/opt/anaconda3/lib/python3.7/site-packages (from ipython>=1.0->idisplay->py3Dmol) (0.7.5)\n",
      "Requirement already satisfied: traitlets>=4.2 in /Users/senesbasbug/opt/anaconda3/lib/python3.7/site-packages (from ipython>=1.0->idisplay->py3Dmol) (4.3.3)\n",
      "Requirement already satisfied: prompt-toolkit!=3.0.0,!=3.0.1,<3.1.0,>=2.0.0 in /Users/senesbasbug/opt/anaconda3/lib/python3.7/site-packages (from ipython>=1.0->idisplay->py3Dmol) (3.0.5)\n",
      "Requirement already satisfied: appnope; sys_platform == \"darwin\" in /Users/senesbasbug/opt/anaconda3/lib/python3.7/site-packages (from ipython>=1.0->idisplay->py3Dmol) (0.1.0)\n",
      "Requirement already satisfied: backcall in /Users/senesbasbug/opt/anaconda3/lib/python3.7/site-packages (from ipython>=1.0->idisplay->py3Dmol) (0.2.0)\n",
      "Requirement already satisfied: setuptools>=18.5 in /Users/senesbasbug/opt/anaconda3/lib/python3.7/site-packages (from ipython>=1.0->idisplay->py3Dmol) (49.2.0.post20200714)\n",
      "Requirement already satisfied: jedi>=0.10 in /Users/senesbasbug/opt/anaconda3/lib/python3.7/site-packages (from ipython>=1.0->idisplay->py3Dmol) (0.15.2)\n",
      "Requirement already satisfied: pygments in /Users/senesbasbug/opt/anaconda3/lib/python3.7/site-packages (from ipython>=1.0->idisplay->py3Dmol) (2.6.1)\n",
      "Requirement already satisfied: decorator in /Users/senesbasbug/opt/anaconda3/lib/python3.7/site-packages (from ipython>=1.0->idisplay->py3Dmol) (4.4.2)\n",
      "Requirement already satisfied: jupyter-client in /Users/senesbasbug/opt/anaconda3/lib/python3.7/site-packages (from jupyter-console->jupyter->py3Dmol) (6.1.6)\n",
      "Requirement already satisfied: ipython-genutils in /Users/senesbasbug/opt/anaconda3/lib/python3.7/site-packages (from qtconsole->jupyter->py3Dmol) (0.2.0)\n",
      "Requirement already satisfied: pyzmq>=17.1 in /Users/senesbasbug/opt/anaconda3/lib/python3.7/site-packages (from qtconsole->jupyter->py3Dmol) (19.0.1)\n",
      "Requirement already satisfied: jupyter-core in /Users/senesbasbug/opt/anaconda3/lib/python3.7/site-packages (from qtconsole->jupyter->py3Dmol) (4.6.3)\n",
      "Requirement already satisfied: qtpy in /Users/senesbasbug/opt/anaconda3/lib/python3.7/site-packages (from qtconsole->jupyter->py3Dmol) (1.9.0)\n",
      "Requirement already satisfied: mistune<2,>=0.8.1 in /Users/senesbasbug/opt/anaconda3/lib/python3.7/site-packages (from nbconvert->jupyter->py3Dmol) (0.8.4)\n",
      "Requirement already satisfied: jinja2>=2.4 in /Users/senesbasbug/opt/anaconda3/lib/python3.7/site-packages (from nbconvert->jupyter->py3Dmol) (2.11.2)\n",
      "Requirement already satisfied: entrypoints>=0.2.2 in /Users/senesbasbug/opt/anaconda3/lib/python3.7/site-packages (from nbconvert->jupyter->py3Dmol) (0.3)\n",
      "Requirement already satisfied: nbformat>=4.4 in /Users/senesbasbug/opt/anaconda3/lib/python3.7/site-packages (from nbconvert->jupyter->py3Dmol) (5.0.7)\n",
      "Requirement already satisfied: pandocfilters>=1.4.1 in /Users/senesbasbug/opt/anaconda3/lib/python3.7/site-packages (from nbconvert->jupyter->py3Dmol) (1.4.2)\n",
      "Requirement already satisfied: defusedxml in /Users/senesbasbug/opt/anaconda3/lib/python3.7/site-packages (from nbconvert->jupyter->py3Dmol) (0.6.0)\n",
      "Requirement already satisfied: bleach in /Users/senesbasbug/opt/anaconda3/lib/python3.7/site-packages (from nbconvert->jupyter->py3Dmol) (3.1.5)\n",
      "Requirement already satisfied: testpath in /Users/senesbasbug/opt/anaconda3/lib/python3.7/site-packages (from nbconvert->jupyter->py3Dmol) (0.4.4)\n",
      "Requirement already satisfied: tornado>=4.2 in /Users/senesbasbug/opt/anaconda3/lib/python3.7/site-packages (from ipykernel->jupyter->py3Dmol) (6.0.4)\n",
      "Requirement already satisfied: terminado>=0.8.1 in /Users/senesbasbug/opt/anaconda3/lib/python3.7/site-packages (from notebook->jupyter->py3Dmol) (0.8.3)\n",
      "Requirement already satisfied: Send2Trash in /Users/senesbasbug/opt/anaconda3/lib/python3.7/site-packages (from notebook->jupyter->py3Dmol) (1.5.0)\n",
      "Requirement already satisfied: prometheus-client in /Users/senesbasbug/opt/anaconda3/lib/python3.7/site-packages (from notebook->jupyter->py3Dmol) (0.8.0)\n",
      "Requirement already satisfied: widgetsnbextension~=3.5.0 in /Users/senesbasbug/opt/anaconda3/lib/python3.7/site-packages (from ipywidgets->jupyter->py3Dmol) (3.5.1)\n",
      "Requirement already satisfied: ptyprocess>=0.5 in /Users/senesbasbug/opt/anaconda3/lib/python3.7/site-packages (from pexpect; sys_platform != \"win32\"->ipython>=1.0->idisplay->py3Dmol) (0.6.0)\n",
      "Requirement already satisfied: six in /Users/senesbasbug/opt/anaconda3/lib/python3.7/site-packages (from traitlets>=4.2->ipython>=1.0->idisplay->py3Dmol) (1.15.0)\n",
      "Requirement already satisfied: wcwidth in /Users/senesbasbug/opt/anaconda3/lib/python3.7/site-packages (from prompt-toolkit!=3.0.0,!=3.0.1,<3.1.0,>=2.0.0->ipython>=1.0->idisplay->py3Dmol) (0.2.5)\n",
      "Requirement already satisfied: parso>=0.5.2 in /Users/senesbasbug/opt/anaconda3/lib/python3.7/site-packages (from jedi>=0.10->ipython>=1.0->idisplay->py3Dmol) (0.5.2)\n",
      "Requirement already satisfied: python-dateutil>=2.1 in /Users/senesbasbug/opt/anaconda3/lib/python3.7/site-packages (from jupyter-client->jupyter-console->jupyter->py3Dmol) (2.8.1)\n",
      "Requirement already satisfied: MarkupSafe>=0.23 in /Users/senesbasbug/opt/anaconda3/lib/python3.7/site-packages (from jinja2>=2.4->nbconvert->jupyter->py3Dmol) (1.1.1)\n",
      "Requirement already satisfied: jsonschema!=2.5.0,>=2.4 in /Users/senesbasbug/opt/anaconda3/lib/python3.7/site-packages (from nbformat>=4.4->nbconvert->jupyter->py3Dmol) (3.2.0)\n",
      "Requirement already satisfied: webencodings in /Users/senesbasbug/opt/anaconda3/lib/python3.7/site-packages (from bleach->nbconvert->jupyter->py3Dmol) (0.5.1)\n",
      "Requirement already satisfied: packaging in /Users/senesbasbug/opt/anaconda3/lib/python3.7/site-packages (from bleach->nbconvert->jupyter->py3Dmol) (20.4)\n",
      "Requirement already satisfied: importlib-metadata; python_version < \"3.8\" in /Users/senesbasbug/opt/anaconda3/lib/python3.7/site-packages (from jsonschema!=2.5.0,>=2.4->nbformat>=4.4->nbconvert->jupyter->py3Dmol) (1.7.0)\n",
      "Requirement already satisfied: attrs>=17.4.0 in /Users/senesbasbug/opt/anaconda3/lib/python3.7/site-packages (from jsonschema!=2.5.0,>=2.4->nbformat>=4.4->nbconvert->jupyter->py3Dmol) (19.3.0)\n",
      "Requirement already satisfied: pyrsistent>=0.14.0 in /Users/senesbasbug/opt/anaconda3/lib/python3.7/site-packages (from jsonschema!=2.5.0,>=2.4->nbformat>=4.4->nbconvert->jupyter->py3Dmol) (0.16.0)\n",
      "Requirement already satisfied: pyparsing>=2.0.2 in /Users/senesbasbug/opt/anaconda3/lib/python3.7/site-packages (from packaging->bleach->nbconvert->jupyter->py3Dmol) (2.4.7)\n",
      "Requirement already satisfied: zipp>=0.5 in /Users/senesbasbug/opt/anaconda3/lib/python3.7/site-packages (from importlib-metadata; python_version < \"3.8\"->jsonschema!=2.5.0,>=2.4->nbformat>=4.4->nbconvert->jupyter->py3Dmol) (3.1.0)\n",
      "Requirement already satisfied: pytraj in /Users/senesbasbug/opt/anaconda3/lib/python3.7/site-packages (2.0.5)\n",
      "Requirement already satisfied: numpy in /Users/senesbasbug/opt/anaconda3/lib/python3.7/site-packages (from pytraj) (1.18.5)\n",
      "Enabling notebook extension nglview-js-widgets/extension...\n",
      "      - Validating: \u001b[32mOK\u001b[0m\n",
      "Enabling notebook extension nglview-js-widgets/extension...\n",
      "      - Validating: \u001b[32mOK\u001b[0m\n",
      "An error occured.\n",
      "ValueError: \"@jupyter-widget/jupyterlab-manager\" is not a valid npm package\n",
      "See the log file for details:  /var/folders/n8/vb416x3s72vbh0dckxvwn9v40000gn/T/jupyterlab-debug-551l5bnu.log\n",
      "Building jupyterlab assets (build:prod:minimize)\n"
     ]
    }
   ],
   "source": [
    "!pip install nglview\n",
    "!pip install py3Dmol\n",
    "!pip install pytraj\n",
    "\n",
    "!jupyter-nbextension enable nglview --py --sys-prefix \n",
    "!nglview enable\n",
    "!jupyter-labextension install @jupyter-widget/jupyterlab-manager\n",
    "!jupyter-labextension install nglview-js-widgets"
   ]
  },
  {
   "cell_type": "code",
   "execution_count": 142,
   "metadata": {},
   "outputs": [
    {
     "data": {
      "text/plain": [
       "<Structure id=6LU7>"
      ]
     },
     "execution_count": 142,
     "metadata": {},
     "output_type": "execute_result"
    }
   ],
   "source": [
    "# Reading PDB Files\n",
    "from Bio.PDB import PDBParser, MMCIFParser\n",
    "\n",
    "# Create a parser\n",
    "parser = PDBParser()\n",
    "structure = parser.get_structure(\"6LU7\",\"6lu7.pdb\")\n",
    "structure"
   ]
  },
  {
   "cell_type": "code",
   "execution_count": 143,
   "metadata": {},
   "outputs": [],
   "source": [
    "# Models in the structure\n",
    "model  = structure[0]"
   ]
  },
  {
   "cell_type": "markdown",
   "metadata": {},
   "source": [
    "### structure => model => chain => residue => atom"
   ]
  },
  {
   "cell_type": "code",
   "execution_count": 144,
   "metadata": {},
   "outputs": [
    {
     "name": "stdout",
     "output_type": "stream",
     "text": [
      "Chain <Chain id=A>\n",
      "Chain <Chain id=C>\n"
     ]
    }
   ],
   "source": [
    "# Check for chains\n",
    "for chain in model:\n",
    "    print(f'Chain {chain}')"
   ]
  },
  {
   "cell_type": "code",
   "execution_count": 145,
   "metadata": {},
   "outputs": [
    {
     "name": "stdout",
     "output_type": "stream",
     "text": [
      "Chain <Chain id=A>,Chain_IDA\n",
      "Chain <Chain id=C>,Chain_IDC\n"
     ]
    }
   ],
   "source": [
    "# Check for chains\n",
    "for chain in model:\n",
    "    print(f'Chain {chain},Chain_ID{chain.id}')"
   ]
  },
  {
   "cell_type": "code",
   "execution_count": 146,
   "metadata": {
    "collapsed": true,
    "jupyter": {
     "outputs_hidden": true
    }
   },
   "outputs": [
    {
     "name": "stdout",
     "output_type": "stream",
     "text": [
      "Chain <Chain id=A>,Chain_IDA\n",
      "<Residue SER het=  resseq=1 icode= >\n",
      "<Residue GLY het=  resseq=2 icode= >\n",
      "<Residue PHE het=  resseq=3 icode= >\n",
      "<Residue ARG het=  resseq=4 icode= >\n",
      "<Residue LYS het=  resseq=5 icode= >\n",
      "<Residue MET het=  resseq=6 icode= >\n",
      "<Residue ALA het=  resseq=7 icode= >\n",
      "<Residue PHE het=  resseq=8 icode= >\n",
      "<Residue PRO het=  resseq=9 icode= >\n",
      "<Residue SER het=  resseq=10 icode= >\n",
      "<Residue GLY het=  resseq=11 icode= >\n",
      "<Residue LYS het=  resseq=12 icode= >\n",
      "<Residue VAL het=  resseq=13 icode= >\n",
      "<Residue GLU het=  resseq=14 icode= >\n",
      "<Residue GLY het=  resseq=15 icode= >\n",
      "<Residue CYS het=  resseq=16 icode= >\n",
      "<Residue MET het=  resseq=17 icode= >\n",
      "<Residue VAL het=  resseq=18 icode= >\n",
      "<Residue GLN het=  resseq=19 icode= >\n",
      "<Residue VAL het=  resseq=20 icode= >\n",
      "<Residue THR het=  resseq=21 icode= >\n",
      "<Residue CYS het=  resseq=22 icode= >\n",
      "<Residue GLY het=  resseq=23 icode= >\n",
      "<Residue THR het=  resseq=24 icode= >\n",
      "<Residue THR het=  resseq=25 icode= >\n",
      "<Residue THR het=  resseq=26 icode= >\n",
      "<Residue LEU het=  resseq=27 icode= >\n",
      "<Residue ASN het=  resseq=28 icode= >\n",
      "<Residue GLY het=  resseq=29 icode= >\n",
      "<Residue LEU het=  resseq=30 icode= >\n",
      "<Residue TRP het=  resseq=31 icode= >\n",
      "<Residue LEU het=  resseq=32 icode= >\n",
      "<Residue ASP het=  resseq=33 icode= >\n",
      "<Residue ASP het=  resseq=34 icode= >\n",
      "<Residue VAL het=  resseq=35 icode= >\n",
      "<Residue VAL het=  resseq=36 icode= >\n",
      "<Residue TYR het=  resseq=37 icode= >\n",
      "<Residue CYS het=  resseq=38 icode= >\n",
      "<Residue PRO het=  resseq=39 icode= >\n",
      "<Residue ARG het=  resseq=40 icode= >\n",
      "<Residue HIS het=  resseq=41 icode= >\n",
      "<Residue VAL het=  resseq=42 icode= >\n",
      "<Residue ILE het=  resseq=43 icode= >\n",
      "<Residue CYS het=  resseq=44 icode= >\n",
      "<Residue THR het=  resseq=45 icode= >\n",
      "<Residue SER het=  resseq=46 icode= >\n",
      "<Residue GLU het=  resseq=47 icode= >\n",
      "<Residue ASP het=  resseq=48 icode= >\n",
      "<Residue MET het=  resseq=49 icode= >\n",
      "<Residue LEU het=  resseq=50 icode= >\n",
      "<Residue ASN het=  resseq=51 icode= >\n",
      "<Residue PRO het=  resseq=52 icode= >\n",
      "<Residue ASN het=  resseq=53 icode= >\n",
      "<Residue TYR het=  resseq=54 icode= >\n",
      "<Residue GLU het=  resseq=55 icode= >\n",
      "<Residue ASP het=  resseq=56 icode= >\n",
      "<Residue LEU het=  resseq=57 icode= >\n",
      "<Residue LEU het=  resseq=58 icode= >\n",
      "<Residue ILE het=  resseq=59 icode= >\n",
      "<Residue ARG het=  resseq=60 icode= >\n",
      "<Residue LYS het=  resseq=61 icode= >\n",
      "<Residue SER het=  resseq=62 icode= >\n",
      "<Residue ASN het=  resseq=63 icode= >\n",
      "<Residue HIS het=  resseq=64 icode= >\n",
      "<Residue ASN het=  resseq=65 icode= >\n",
      "<Residue PHE het=  resseq=66 icode= >\n",
      "<Residue LEU het=  resseq=67 icode= >\n",
      "<Residue VAL het=  resseq=68 icode= >\n",
      "<Residue GLN het=  resseq=69 icode= >\n",
      "<Residue ALA het=  resseq=70 icode= >\n",
      "<Residue GLY het=  resseq=71 icode= >\n",
      "<Residue ASN het=  resseq=72 icode= >\n",
      "<Residue VAL het=  resseq=73 icode= >\n",
      "<Residue GLN het=  resseq=74 icode= >\n",
      "<Residue LEU het=  resseq=75 icode= >\n",
      "<Residue ARG het=  resseq=76 icode= >\n",
      "<Residue VAL het=  resseq=77 icode= >\n",
      "<Residue ILE het=  resseq=78 icode= >\n",
      "<Residue GLY het=  resseq=79 icode= >\n",
      "<Residue HIS het=  resseq=80 icode= >\n",
      "<Residue SER het=  resseq=81 icode= >\n",
      "<Residue MET het=  resseq=82 icode= >\n",
      "<Residue GLN het=  resseq=83 icode= >\n",
      "<Residue ASN het=  resseq=84 icode= >\n",
      "<Residue CYS het=  resseq=85 icode= >\n",
      "<Residue VAL het=  resseq=86 icode= >\n",
      "<Residue LEU het=  resseq=87 icode= >\n",
      "<Residue LYS het=  resseq=88 icode= >\n",
      "<Residue LEU het=  resseq=89 icode= >\n",
      "<Residue LYS het=  resseq=90 icode= >\n",
      "<Residue VAL het=  resseq=91 icode= >\n",
      "<Residue ASP het=  resseq=92 icode= >\n",
      "<Residue THR het=  resseq=93 icode= >\n",
      "<Residue ALA het=  resseq=94 icode= >\n",
      "<Residue ASN het=  resseq=95 icode= >\n",
      "<Residue PRO het=  resseq=96 icode= >\n",
      "<Residue LYS het=  resseq=97 icode= >\n",
      "<Residue THR het=  resseq=98 icode= >\n",
      "<Residue PRO het=  resseq=99 icode= >\n",
      "<Residue LYS het=  resseq=100 icode= >\n",
      "<Residue TYR het=  resseq=101 icode= >\n",
      "<Residue LYS het=  resseq=102 icode= >\n",
      "<Residue PHE het=  resseq=103 icode= >\n",
      "<Residue VAL het=  resseq=104 icode= >\n",
      "<Residue ARG het=  resseq=105 icode= >\n",
      "<Residue ILE het=  resseq=106 icode= >\n",
      "<Residue GLN het=  resseq=107 icode= >\n",
      "<Residue PRO het=  resseq=108 icode= >\n",
      "<Residue GLY het=  resseq=109 icode= >\n",
      "<Residue GLN het=  resseq=110 icode= >\n",
      "<Residue THR het=  resseq=111 icode= >\n",
      "<Residue PHE het=  resseq=112 icode= >\n",
      "<Residue SER het=  resseq=113 icode= >\n",
      "<Residue VAL het=  resseq=114 icode= >\n",
      "<Residue LEU het=  resseq=115 icode= >\n",
      "<Residue ALA het=  resseq=116 icode= >\n",
      "<Residue CYS het=  resseq=117 icode= >\n",
      "<Residue TYR het=  resseq=118 icode= >\n",
      "<Residue ASN het=  resseq=119 icode= >\n",
      "<Residue GLY het=  resseq=120 icode= >\n",
      "<Residue SER het=  resseq=121 icode= >\n",
      "<Residue PRO het=  resseq=122 icode= >\n",
      "<Residue SER het=  resseq=123 icode= >\n",
      "<Residue GLY het=  resseq=124 icode= >\n",
      "<Residue VAL het=  resseq=125 icode= >\n",
      "<Residue TYR het=  resseq=126 icode= >\n",
      "<Residue GLN het=  resseq=127 icode= >\n",
      "<Residue CYS het=  resseq=128 icode= >\n",
      "<Residue ALA het=  resseq=129 icode= >\n",
      "<Residue MET het=  resseq=130 icode= >\n",
      "<Residue ARG het=  resseq=131 icode= >\n",
      "<Residue PRO het=  resseq=132 icode= >\n",
      "<Residue ASN het=  resseq=133 icode= >\n",
      "<Residue PHE het=  resseq=134 icode= >\n",
      "<Residue THR het=  resseq=135 icode= >\n",
      "<Residue ILE het=  resseq=136 icode= >\n",
      "<Residue LYS het=  resseq=137 icode= >\n",
      "<Residue GLY het=  resseq=138 icode= >\n",
      "<Residue SER het=  resseq=139 icode= >\n",
      "<Residue PHE het=  resseq=140 icode= >\n",
      "<Residue LEU het=  resseq=141 icode= >\n",
      "<Residue ASN het=  resseq=142 icode= >\n",
      "<Residue GLY het=  resseq=143 icode= >\n",
      "<Residue SER het=  resseq=144 icode= >\n",
      "<Residue CYS het=  resseq=145 icode= >\n",
      "<Residue GLY het=  resseq=146 icode= >\n",
      "<Residue SER het=  resseq=147 icode= >\n",
      "<Residue VAL het=  resseq=148 icode= >\n",
      "<Residue GLY het=  resseq=149 icode= >\n",
      "<Residue PHE het=  resseq=150 icode= >\n",
      "<Residue ASN het=  resseq=151 icode= >\n",
      "<Residue ILE het=  resseq=152 icode= >\n",
      "<Residue ASP het=  resseq=153 icode= >\n",
      "<Residue TYR het=  resseq=154 icode= >\n",
      "<Residue ASP het=  resseq=155 icode= >\n",
      "<Residue CYS het=  resseq=156 icode= >\n",
      "<Residue VAL het=  resseq=157 icode= >\n",
      "<Residue SER het=  resseq=158 icode= >\n",
      "<Residue PHE het=  resseq=159 icode= >\n",
      "<Residue CYS het=  resseq=160 icode= >\n",
      "<Residue TYR het=  resseq=161 icode= >\n",
      "<Residue MET het=  resseq=162 icode= >\n",
      "<Residue HIS het=  resseq=163 icode= >\n",
      "<Residue HIS het=  resseq=164 icode= >\n",
      "<Residue MET het=  resseq=165 icode= >\n",
      "<Residue GLU het=  resseq=166 icode= >\n",
      "<Residue LEU het=  resseq=167 icode= >\n",
      "<Residue PRO het=  resseq=168 icode= >\n",
      "<Residue THR het=  resseq=169 icode= >\n",
      "<Residue GLY het=  resseq=170 icode= >\n",
      "<Residue VAL het=  resseq=171 icode= >\n",
      "<Residue HIS het=  resseq=172 icode= >\n",
      "<Residue ALA het=  resseq=173 icode= >\n",
      "<Residue GLY het=  resseq=174 icode= >\n",
      "<Residue THR het=  resseq=175 icode= >\n",
      "<Residue ASP het=  resseq=176 icode= >\n",
      "<Residue LEU het=  resseq=177 icode= >\n",
      "<Residue GLU het=  resseq=178 icode= >\n",
      "<Residue GLY het=  resseq=179 icode= >\n",
      "<Residue ASN het=  resseq=180 icode= >\n",
      "<Residue PHE het=  resseq=181 icode= >\n",
      "<Residue TYR het=  resseq=182 icode= >\n",
      "<Residue GLY het=  resseq=183 icode= >\n",
      "<Residue PRO het=  resseq=184 icode= >\n",
      "<Residue PHE het=  resseq=185 icode= >\n",
      "<Residue VAL het=  resseq=186 icode= >\n",
      "<Residue ASP het=  resseq=187 icode= >\n",
      "<Residue ARG het=  resseq=188 icode= >\n",
      "<Residue GLN het=  resseq=189 icode= >\n",
      "<Residue THR het=  resseq=190 icode= >\n",
      "<Residue ALA het=  resseq=191 icode= >\n",
      "<Residue GLN het=  resseq=192 icode= >\n",
      "<Residue ALA het=  resseq=193 icode= >\n",
      "<Residue ALA het=  resseq=194 icode= >\n",
      "<Residue GLY het=  resseq=195 icode= >\n",
      "<Residue THR het=  resseq=196 icode= >\n",
      "<Residue ASP het=  resseq=197 icode= >\n",
      "<Residue THR het=  resseq=198 icode= >\n",
      "<Residue THR het=  resseq=199 icode= >\n",
      "<Residue ILE het=  resseq=200 icode= >\n",
      "<Residue THR het=  resseq=201 icode= >\n",
      "<Residue VAL het=  resseq=202 icode= >\n",
      "<Residue ASN het=  resseq=203 icode= >\n",
      "<Residue VAL het=  resseq=204 icode= >\n",
      "<Residue LEU het=  resseq=205 icode= >\n",
      "<Residue ALA het=  resseq=206 icode= >\n",
      "<Residue TRP het=  resseq=207 icode= >\n",
      "<Residue LEU het=  resseq=208 icode= >\n",
      "<Residue TYR het=  resseq=209 icode= >\n",
      "<Residue ALA het=  resseq=210 icode= >\n",
      "<Residue ALA het=  resseq=211 icode= >\n",
      "<Residue VAL het=  resseq=212 icode= >\n",
      "<Residue ILE het=  resseq=213 icode= >\n",
      "<Residue ASN het=  resseq=214 icode= >\n",
      "<Residue GLY het=  resseq=215 icode= >\n",
      "<Residue ASP het=  resseq=216 icode= >\n",
      "<Residue ARG het=  resseq=217 icode= >\n",
      "<Residue TRP het=  resseq=218 icode= >\n",
      "<Residue PHE het=  resseq=219 icode= >\n",
      "<Residue LEU het=  resseq=220 icode= >\n",
      "<Residue ASN het=  resseq=221 icode= >\n",
      "<Residue ARG het=  resseq=222 icode= >\n",
      "<Residue PHE het=  resseq=223 icode= >\n",
      "<Residue THR het=  resseq=224 icode= >\n",
      "<Residue THR het=  resseq=225 icode= >\n",
      "<Residue THR het=  resseq=226 icode= >\n",
      "<Residue LEU het=  resseq=227 icode= >\n",
      "<Residue ASN het=  resseq=228 icode= >\n",
      "<Residue ASP het=  resseq=229 icode= >\n",
      "<Residue PHE het=  resseq=230 icode= >\n",
      "<Residue ASN het=  resseq=231 icode= >\n",
      "<Residue LEU het=  resseq=232 icode= >\n",
      "<Residue VAL het=  resseq=233 icode= >\n",
      "<Residue ALA het=  resseq=234 icode= >\n",
      "<Residue MET het=  resseq=235 icode= >\n",
      "<Residue LYS het=  resseq=236 icode= >\n",
      "<Residue TYR het=  resseq=237 icode= >\n",
      "<Residue ASN het=  resseq=238 icode= >\n",
      "<Residue TYR het=  resseq=239 icode= >\n",
      "<Residue GLU het=  resseq=240 icode= >\n",
      "<Residue PRO het=  resseq=241 icode= >\n",
      "<Residue LEU het=  resseq=242 icode= >\n",
      "<Residue THR het=  resseq=243 icode= >\n",
      "<Residue GLN het=  resseq=244 icode= >\n",
      "<Residue ASP het=  resseq=245 icode= >\n",
      "<Residue HIS het=  resseq=246 icode= >\n",
      "<Residue VAL het=  resseq=247 icode= >\n",
      "<Residue ASP het=  resseq=248 icode= >\n",
      "<Residue ILE het=  resseq=249 icode= >\n",
      "<Residue LEU het=  resseq=250 icode= >\n",
      "<Residue GLY het=  resseq=251 icode= >\n",
      "<Residue PRO het=  resseq=252 icode= >\n",
      "<Residue LEU het=  resseq=253 icode= >\n",
      "<Residue SER het=  resseq=254 icode= >\n",
      "<Residue ALA het=  resseq=255 icode= >\n",
      "<Residue GLN het=  resseq=256 icode= >\n",
      "<Residue THR het=  resseq=257 icode= >\n",
      "<Residue GLY het=  resseq=258 icode= >\n",
      "<Residue ILE het=  resseq=259 icode= >\n",
      "<Residue ALA het=  resseq=260 icode= >\n",
      "<Residue VAL het=  resseq=261 icode= >\n",
      "<Residue LEU het=  resseq=262 icode= >\n",
      "<Residue ASP het=  resseq=263 icode= >\n",
      "<Residue MET het=  resseq=264 icode= >\n",
      "<Residue CYS het=  resseq=265 icode= >\n",
      "<Residue ALA het=  resseq=266 icode= >\n",
      "<Residue SER het=  resseq=267 icode= >\n",
      "<Residue LEU het=  resseq=268 icode= >\n",
      "<Residue LYS het=  resseq=269 icode= >\n",
      "<Residue GLU het=  resseq=270 icode= >\n",
      "<Residue LEU het=  resseq=271 icode= >\n",
      "<Residue LEU het=  resseq=272 icode= >\n",
      "<Residue GLN het=  resseq=273 icode= >\n",
      "<Residue ASN het=  resseq=274 icode= >\n",
      "<Residue GLY het=  resseq=275 icode= >\n",
      "<Residue MET het=  resseq=276 icode= >\n",
      "<Residue ASN het=  resseq=277 icode= >\n",
      "<Residue GLY het=  resseq=278 icode= >\n",
      "<Residue ARG het=  resseq=279 icode= >\n",
      "<Residue THR het=  resseq=280 icode= >\n",
      "<Residue ILE het=  resseq=281 icode= >\n",
      "<Residue LEU het=  resseq=282 icode= >\n",
      "<Residue GLY het=  resseq=283 icode= >\n",
      "<Residue SER het=  resseq=284 icode= >\n",
      "<Residue ALA het=  resseq=285 icode= >\n",
      "<Residue LEU het=  resseq=286 icode= >\n",
      "<Residue LEU het=  resseq=287 icode= >\n",
      "<Residue GLU het=  resseq=288 icode= >\n",
      "<Residue ASP het=  resseq=289 icode= >\n",
      "<Residue GLU het=  resseq=290 icode= >\n",
      "<Residue PHE het=  resseq=291 icode= >\n",
      "<Residue THR het=  resseq=292 icode= >\n",
      "<Residue PRO het=  resseq=293 icode= >\n",
      "<Residue PHE het=  resseq=294 icode= >\n",
      "<Residue ASP het=  resseq=295 icode= >\n",
      "<Residue VAL het=  resseq=296 icode= >\n",
      "<Residue VAL het=  resseq=297 icode= >\n",
      "<Residue ARG het=  resseq=298 icode= >\n",
      "<Residue GLN het=  resseq=299 icode= >\n",
      "<Residue CYS het=  resseq=300 icode= >\n",
      "<Residue SER het=  resseq=301 icode= >\n",
      "<Residue GLY het=  resseq=302 icode= >\n",
      "<Residue VAL het=  resseq=303 icode= >\n",
      "<Residue THR het=  resseq=304 icode= >\n",
      "<Residue PHE het=  resseq=305 icode= >\n",
      "<Residue GLN het=  resseq=306 icode= >\n",
      "<Residue HOH het=W resseq=401 icode= >\n",
      "<Residue HOH het=W resseq=402 icode= >\n",
      "<Residue HOH het=W resseq=403 icode= >\n",
      "<Residue HOH het=W resseq=404 icode= >\n",
      "<Residue HOH het=W resseq=405 icode= >\n",
      "<Residue HOH het=W resseq=406 icode= >\n",
      "<Residue HOH het=W resseq=407 icode= >\n",
      "<Residue HOH het=W resseq=408 icode= >\n",
      "<Residue HOH het=W resseq=409 icode= >\n",
      "<Residue HOH het=W resseq=410 icode= >\n",
      "<Residue HOH het=W resseq=411 icode= >\n",
      "<Residue HOH het=W resseq=412 icode= >\n",
      "<Residue HOH het=W resseq=413 icode= >\n",
      "<Residue HOH het=W resseq=414 icode= >\n",
      "<Residue HOH het=W resseq=415 icode= >\n",
      "<Residue HOH het=W resseq=416 icode= >\n",
      "<Residue HOH het=W resseq=417 icode= >\n",
      "<Residue HOH het=W resseq=418 icode= >\n",
      "<Residue HOH het=W resseq=419 icode= >\n",
      "<Residue HOH het=W resseq=420 icode= >\n",
      "<Residue HOH het=W resseq=421 icode= >\n",
      "<Residue HOH het=W resseq=422 icode= >\n",
      "<Residue HOH het=W resseq=423 icode= >\n",
      "<Residue HOH het=W resseq=424 icode= >\n",
      "<Residue HOH het=W resseq=425 icode= >\n",
      "<Residue HOH het=W resseq=426 icode= >\n",
      "<Residue HOH het=W resseq=427 icode= >\n",
      "<Residue HOH het=W resseq=428 icode= >\n",
      "<Residue HOH het=W resseq=429 icode= >\n",
      "<Residue HOH het=W resseq=430 icode= >\n",
      "<Residue HOH het=W resseq=431 icode= >\n",
      "<Residue HOH het=W resseq=432 icode= >\n",
      "<Residue HOH het=W resseq=433 icode= >\n",
      "<Residue HOH het=W resseq=434 icode= >\n",
      "<Residue HOH het=W resseq=435 icode= >\n",
      "<Residue HOH het=W resseq=436 icode= >\n",
      "<Residue HOH het=W resseq=437 icode= >\n",
      "<Residue HOH het=W resseq=438 icode= >\n",
      "<Residue HOH het=W resseq=439 icode= >\n",
      "<Residue HOH het=W resseq=440 icode= >\n",
      "<Residue HOH het=W resseq=441 icode= >\n",
      "<Residue HOH het=W resseq=442 icode= >\n",
      "<Residue HOH het=W resseq=443 icode= >\n",
      "<Residue HOH het=W resseq=444 icode= >\n",
      "<Residue HOH het=W resseq=445 icode= >\n",
      "<Residue HOH het=W resseq=446 icode= >\n",
      "<Residue HOH het=W resseq=447 icode= >\n",
      "<Residue HOH het=W resseq=448 icode= >\n",
      "<Residue HOH het=W resseq=449 icode= >\n",
      "<Residue HOH het=W resseq=450 icode= >\n",
      "<Residue HOH het=W resseq=451 icode= >\n",
      "<Residue HOH het=W resseq=452 icode= >\n",
      "<Residue HOH het=W resseq=453 icode= >\n",
      "<Residue HOH het=W resseq=454 icode= >\n",
      "<Residue HOH het=W resseq=455 icode= >\n",
      "<Residue HOH het=W resseq=456 icode= >\n",
      "<Residue HOH het=W resseq=457 icode= >\n",
      "<Residue HOH het=W resseq=458 icode= >\n",
      "<Residue HOH het=W resseq=459 icode= >\n",
      "<Residue HOH het=W resseq=460 icode= >\n",
      "<Residue HOH het=W resseq=461 icode= >\n",
      "<Residue HOH het=W resseq=462 icode= >\n",
      "<Residue HOH het=W resseq=463 icode= >\n",
      "<Residue HOH het=W resseq=464 icode= >\n",
      "<Residue HOH het=W resseq=465 icode= >\n",
      "<Residue HOH het=W resseq=466 icode= >\n",
      "<Residue HOH het=W resseq=467 icode= >\n",
      "<Residue HOH het=W resseq=468 icode= >\n",
      "<Residue HOH het=W resseq=469 icode= >\n",
      "<Residue HOH het=W resseq=470 icode= >\n",
      "<Residue HOH het=W resseq=471 icode= >\n",
      "<Residue HOH het=W resseq=472 icode= >\n",
      "<Residue HOH het=W resseq=473 icode= >\n",
      "<Residue HOH het=W resseq=474 icode= >\n",
      "<Residue HOH het=W resseq=475 icode= >\n",
      "<Residue HOH het=W resseq=476 icode= >\n",
      "<Residue HOH het=W resseq=477 icode= >\n",
      "<Residue HOH het=W resseq=478 icode= >\n",
      "<Residue HOH het=W resseq=479 icode= >\n",
      "<Residue HOH het=W resseq=480 icode= >\n",
      "<Residue HOH het=W resseq=481 icode= >\n",
      "<Residue HOH het=W resseq=482 icode= >\n",
      "<Residue HOH het=W resseq=483 icode= >\n",
      "<Residue HOH het=W resseq=484 icode= >\n",
      "Chain <Chain id=C>,Chain_IDC\n",
      "<Residue 02J het=H_02J resseq=1 icode= >\n",
      "<Residue ALA het=  resseq=2 icode= >\n",
      "<Residue VAL het=  resseq=3 icode= >\n",
      "<Residue LEU het=  resseq=4 icode= >\n",
      "<Residue PJE het=H_PJE resseq=5 icode= >\n",
      "<Residue 010 het=H_010 resseq=6 icode= >\n"
     ]
    }
   ],
   "source": [
    "# Check for Residue\n",
    "for chain in model:\n",
    "    print(f'Chain {chain},Chain_ID{chain.id}')\n",
    "    for residue in chain:\n",
    "        print(residue)"
   ]
  },
  {
   "cell_type": "code",
   "execution_count": 147,
   "metadata": {
    "collapsed": true,
    "jupyter": {
     "outputs_hidden": true
    }
   },
   "outputs": [
    {
     "name": "stdout",
     "output_type": "stream",
     "text": [
      "Chain <Chain id=A>,Chain_IDA\n",
      "<Atom N>\n",
      "<Atom CA>\n",
      "<Atom C>\n",
      "<Atom O>\n",
      "<Atom CB>\n",
      "<Atom OG>\n",
      "<Atom N>\n",
      "<Atom CA>\n",
      "<Atom C>\n",
      "<Atom O>\n",
      "<Atom N>\n",
      "<Atom CA>\n",
      "<Atom C>\n",
      "<Atom O>\n",
      "<Atom CB>\n",
      "<Atom CG>\n",
      "<Atom CD1>\n",
      "<Atom CD2>\n",
      "<Atom CE1>\n",
      "<Atom CE2>\n",
      "<Atom CZ>\n",
      "<Atom N>\n",
      "<Atom CA>\n",
      "<Atom C>\n",
      "<Atom O>\n",
      "<Atom CB>\n",
      "<Atom CG>\n",
      "<Atom CD>\n",
      "<Atom NE>\n",
      "<Atom CZ>\n",
      "<Atom NH1>\n",
      "<Atom NH2>\n",
      "<Atom N>\n",
      "<Atom CA>\n",
      "<Atom C>\n",
      "<Atom O>\n",
      "<Atom CB>\n",
      "<Atom CG>\n",
      "<Atom CD>\n",
      "<Atom CE>\n",
      "<Atom NZ>\n",
      "<Atom N>\n",
      "<Atom CA>\n",
      "<Atom C>\n",
      "<Atom O>\n",
      "<Atom CB>\n",
      "<Atom CG>\n",
      "<Atom SD>\n",
      "<Atom CE>\n",
      "<Atom N>\n",
      "<Atom CA>\n",
      "<Atom C>\n",
      "<Atom O>\n",
      "<Atom CB>\n",
      "<Atom N>\n",
      "<Atom CA>\n",
      "<Atom C>\n",
      "<Atom O>\n",
      "<Atom CB>\n",
      "<Atom CG>\n",
      "<Atom CD1>\n",
      "<Atom CD2>\n",
      "<Atom CE1>\n",
      "<Atom CE2>\n",
      "<Atom CZ>\n",
      "<Atom N>\n",
      "<Atom CA>\n",
      "<Atom C>\n",
      "<Atom O>\n",
      "<Atom CB>\n",
      "<Atom CG>\n",
      "<Atom CD>\n",
      "<Atom N>\n",
      "<Atom CA>\n",
      "<Atom C>\n",
      "<Atom O>\n",
      "<Atom CB>\n",
      "<Atom OG>\n",
      "<Atom N>\n",
      "<Atom CA>\n",
      "<Atom C>\n",
      "<Atom O>\n",
      "<Atom N>\n",
      "<Atom CA>\n",
      "<Atom C>\n",
      "<Atom O>\n",
      "<Atom CB>\n",
      "<Atom CG>\n",
      "<Atom CD>\n",
      "<Atom CE>\n",
      "<Atom NZ>\n",
      "<Atom N>\n",
      "<Atom CA>\n",
      "<Atom C>\n",
      "<Atom O>\n",
      "<Atom CB>\n",
      "<Atom CG1>\n",
      "<Atom CG2>\n",
      "<Atom N>\n",
      "<Atom CA>\n",
      "<Atom C>\n",
      "<Atom O>\n",
      "<Atom CB>\n",
      "<Atom CG>\n",
      "<Atom CD>\n",
      "<Atom OE1>\n",
      "<Atom OE2>\n",
      "<Atom N>\n",
      "<Atom CA>\n",
      "<Atom C>\n",
      "<Atom O>\n",
      "<Atom N>\n",
      "<Atom CA>\n",
      "<Atom C>\n",
      "<Atom O>\n",
      "<Atom CB>\n",
      "<Atom SG>\n",
      "<Atom N>\n",
      "<Atom CA>\n",
      "<Atom C>\n",
      "<Atom O>\n",
      "<Atom CB>\n",
      "<Atom CG>\n",
      "<Atom SD>\n",
      "<Atom CE>\n",
      "<Atom N>\n",
      "<Atom CA>\n",
      "<Atom C>\n",
      "<Atom O>\n",
      "<Atom CB>\n",
      "<Atom CG1>\n",
      "<Atom CG2>\n",
      "<Atom N>\n",
      "<Atom CA>\n",
      "<Atom C>\n",
      "<Atom O>\n",
      "<Atom CB>\n",
      "<Atom CG>\n",
      "<Atom CD>\n",
      "<Atom OE1>\n",
      "<Atom NE2>\n",
      "<Atom N>\n",
      "<Atom CA>\n",
      "<Atom C>\n",
      "<Atom O>\n",
      "<Atom CB>\n",
      "<Atom CG1>\n",
      "<Atom CG2>\n",
      "<Atom N>\n",
      "<Atom CA>\n",
      "<Atom C>\n",
      "<Atom O>\n",
      "<Atom CB>\n",
      "<Atom OG1>\n",
      "<Atom CG2>\n",
      "<Atom N>\n",
      "<Atom CA>\n",
      "<Atom C>\n",
      "<Atom O>\n",
      "<Atom CB>\n",
      "<Atom SG>\n",
      "<Atom N>\n",
      "<Atom CA>\n",
      "<Atom C>\n",
      "<Atom O>\n",
      "<Atom N>\n",
      "<Atom CA>\n",
      "<Atom C>\n",
      "<Atom O>\n",
      "<Atom CB>\n",
      "<Atom OG1>\n",
      "<Atom CG2>\n",
      "<Atom N>\n",
      "<Atom CA>\n",
      "<Atom C>\n",
      "<Atom O>\n",
      "<Atom CB>\n",
      "<Atom OG1>\n",
      "<Atom CG2>\n",
      "<Atom N>\n",
      "<Atom CA>\n",
      "<Atom C>\n",
      "<Atom O>\n",
      "<Atom CB>\n",
      "<Atom OG1>\n",
      "<Atom CG2>\n",
      "<Atom N>\n",
      "<Atom CA>\n",
      "<Atom C>\n",
      "<Atom O>\n",
      "<Atom CB>\n",
      "<Atom CG>\n",
      "<Atom CD1>\n",
      "<Atom CD2>\n",
      "<Atom N>\n",
      "<Atom CA>\n",
      "<Atom C>\n",
      "<Atom O>\n",
      "<Atom CB>\n",
      "<Atom CG>\n",
      "<Atom OD1>\n",
      "<Atom ND2>\n",
      "<Atom N>\n",
      "<Atom CA>\n",
      "<Atom C>\n",
      "<Atom O>\n",
      "<Atom N>\n",
      "<Atom CA>\n",
      "<Atom C>\n",
      "<Atom O>\n",
      "<Atom CB>\n",
      "<Atom CG>\n",
      "<Atom CD1>\n",
      "<Atom CD2>\n",
      "<Atom N>\n",
      "<Atom CA>\n",
      "<Atom C>\n",
      "<Atom O>\n",
      "<Atom CB>\n",
      "<Atom CG>\n",
      "<Atom CD1>\n",
      "<Atom CD2>\n",
      "<Atom NE1>\n",
      "<Atom CE2>\n",
      "<Atom CE3>\n",
      "<Atom CZ2>\n",
      "<Atom CZ3>\n",
      "<Atom CH2>\n",
      "<Atom N>\n",
      "<Atom CA>\n",
      "<Atom C>\n",
      "<Atom O>\n",
      "<Atom CB>\n",
      "<Atom CG>\n",
      "<Atom CD1>\n",
      "<Atom CD2>\n",
      "<Atom N>\n",
      "<Atom CA>\n",
      "<Atom C>\n",
      "<Atom O>\n",
      "<Atom CB>\n",
      "<Atom CG>\n",
      "<Atom OD1>\n",
      "<Atom OD2>\n",
      "<Atom N>\n",
      "<Atom CA>\n",
      "<Atom C>\n",
      "<Atom O>\n",
      "<Atom CB>\n",
      "<Atom CG>\n",
      "<Atom OD1>\n",
      "<Atom OD2>\n",
      "<Atom N>\n",
      "<Atom CA>\n",
      "<Atom C>\n",
      "<Atom O>\n",
      "<Atom CB>\n",
      "<Atom CG1>\n",
      "<Atom CG2>\n",
      "<Atom N>\n",
      "<Atom CA>\n",
      "<Atom C>\n",
      "<Atom O>\n",
      "<Atom CB>\n",
      "<Atom CG1>\n",
      "<Atom CG2>\n",
      "<Atom N>\n",
      "<Atom CA>\n",
      "<Atom C>\n",
      "<Atom O>\n",
      "<Atom CB>\n",
      "<Atom CG>\n",
      "<Atom CD1>\n",
      "<Atom CD2>\n",
      "<Atom CE1>\n",
      "<Atom CE2>\n",
      "<Atom CZ>\n",
      "<Atom OH>\n",
      "<Atom N>\n",
      "<Atom CA>\n",
      "<Atom C>\n",
      "<Atom O>\n",
      "<Atom CB>\n",
      "<Atom SG>\n",
      "<Atom N>\n",
      "<Atom CA>\n",
      "<Atom C>\n",
      "<Atom O>\n",
      "<Atom CB>\n",
      "<Atom CG>\n",
      "<Atom CD>\n",
      "<Atom N>\n",
      "<Atom CA>\n",
      "<Atom C>\n",
      "<Atom O>\n",
      "<Atom CB>\n",
      "<Atom CG>\n",
      "<Atom CD>\n",
      "<Atom NE>\n",
      "<Atom CZ>\n",
      "<Atom NH1>\n",
      "<Atom NH2>\n",
      "<Atom N>\n",
      "<Atom CA>\n",
      "<Atom C>\n",
      "<Atom O>\n",
      "<Atom CB>\n",
      "<Atom CG>\n",
      "<Atom ND1>\n",
      "<Atom CD2>\n",
      "<Atom CE1>\n",
      "<Atom NE2>\n",
      "<Atom N>\n",
      "<Atom CA>\n",
      "<Atom C>\n",
      "<Atom O>\n",
      "<Atom CB>\n",
      "<Atom CG1>\n",
      "<Atom CG2>\n",
      "<Atom N>\n",
      "<Atom CA>\n",
      "<Atom C>\n",
      "<Atom O>\n",
      "<Atom CB>\n",
      "<Atom CG1>\n",
      "<Atom CG2>\n",
      "<Atom CD1>\n",
      "<Atom N>\n",
      "<Atom CA>\n",
      "<Atom C>\n",
      "<Atom O>\n",
      "<Atom CB>\n",
      "<Atom SG>\n",
      "<Atom N>\n",
      "<Atom CA>\n",
      "<Atom C>\n",
      "<Atom O>\n",
      "<Atom CB>\n",
      "<Atom OG1>\n",
      "<Atom CG2>\n",
      "<Atom N>\n",
      "<Atom CA>\n",
      "<Atom C>\n",
      "<Atom O>\n",
      "<Atom CB>\n",
      "<Atom OG>\n",
      "<Atom N>\n",
      "<Atom CA>\n",
      "<Atom C>\n",
      "<Atom O>\n",
      "<Atom CB>\n",
      "<Atom CG>\n",
      "<Atom CD>\n",
      "<Atom OE1>\n",
      "<Atom OE2>\n",
      "<Atom N>\n",
      "<Atom CA>\n",
      "<Atom C>\n",
      "<Atom O>\n",
      "<Atom CB>\n",
      "<Atom CG>\n",
      "<Atom OD1>\n",
      "<Atom OD2>\n",
      "<Atom N>\n",
      "<Atom CA>\n",
      "<Atom C>\n",
      "<Atom O>\n",
      "<Atom CB>\n",
      "<Atom CG>\n",
      "<Atom SD>\n",
      "<Atom CE>\n",
      "<Atom N>\n",
      "<Atom CA>\n",
      "<Atom C>\n",
      "<Atom O>\n",
      "<Atom CB>\n",
      "<Atom CG>\n",
      "<Atom CD1>\n",
      "<Atom CD2>\n",
      "<Atom N>\n",
      "<Atom CA>\n",
      "<Atom C>\n",
      "<Atom O>\n",
      "<Atom CB>\n",
      "<Atom CG>\n",
      "<Atom OD1>\n",
      "<Atom ND2>\n",
      "<Atom N>\n",
      "<Atom CA>\n",
      "<Atom C>\n",
      "<Atom O>\n",
      "<Atom CB>\n",
      "<Atom CG>\n",
      "<Atom CD>\n",
      "<Atom N>\n",
      "<Atom CA>\n",
      "<Atom C>\n",
      "<Atom O>\n",
      "<Atom CB>\n",
      "<Atom CG>\n",
      "<Atom OD1>\n",
      "<Atom ND2>\n",
      "<Atom N>\n",
      "<Atom CA>\n",
      "<Atom C>\n",
      "<Atom O>\n",
      "<Atom CB>\n",
      "<Atom CG>\n",
      "<Atom CD1>\n",
      "<Atom CD2>\n",
      "<Atom CE1>\n",
      "<Atom CE2>\n",
      "<Atom CZ>\n",
      "<Atom OH>\n",
      "<Atom N>\n",
      "<Atom CA>\n",
      "<Atom C>\n",
      "<Atom O>\n",
      "<Atom CB>\n",
      "<Atom CG>\n",
      "<Atom CD>\n",
      "<Atom OE1>\n",
      "<Atom OE2>\n",
      "<Atom N>\n",
      "<Atom CA>\n",
      "<Atom C>\n",
      "<Atom O>\n",
      "<Atom CB>\n",
      "<Atom CG>\n",
      "<Atom OD1>\n",
      "<Atom OD2>\n",
      "<Atom N>\n",
      "<Atom CA>\n",
      "<Atom C>\n",
      "<Atom O>\n",
      "<Atom CB>\n",
      "<Atom CG>\n",
      "<Atom CD1>\n",
      "<Atom CD2>\n",
      "<Atom N>\n",
      "<Atom CA>\n",
      "<Atom C>\n",
      "<Atom O>\n",
      "<Atom CB>\n",
      "<Atom CG>\n",
      "<Atom CD1>\n",
      "<Atom CD2>\n",
      "<Atom N>\n",
      "<Atom CA>\n",
      "<Atom C>\n",
      "<Atom O>\n",
      "<Atom CB>\n",
      "<Atom CG1>\n",
      "<Atom CG2>\n",
      "<Atom CD1>\n",
      "<Atom N>\n",
      "<Atom CA>\n",
      "<Atom C>\n",
      "<Atom O>\n",
      "<Atom CB>\n",
      "<Atom CG>\n",
      "<Atom CD>\n",
      "<Atom NE>\n",
      "<Atom CZ>\n",
      "<Atom NH1>\n",
      "<Atom NH2>\n",
      "<Atom N>\n",
      "<Atom CA>\n",
      "<Atom C>\n",
      "<Atom O>\n",
      "<Atom CB>\n",
      "<Atom CG>\n",
      "<Atom CD>\n",
      "<Atom CE>\n",
      "<Atom NZ>\n",
      "<Atom N>\n",
      "<Atom CA>\n",
      "<Atom C>\n",
      "<Atom O>\n",
      "<Atom CB>\n",
      "<Atom OG>\n",
      "<Atom N>\n",
      "<Atom CA>\n",
      "<Atom C>\n",
      "<Atom O>\n",
      "<Atom CB>\n",
      "<Atom CG>\n",
      "<Atom OD1>\n",
      "<Atom ND2>\n",
      "<Atom N>\n",
      "<Atom CA>\n",
      "<Atom C>\n",
      "<Atom O>\n",
      "<Atom CB>\n",
      "<Atom CG>\n",
      "<Atom ND1>\n",
      "<Atom CD2>\n",
      "<Atom CE1>\n",
      "<Atom NE2>\n",
      "<Atom N>\n",
      "<Atom CA>\n",
      "<Atom C>\n",
      "<Atom O>\n",
      "<Atom CB>\n",
      "<Atom CG>\n",
      "<Atom OD1>\n",
      "<Atom ND2>\n",
      "<Atom N>\n",
      "<Atom CA>\n",
      "<Atom C>\n",
      "<Atom O>\n",
      "<Atom CB>\n",
      "<Atom CG>\n",
      "<Atom CD1>\n",
      "<Atom CD2>\n",
      "<Atom CE1>\n",
      "<Atom CE2>\n",
      "<Atom CZ>\n",
      "<Atom N>\n",
      "<Atom CA>\n",
      "<Atom C>\n",
      "<Atom O>\n",
      "<Atom CB>\n",
      "<Atom CG>\n",
      "<Atom CD1>\n",
      "<Atom CD2>\n",
      "<Atom N>\n",
      "<Atom CA>\n",
      "<Atom C>\n",
      "<Atom O>\n",
      "<Atom CB>\n",
      "<Atom CG1>\n",
      "<Atom CG2>\n",
      "<Atom N>\n",
      "<Atom CA>\n",
      "<Atom C>\n",
      "<Atom O>\n",
      "<Atom CB>\n",
      "<Atom CG>\n",
      "<Atom CD>\n",
      "<Atom OE1>\n",
      "<Atom NE2>\n",
      "<Atom N>\n",
      "<Atom CA>\n",
      "<Atom C>\n",
      "<Atom O>\n",
      "<Atom CB>\n",
      "<Atom N>\n",
      "<Atom CA>\n",
      "<Atom C>\n",
      "<Atom O>\n",
      "<Atom N>\n",
      "<Atom CA>\n",
      "<Atom C>\n",
      "<Atom O>\n",
      "<Atom CB>\n",
      "<Atom CG>\n",
      "<Atom OD1>\n",
      "<Atom ND2>\n",
      "<Atom N>\n",
      "<Atom CA>\n",
      "<Atom C>\n",
      "<Atom O>\n",
      "<Atom CB>\n",
      "<Atom CG1>\n",
      "<Atom CG2>\n",
      "<Atom N>\n",
      "<Atom CA>\n",
      "<Atom C>\n",
      "<Atom O>\n",
      "<Atom CB>\n",
      "<Atom CG>\n",
      "<Atom CD>\n",
      "<Atom OE1>\n",
      "<Atom NE2>\n",
      "<Atom N>\n",
      "<Atom CA>\n",
      "<Atom C>\n",
      "<Atom O>\n",
      "<Atom CB>\n",
      "<Atom CG>\n",
      "<Atom CD1>\n",
      "<Atom CD2>\n",
      "<Atom N>\n",
      "<Atom CA>\n",
      "<Atom C>\n",
      "<Atom O>\n",
      "<Atom CB>\n",
      "<Atom CG>\n",
      "<Atom CD>\n",
      "<Atom NE>\n",
      "<Atom CZ>\n",
      "<Atom NH1>\n",
      "<Atom NH2>\n",
      "<Atom N>\n",
      "<Atom CA>\n",
      "<Atom C>\n",
      "<Atom O>\n",
      "<Atom CB>\n",
      "<Atom CG1>\n",
      "<Atom CG2>\n",
      "<Atom N>\n",
      "<Atom CA>\n",
      "<Atom C>\n",
      "<Atom O>\n",
      "<Atom CB>\n",
      "<Atom CG1>\n",
      "<Atom CG2>\n",
      "<Atom CD1>\n",
      "<Atom N>\n",
      "<Atom CA>\n",
      "<Atom C>\n",
      "<Atom O>\n",
      "<Atom N>\n",
      "<Atom CA>\n",
      "<Atom C>\n",
      "<Atom O>\n",
      "<Atom CB>\n",
      "<Atom CG>\n",
      "<Atom ND1>\n",
      "<Atom CD2>\n",
      "<Atom CE1>\n",
      "<Atom NE2>\n",
      "<Atom N>\n",
      "<Atom CA>\n",
      "<Atom C>\n",
      "<Atom O>\n",
      "<Atom CB>\n",
      "<Atom OG>\n",
      "<Atom N>\n",
      "<Atom CA>\n",
      "<Atom C>\n",
      "<Atom O>\n",
      "<Atom CB>\n",
      "<Atom CG>\n",
      "<Atom SD>\n",
      "<Atom CE>\n",
      "<Atom N>\n",
      "<Atom CA>\n",
      "<Atom C>\n",
      "<Atom O>\n",
      "<Atom CB>\n",
      "<Atom CG>\n",
      "<Atom CD>\n",
      "<Atom OE1>\n",
      "<Atom NE2>\n",
      "<Atom N>\n",
      "<Atom CA>\n",
      "<Atom C>\n",
      "<Atom O>\n",
      "<Atom CB>\n",
      "<Atom CG>\n",
      "<Atom OD1>\n",
      "<Atom ND2>\n",
      "<Atom N>\n",
      "<Atom CA>\n",
      "<Atom C>\n",
      "<Atom O>\n",
      "<Atom CB>\n",
      "<Atom SG>\n",
      "<Atom N>\n",
      "<Atom CA>\n",
      "<Atom C>\n",
      "<Atom O>\n",
      "<Atom CB>\n",
      "<Atom CG1>\n",
      "<Atom CG2>\n",
      "<Atom N>\n",
      "<Atom CA>\n",
      "<Atom C>\n",
      "<Atom O>\n",
      "<Atom CB>\n",
      "<Atom CG>\n",
      "<Atom CD1>\n",
      "<Atom CD2>\n",
      "<Atom N>\n",
      "<Atom CA>\n",
      "<Atom C>\n",
      "<Atom O>\n",
      "<Atom CB>\n",
      "<Atom CG>\n",
      "<Atom CD>\n",
      "<Atom CE>\n",
      "<Atom NZ>\n",
      "<Atom N>\n",
      "<Atom CA>\n",
      "<Atom C>\n",
      "<Atom O>\n",
      "<Atom CB>\n",
      "<Atom CG>\n",
      "<Atom CD1>\n",
      "<Atom CD2>\n",
      "<Atom N>\n",
      "<Atom CA>\n",
      "<Atom C>\n",
      "<Atom O>\n",
      "<Atom CB>\n",
      "<Atom CG>\n",
      "<Atom CD>\n",
      "<Atom CE>\n",
      "<Atom NZ>\n",
      "<Atom N>\n",
      "<Atom CA>\n",
      "<Atom C>\n",
      "<Atom O>\n",
      "<Atom CB>\n",
      "<Atom CG1>\n",
      "<Atom CG2>\n",
      "<Atom N>\n",
      "<Atom CA>\n",
      "<Atom C>\n",
      "<Atom O>\n",
      "<Atom CB>\n",
      "<Atom CG>\n",
      "<Atom OD1>\n",
      "<Atom OD2>\n",
      "<Atom N>\n",
      "<Atom CA>\n",
      "<Atom C>\n",
      "<Atom O>\n",
      "<Atom CB>\n",
      "<Atom OG1>\n",
      "<Atom CG2>\n",
      "<Atom N>\n",
      "<Atom CA>\n",
      "<Atom C>\n",
      "<Atom O>\n",
      "<Atom CB>\n",
      "<Atom N>\n",
      "<Atom CA>\n",
      "<Atom C>\n",
      "<Atom O>\n",
      "<Atom CB>\n",
      "<Atom CG>\n",
      "<Atom OD1>\n",
      "<Atom ND2>\n",
      "<Atom N>\n",
      "<Atom CA>\n",
      "<Atom C>\n",
      "<Atom O>\n",
      "<Atom CB>\n",
      "<Atom CG>\n",
      "<Atom CD>\n",
      "<Atom N>\n",
      "<Atom CA>\n",
      "<Atom C>\n",
      "<Atom O>\n",
      "<Atom CB>\n",
      "<Atom CG>\n",
      "<Atom CD>\n",
      "<Atom CE>\n",
      "<Atom NZ>\n",
      "<Atom N>\n",
      "<Atom CA>\n",
      "<Atom C>\n",
      "<Atom O>\n",
      "<Atom CB>\n",
      "<Atom OG1>\n",
      "<Atom CG2>\n",
      "<Atom N>\n",
      "<Atom CA>\n",
      "<Atom C>\n",
      "<Atom O>\n",
      "<Atom CB>\n",
      "<Atom CG>\n",
      "<Atom CD>\n",
      "<Atom N>\n",
      "<Atom CA>\n",
      "<Atom C>\n",
      "<Atom O>\n",
      "<Atom CB>\n",
      "<Atom CG>\n",
      "<Atom CD>\n",
      "<Atom CE>\n",
      "<Atom NZ>\n",
      "<Atom N>\n",
      "<Atom CA>\n",
      "<Atom C>\n",
      "<Atom O>\n",
      "<Atom CB>\n",
      "<Atom CG>\n",
      "<Atom CD1>\n",
      "<Atom CD2>\n",
      "<Atom CE1>\n",
      "<Atom CE2>\n",
      "<Atom CZ>\n",
      "<Atom OH>\n",
      "<Atom N>\n",
      "<Atom CA>\n",
      "<Atom C>\n",
      "<Atom O>\n",
      "<Atom CB>\n",
      "<Atom CG>\n",
      "<Atom CD>\n",
      "<Atom CE>\n",
      "<Atom NZ>\n",
      "<Atom N>\n",
      "<Atom CA>\n",
      "<Atom C>\n",
      "<Atom O>\n",
      "<Atom CB>\n",
      "<Atom CG>\n",
      "<Atom CD1>\n",
      "<Atom CD2>\n",
      "<Atom CE1>\n",
      "<Atom CE2>\n",
      "<Atom CZ>\n",
      "<Atom N>\n",
      "<Atom CA>\n",
      "<Atom C>\n",
      "<Atom O>\n",
      "<Atom CB>\n",
      "<Atom CG1>\n",
      "<Atom CG2>\n",
      "<Atom N>\n",
      "<Atom CA>\n",
      "<Atom C>\n",
      "<Atom O>\n",
      "<Atom CB>\n",
      "<Atom CG>\n",
      "<Atom CD>\n",
      "<Atom NE>\n",
      "<Atom CZ>\n",
      "<Atom NH1>\n",
      "<Atom NH2>\n",
      "<Atom N>\n",
      "<Atom CA>\n",
      "<Atom C>\n",
      "<Atom O>\n",
      "<Atom CB>\n",
      "<Atom CG1>\n",
      "<Atom CG2>\n",
      "<Atom CD1>\n",
      "<Atom N>\n",
      "<Atom CA>\n",
      "<Atom C>\n",
      "<Atom O>\n",
      "<Atom CB>\n",
      "<Atom CG>\n",
      "<Atom CD>\n",
      "<Atom OE1>\n",
      "<Atom NE2>\n",
      "<Atom N>\n",
      "<Atom CA>\n",
      "<Atom C>\n",
      "<Atom O>\n",
      "<Atom CB>\n",
      "<Atom CG>\n",
      "<Atom CD>\n",
      "<Atom N>\n",
      "<Atom CA>\n",
      "<Atom C>\n",
      "<Atom O>\n",
      "<Atom N>\n",
      "<Atom CA>\n",
      "<Atom C>\n",
      "<Atom O>\n",
      "<Atom CB>\n",
      "<Atom CG>\n",
      "<Atom CD>\n",
      "<Atom OE1>\n",
      "<Atom NE2>\n",
      "<Atom N>\n",
      "<Atom CA>\n",
      "<Atom C>\n",
      "<Atom O>\n",
      "<Atom CB>\n",
      "<Atom OG1>\n",
      "<Atom CG2>\n",
      "<Atom N>\n",
      "<Atom CA>\n",
      "<Atom C>\n",
      "<Atom O>\n",
      "<Atom CB>\n",
      "<Atom CG>\n",
      "<Atom CD1>\n",
      "<Atom CD2>\n",
      "<Atom CE1>\n",
      "<Atom CE2>\n",
      "<Atom CZ>\n",
      "<Atom N>\n",
      "<Atom CA>\n",
      "<Atom C>\n",
      "<Atom O>\n",
      "<Atom CB>\n",
      "<Atom OG>\n",
      "<Atom N>\n",
      "<Atom CA>\n",
      "<Atom C>\n",
      "<Atom O>\n",
      "<Atom CB>\n",
      "<Atom CG1>\n",
      "<Atom CG2>\n",
      "<Atom N>\n",
      "<Atom CA>\n",
      "<Atom C>\n",
      "<Atom O>\n",
      "<Atom CB>\n",
      "<Atom CG>\n",
      "<Atom CD1>\n",
      "<Atom CD2>\n",
      "<Atom N>\n",
      "<Atom CA>\n",
      "<Atom C>\n",
      "<Atom O>\n",
      "<Atom CB>\n",
      "<Atom N>\n",
      "<Atom CA>\n",
      "<Atom C>\n",
      "<Atom O>\n",
      "<Atom CB>\n",
      "<Atom SG>\n",
      "<Atom N>\n",
      "<Atom CA>\n",
      "<Atom C>\n",
      "<Atom O>\n",
      "<Atom CB>\n",
      "<Atom CG>\n",
      "<Atom CD1>\n",
      "<Atom CD2>\n",
      "<Atom CE1>\n",
      "<Atom CE2>\n",
      "<Atom CZ>\n",
      "<Atom OH>\n",
      "<Atom N>\n",
      "<Atom CA>\n",
      "<Atom C>\n",
      "<Atom O>\n",
      "<Atom CB>\n",
      "<Atom CG>\n",
      "<Atom OD1>\n",
      "<Atom ND2>\n",
      "<Atom N>\n",
      "<Atom CA>\n",
      "<Atom C>\n",
      "<Atom O>\n",
      "<Atom N>\n",
      "<Atom CA>\n",
      "<Atom C>\n",
      "<Atom O>\n",
      "<Atom CB>\n",
      "<Atom OG>\n",
      "<Atom N>\n",
      "<Atom CA>\n",
      "<Atom C>\n",
      "<Atom O>\n",
      "<Atom CB>\n",
      "<Atom CG>\n",
      "<Atom CD>\n",
      "<Atom N>\n",
      "<Atom CA>\n",
      "<Atom C>\n",
      "<Atom O>\n",
      "<Atom CB>\n",
      "<Atom OG>\n",
      "<Atom N>\n",
      "<Atom CA>\n",
      "<Atom C>\n",
      "<Atom O>\n",
      "<Atom N>\n",
      "<Atom CA>\n",
      "<Atom C>\n",
      "<Atom O>\n",
      "<Atom CB>\n",
      "<Atom CG1>\n",
      "<Atom CG2>\n",
      "<Atom N>\n",
      "<Atom CA>\n",
      "<Atom C>\n",
      "<Atom O>\n",
      "<Atom CB>\n",
      "<Atom CG>\n",
      "<Atom CD1>\n",
      "<Atom CD2>\n",
      "<Atom CE1>\n",
      "<Atom CE2>\n",
      "<Atom CZ>\n",
      "<Atom OH>\n",
      "<Atom N>\n",
      "<Atom CA>\n",
      "<Atom C>\n",
      "<Atom O>\n",
      "<Atom CB>\n",
      "<Atom CG>\n",
      "<Atom CD>\n",
      "<Atom OE1>\n",
      "<Atom NE2>\n",
      "<Atom N>\n",
      "<Atom CA>\n",
      "<Atom C>\n",
      "<Atom O>\n",
      "<Atom CB>\n",
      "<Atom SG>\n",
      "<Atom N>\n",
      "<Atom CA>\n",
      "<Atom C>\n",
      "<Atom O>\n",
      "<Atom CB>\n",
      "<Atom N>\n",
      "<Atom CA>\n",
      "<Atom C>\n",
      "<Atom O>\n",
      "<Atom CB>\n",
      "<Atom CG>\n",
      "<Atom SD>\n",
      "<Atom CE>\n",
      "<Atom N>\n",
      "<Atom CA>\n",
      "<Atom C>\n",
      "<Atom O>\n",
      "<Atom CB>\n",
      "<Atom CG>\n",
      "<Atom CD>\n",
      "<Atom NE>\n",
      "<Atom CZ>\n",
      "<Atom NH1>\n",
      "<Atom NH2>\n",
      "<Atom N>\n",
      "<Atom CA>\n",
      "<Atom C>\n",
      "<Atom O>\n",
      "<Atom CB>\n",
      "<Atom CG>\n",
      "<Atom CD>\n",
      "<Atom N>\n",
      "<Atom CA>\n",
      "<Atom C>\n",
      "<Atom O>\n",
      "<Atom CB>\n",
      "<Atom CG>\n",
      "<Atom OD1>\n",
      "<Atom ND2>\n",
      "<Atom N>\n",
      "<Atom CA>\n",
      "<Atom C>\n",
      "<Atom O>\n",
      "<Atom CB>\n",
      "<Atom CG>\n",
      "<Atom CD1>\n",
      "<Atom CD2>\n",
      "<Atom CE1>\n",
      "<Atom CE2>\n",
      "<Atom CZ>\n",
      "<Atom N>\n",
      "<Atom CA>\n",
      "<Atom C>\n",
      "<Atom O>\n",
      "<Atom CB>\n",
      "<Atom OG1>\n",
      "<Atom CG2>\n",
      "<Atom N>\n",
      "<Atom CA>\n",
      "<Atom C>\n",
      "<Atom O>\n",
      "<Atom CB>\n",
      "<Atom CG1>\n",
      "<Atom CG2>\n",
      "<Atom CD1>\n",
      "<Atom N>\n",
      "<Atom CA>\n",
      "<Atom C>\n",
      "<Atom O>\n",
      "<Atom CB>\n",
      "<Atom CG>\n",
      "<Atom CD>\n",
      "<Atom CE>\n",
      "<Atom NZ>\n",
      "<Atom N>\n",
      "<Atom CA>\n",
      "<Atom C>\n",
      "<Atom O>\n",
      "<Atom N>\n",
      "<Atom CA>\n",
      "<Atom C>\n",
      "<Atom O>\n",
      "<Atom CB>\n",
      "<Atom OG>\n",
      "<Atom N>\n",
      "<Atom CA>\n",
      "<Atom C>\n",
      "<Atom O>\n",
      "<Atom CB>\n",
      "<Atom CG>\n",
      "<Atom CD1>\n",
      "<Atom CD2>\n",
      "<Atom CE1>\n",
      "<Atom CE2>\n",
      "<Atom CZ>\n",
      "<Atom N>\n",
      "<Atom CA>\n",
      "<Atom C>\n",
      "<Atom O>\n",
      "<Atom CB>\n",
      "<Atom CG>\n",
      "<Atom CD1>\n",
      "<Atom CD2>\n",
      "<Atom N>\n",
      "<Atom CA>\n",
      "<Atom C>\n",
      "<Atom O>\n",
      "<Atom CB>\n",
      "<Atom CG>\n",
      "<Atom OD1>\n",
      "<Atom ND2>\n",
      "<Atom N>\n",
      "<Atom CA>\n",
      "<Atom C>\n",
      "<Atom O>\n",
      "<Atom N>\n",
      "<Atom CA>\n",
      "<Atom C>\n",
      "<Atom O>\n",
      "<Atom CB>\n",
      "<Atom OG>\n",
      "<Atom N>\n",
      "<Atom CA>\n",
      "<Atom C>\n",
      "<Atom O>\n",
      "<Atom CB>\n",
      "<Atom SG>\n",
      "<Atom N>\n",
      "<Atom CA>\n",
      "<Atom C>\n",
      "<Atom O>\n",
      "<Atom N>\n",
      "<Atom CA>\n",
      "<Atom C>\n",
      "<Atom O>\n",
      "<Atom CB>\n",
      "<Atom OG>\n",
      "<Atom N>\n",
      "<Atom CA>\n",
      "<Atom C>\n",
      "<Atom O>\n",
      "<Atom CB>\n",
      "<Atom CG1>\n",
      "<Atom CG2>\n",
      "<Atom N>\n",
      "<Atom CA>\n",
      "<Atom C>\n",
      "<Atom O>\n",
      "<Atom N>\n",
      "<Atom CA>\n",
      "<Atom C>\n",
      "<Atom O>\n",
      "<Atom CB>\n",
      "<Atom CG>\n",
      "<Atom CD1>\n",
      "<Atom CD2>\n",
      "<Atom CE1>\n",
      "<Atom CE2>\n",
      "<Atom CZ>\n",
      "<Atom N>\n",
      "<Atom CA>\n",
      "<Atom C>\n",
      "<Atom O>\n",
      "<Atom CB>\n",
      "<Atom CG>\n",
      "<Atom OD1>\n",
      "<Atom ND2>\n",
      "<Atom N>\n",
      "<Atom CA>\n",
      "<Atom C>\n",
      "<Atom O>\n",
      "<Atom CB>\n",
      "<Atom CG1>\n",
      "<Atom CG2>\n",
      "<Atom CD1>\n",
      "<Atom N>\n",
      "<Atom CA>\n",
      "<Atom C>\n",
      "<Atom O>\n",
      "<Atom CB>\n",
      "<Atom CG>\n",
      "<Atom OD1>\n",
      "<Atom OD2>\n",
      "<Atom N>\n",
      "<Atom CA>\n",
      "<Atom C>\n",
      "<Atom O>\n",
      "<Atom CB>\n",
      "<Atom CG>\n",
      "<Atom CD1>\n",
      "<Atom CD2>\n",
      "<Atom CE1>\n",
      "<Atom CE2>\n",
      "<Atom CZ>\n",
      "<Atom OH>\n",
      "<Atom N>\n",
      "<Atom CA>\n",
      "<Atom C>\n",
      "<Atom O>\n",
      "<Atom CB>\n",
      "<Atom CG>\n",
      "<Atom OD1>\n",
      "<Atom OD2>\n",
      "<Atom N>\n",
      "<Atom CA>\n",
      "<Atom C>\n",
      "<Atom O>\n",
      "<Atom CB>\n",
      "<Atom SG>\n",
      "<Atom N>\n",
      "<Atom CA>\n",
      "<Atom C>\n",
      "<Atom O>\n",
      "<Atom CB>\n",
      "<Atom CG1>\n",
      "<Atom CG2>\n",
      "<Atom N>\n",
      "<Atom CA>\n",
      "<Atom C>\n",
      "<Atom O>\n",
      "<Atom CB>\n",
      "<Atom OG>\n",
      "<Atom N>\n",
      "<Atom CA>\n",
      "<Atom C>\n",
      "<Atom O>\n",
      "<Atom CB>\n",
      "<Atom CG>\n",
      "<Atom CD1>\n",
      "<Atom CD2>\n",
      "<Atom CE1>\n",
      "<Atom CE2>\n",
      "<Atom CZ>\n",
      "<Atom N>\n",
      "<Atom CA>\n",
      "<Atom C>\n",
      "<Atom O>\n",
      "<Atom CB>\n",
      "<Atom SG>\n",
      "<Atom N>\n",
      "<Atom CA>\n",
      "<Atom C>\n",
      "<Atom O>\n",
      "<Atom CB>\n",
      "<Atom CG>\n",
      "<Atom CD1>\n",
      "<Atom CD2>\n",
      "<Atom CE1>\n",
      "<Atom CE2>\n",
      "<Atom CZ>\n",
      "<Atom OH>\n",
      "<Atom N>\n",
      "<Atom CA>\n",
      "<Atom C>\n",
      "<Atom O>\n",
      "<Atom CB>\n",
      "<Atom CG>\n",
      "<Atom SD>\n",
      "<Atom CE>\n",
      "<Atom N>\n",
      "<Atom CA>\n",
      "<Atom C>\n",
      "<Atom O>\n",
      "<Atom CB>\n",
      "<Atom CG>\n",
      "<Atom ND1>\n",
      "<Atom CD2>\n",
      "<Atom CE1>\n",
      "<Atom NE2>\n",
      "<Atom N>\n",
      "<Atom CA>\n",
      "<Atom C>\n",
      "<Atom O>\n",
      "<Atom CB>\n",
      "<Atom CG>\n",
      "<Atom ND1>\n",
      "<Atom CD2>\n",
      "<Atom CE1>\n",
      "<Atom NE2>\n",
      "<Atom N>\n",
      "<Atom CA>\n",
      "<Atom C>\n",
      "<Atom O>\n",
      "<Atom CB>\n",
      "<Atom CG>\n",
      "<Atom SD>\n",
      "<Atom CE>\n",
      "<Atom N>\n",
      "<Atom CA>\n",
      "<Atom C>\n",
      "<Atom O>\n",
      "<Atom CB>\n",
      "<Atom CG>\n",
      "<Atom CD>\n",
      "<Atom OE1>\n",
      "<Atom OE2>\n",
      "<Atom N>\n",
      "<Atom CA>\n",
      "<Atom C>\n",
      "<Atom O>\n",
      "<Atom CB>\n",
      "<Atom CG>\n",
      "<Atom CD1>\n",
      "<Atom CD2>\n",
      "<Atom N>\n",
      "<Atom CA>\n",
      "<Atom C>\n",
      "<Atom O>\n",
      "<Atom CB>\n",
      "<Atom CG>\n",
      "<Atom CD>\n",
      "<Atom N>\n",
      "<Atom CA>\n",
      "<Atom C>\n",
      "<Atom O>\n",
      "<Atom CB>\n",
      "<Atom OG1>\n",
      "<Atom CG2>\n",
      "<Atom N>\n",
      "<Atom CA>\n",
      "<Atom C>\n",
      "<Atom O>\n",
      "<Atom N>\n",
      "<Atom CA>\n",
      "<Atom C>\n",
      "<Atom O>\n",
      "<Atom CB>\n",
      "<Atom CG1>\n",
      "<Atom CG2>\n",
      "<Atom N>\n",
      "<Atom CA>\n",
      "<Atom C>\n",
      "<Atom O>\n",
      "<Atom CB>\n",
      "<Atom CG>\n",
      "<Atom ND1>\n",
      "<Atom CD2>\n",
      "<Atom CE1>\n",
      "<Atom NE2>\n",
      "<Atom N>\n",
      "<Atom CA>\n",
      "<Atom C>\n",
      "<Atom O>\n",
      "<Atom CB>\n",
      "<Atom N>\n",
      "<Atom CA>\n",
      "<Atom C>\n",
      "<Atom O>\n",
      "<Atom N>\n",
      "<Atom CA>\n",
      "<Atom C>\n",
      "<Atom O>\n",
      "<Atom CB>\n",
      "<Atom OG1>\n",
      "<Atom CG2>\n",
      "<Atom N>\n",
      "<Atom CA>\n",
      "<Atom C>\n",
      "<Atom O>\n",
      "<Atom CB>\n",
      "<Atom CG>\n",
      "<Atom OD1>\n",
      "<Atom OD2>\n",
      "<Atom N>\n",
      "<Atom CA>\n",
      "<Atom C>\n",
      "<Atom O>\n",
      "<Atom CB>\n",
      "<Atom CG>\n",
      "<Atom CD1>\n",
      "<Atom CD2>\n",
      "<Atom N>\n",
      "<Atom CA>\n",
      "<Atom C>\n",
      "<Atom O>\n",
      "<Atom CB>\n",
      "<Atom CG>\n",
      "<Atom CD>\n",
      "<Atom OE1>\n",
      "<Atom OE2>\n",
      "<Atom N>\n",
      "<Atom CA>\n",
      "<Atom C>\n",
      "<Atom O>\n",
      "<Atom N>\n",
      "<Atom CA>\n",
      "<Atom C>\n",
      "<Atom O>\n",
      "<Atom CB>\n",
      "<Atom CG>\n",
      "<Atom OD1>\n",
      "<Atom ND2>\n",
      "<Atom N>\n",
      "<Atom CA>\n",
      "<Atom C>\n",
      "<Atom O>\n",
      "<Atom CB>\n",
      "<Atom CG>\n",
      "<Atom CD1>\n",
      "<Atom CD2>\n",
      "<Atom CE1>\n",
      "<Atom CE2>\n",
      "<Atom CZ>\n",
      "<Atom N>\n",
      "<Atom CA>\n",
      "<Atom C>\n",
      "<Atom O>\n",
      "<Atom CB>\n",
      "<Atom CG>\n",
      "<Atom CD1>\n",
      "<Atom CD2>\n",
      "<Atom CE1>\n",
      "<Atom CE2>\n",
      "<Atom CZ>\n",
      "<Atom OH>\n",
      "<Atom N>\n",
      "<Atom CA>\n",
      "<Atom C>\n",
      "<Atom O>\n",
      "<Atom N>\n",
      "<Atom CA>\n",
      "<Atom C>\n",
      "<Atom O>\n",
      "<Atom CB>\n",
      "<Atom CG>\n",
      "<Atom CD>\n",
      "<Atom N>\n",
      "<Atom CA>\n",
      "<Atom C>\n",
      "<Atom O>\n",
      "<Atom CB>\n",
      "<Atom CG>\n",
      "<Atom CD1>\n",
      "<Atom CD2>\n",
      "<Atom CE1>\n",
      "<Atom CE2>\n",
      "<Atom CZ>\n",
      "<Atom N>\n",
      "<Atom CA>\n",
      "<Atom C>\n",
      "<Atom O>\n",
      "<Atom CB>\n",
      "<Atom CG1>\n",
      "<Atom CG2>\n",
      "<Atom N>\n",
      "<Atom CA>\n",
      "<Atom C>\n",
      "<Atom O>\n",
      "<Atom CB>\n",
      "<Atom CG>\n",
      "<Atom OD1>\n",
      "<Atom OD2>\n",
      "<Atom N>\n",
      "<Atom CA>\n",
      "<Atom C>\n",
      "<Atom O>\n",
      "<Atom CB>\n",
      "<Atom CG>\n",
      "<Atom CD>\n",
      "<Atom NE>\n",
      "<Atom CZ>\n",
      "<Atom NH1>\n",
      "<Atom NH2>\n",
      "<Atom N>\n",
      "<Atom CA>\n",
      "<Atom C>\n",
      "<Atom O>\n",
      "<Atom CB>\n",
      "<Atom CG>\n",
      "<Atom CD>\n",
      "<Atom OE1>\n",
      "<Atom NE2>\n",
      "<Atom N>\n",
      "<Atom CA>\n",
      "<Atom C>\n",
      "<Atom O>\n",
      "<Atom CB>\n",
      "<Atom OG1>\n",
      "<Atom CG2>\n",
      "<Atom N>\n",
      "<Atom CA>\n",
      "<Atom C>\n",
      "<Atom O>\n",
      "<Atom CB>\n",
      "<Atom N>\n",
      "<Atom CA>\n",
      "<Atom C>\n",
      "<Atom O>\n",
      "<Atom CB>\n",
      "<Atom CG>\n",
      "<Atom CD>\n",
      "<Atom OE1>\n",
      "<Atom NE2>\n",
      "<Atom N>\n",
      "<Atom CA>\n",
      "<Atom C>\n",
      "<Atom O>\n",
      "<Atom CB>\n",
      "<Atom N>\n",
      "<Atom CA>\n",
      "<Atom C>\n",
      "<Atom O>\n",
      "<Atom CB>\n",
      "<Atom N>\n",
      "<Atom CA>\n",
      "<Atom C>\n",
      "<Atom O>\n",
      "<Atom N>\n",
      "<Atom CA>\n",
      "<Atom C>\n",
      "<Atom O>\n",
      "<Atom CB>\n",
      "<Atom OG1>\n",
      "<Atom CG2>\n",
      "<Atom N>\n",
      "<Atom CA>\n",
      "<Atom C>\n",
      "<Atom O>\n",
      "<Atom CB>\n",
      "<Atom CG>\n",
      "<Atom OD1>\n",
      "<Atom OD2>\n",
      "<Atom N>\n",
      "<Atom CA>\n",
      "<Atom C>\n",
      "<Atom O>\n",
      "<Atom CB>\n",
      "<Atom OG1>\n",
      "<Atom CG2>\n",
      "<Atom N>\n",
      "<Atom CA>\n",
      "<Atom C>\n",
      "<Atom O>\n",
      "<Atom CB>\n",
      "<Atom OG1>\n",
      "<Atom CG2>\n",
      "<Atom N>\n",
      "<Atom CA>\n",
      "<Atom C>\n",
      "<Atom O>\n",
      "<Atom CB>\n",
      "<Atom CG1>\n",
      "<Atom CG2>\n",
      "<Atom CD1>\n",
      "<Atom N>\n",
      "<Atom CA>\n",
      "<Atom C>\n",
      "<Atom O>\n",
      "<Atom CB>\n",
      "<Atom OG1>\n",
      "<Atom CG2>\n",
      "<Atom N>\n",
      "<Atom CA>\n",
      "<Atom C>\n",
      "<Atom O>\n",
      "<Atom CB>\n",
      "<Atom CG1>\n",
      "<Atom CG2>\n",
      "<Atom N>\n",
      "<Atom CA>\n",
      "<Atom C>\n",
      "<Atom O>\n",
      "<Atom CB>\n",
      "<Atom CG>\n",
      "<Atom OD1>\n",
      "<Atom ND2>\n",
      "<Atom N>\n",
      "<Atom CA>\n",
      "<Atom C>\n",
      "<Atom O>\n",
      "<Atom CB>\n",
      "<Atom CG1>\n",
      "<Atom CG2>\n",
      "<Atom N>\n",
      "<Atom CA>\n",
      "<Atom C>\n",
      "<Atom O>\n",
      "<Atom CB>\n",
      "<Atom CG>\n",
      "<Atom CD1>\n",
      "<Atom CD2>\n",
      "<Atom N>\n",
      "<Atom CA>\n",
      "<Atom C>\n",
      "<Atom O>\n",
      "<Atom CB>\n",
      "<Atom N>\n",
      "<Atom CA>\n",
      "<Atom C>\n",
      "<Atom O>\n",
      "<Atom CB>\n",
      "<Atom CG>\n",
      "<Atom CD1>\n",
      "<Atom CD2>\n",
      "<Atom NE1>\n",
      "<Atom CE2>\n",
      "<Atom CE3>\n",
      "<Atom CZ2>\n",
      "<Atom CZ3>\n",
      "<Atom CH2>\n",
      "<Atom N>\n",
      "<Atom CA>\n",
      "<Atom C>\n",
      "<Atom O>\n",
      "<Atom CB>\n",
      "<Atom CG>\n",
      "<Atom CD1>\n",
      "<Atom CD2>\n",
      "<Atom N>\n",
      "<Atom CA>\n",
      "<Atom C>\n",
      "<Atom O>\n",
      "<Atom CB>\n",
      "<Atom CG>\n",
      "<Atom CD1>\n",
      "<Atom CD2>\n",
      "<Atom CE1>\n",
      "<Atom CE2>\n",
      "<Atom CZ>\n",
      "<Atom OH>\n",
      "<Atom N>\n",
      "<Atom CA>\n",
      "<Atom C>\n",
      "<Atom O>\n",
      "<Atom CB>\n",
      "<Atom N>\n",
      "<Atom CA>\n",
      "<Atom C>\n",
      "<Atom O>\n",
      "<Atom CB>\n",
      "<Atom N>\n",
      "<Atom CA>\n",
      "<Atom C>\n",
      "<Atom O>\n",
      "<Atom CB>\n",
      "<Atom CG1>\n",
      "<Atom CG2>\n",
      "<Atom N>\n",
      "<Atom CA>\n",
      "<Atom C>\n",
      "<Atom O>\n",
      "<Atom CB>\n",
      "<Atom CG1>\n",
      "<Atom CG2>\n",
      "<Atom CD1>\n",
      "<Atom N>\n",
      "<Atom CA>\n",
      "<Atom C>\n",
      "<Atom O>\n",
      "<Atom CB>\n",
      "<Atom CG>\n",
      "<Atom OD1>\n",
      "<Atom ND2>\n",
      "<Atom N>\n",
      "<Atom CA>\n",
      "<Atom C>\n",
      "<Atom O>\n",
      "<Atom N>\n",
      "<Atom CA>\n",
      "<Atom C>\n",
      "<Atom O>\n",
      "<Atom CB>\n",
      "<Atom CG>\n",
      "<Atom OD1>\n",
      "<Atom OD2>\n",
      "<Atom N>\n",
      "<Atom CA>\n",
      "<Atom C>\n",
      "<Atom O>\n",
      "<Atom CB>\n",
      "<Atom CG>\n",
      "<Atom CD>\n",
      "<Atom NE>\n",
      "<Atom CZ>\n",
      "<Atom NH1>\n",
      "<Atom NH2>\n",
      "<Atom N>\n",
      "<Atom CA>\n",
      "<Atom C>\n",
      "<Atom O>\n",
      "<Atom CB>\n",
      "<Atom CG>\n",
      "<Atom CD1>\n",
      "<Atom CD2>\n",
      "<Atom NE1>\n",
      "<Atom CE2>\n",
      "<Atom CE3>\n",
      "<Atom CZ2>\n",
      "<Atom CZ3>\n",
      "<Atom CH2>\n",
      "<Atom N>\n",
      "<Atom CA>\n",
      "<Atom C>\n",
      "<Atom O>\n",
      "<Atom CB>\n",
      "<Atom CG>\n",
      "<Atom CD1>\n",
      "<Atom CD2>\n",
      "<Atom CE1>\n",
      "<Atom CE2>\n",
      "<Atom CZ>\n",
      "<Atom N>\n",
      "<Atom CA>\n",
      "<Atom C>\n",
      "<Atom O>\n",
      "<Atom CB>\n",
      "<Atom CG>\n",
      "<Atom CD1>\n",
      "<Atom CD2>\n",
      "<Atom N>\n",
      "<Atom CA>\n",
      "<Atom C>\n",
      "<Atom O>\n",
      "<Atom CB>\n",
      "<Atom CG>\n",
      "<Atom OD1>\n",
      "<Atom ND2>\n",
      "<Atom N>\n",
      "<Atom CA>\n",
      "<Atom C>\n",
      "<Atom O>\n",
      "<Atom CB>\n",
      "<Atom CG>\n",
      "<Atom CD>\n",
      "<Atom NE>\n",
      "<Atom CZ>\n",
      "<Atom NH1>\n",
      "<Atom NH2>\n",
      "<Atom N>\n",
      "<Atom CA>\n",
      "<Atom C>\n",
      "<Atom O>\n",
      "<Atom CB>\n",
      "<Atom CG>\n",
      "<Atom CD1>\n",
      "<Atom CD2>\n",
      "<Atom CE1>\n",
      "<Atom CE2>\n",
      "<Atom CZ>\n",
      "<Atom N>\n",
      "<Atom CA>\n",
      "<Atom C>\n",
      "<Atom O>\n",
      "<Atom CB>\n",
      "<Atom OG1>\n",
      "<Atom CG2>\n",
      "<Atom N>\n",
      "<Atom CA>\n",
      "<Atom C>\n",
      "<Atom O>\n",
      "<Atom CB>\n",
      "<Atom OG1>\n",
      "<Atom CG2>\n",
      "<Atom N>\n",
      "<Atom CA>\n",
      "<Atom C>\n",
      "<Atom O>\n",
      "<Atom CB>\n",
      "<Atom OG1>\n",
      "<Atom CG2>\n",
      "<Atom N>\n",
      "<Atom CA>\n",
      "<Atom C>\n",
      "<Atom O>\n",
      "<Atom CB>\n",
      "<Atom CG>\n",
      "<Atom CD1>\n",
      "<Atom CD2>\n",
      "<Atom N>\n",
      "<Atom CA>\n",
      "<Atom C>\n",
      "<Atom O>\n",
      "<Atom CB>\n",
      "<Atom CG>\n",
      "<Atom OD1>\n",
      "<Atom ND2>\n",
      "<Atom N>\n",
      "<Atom CA>\n",
      "<Atom C>\n",
      "<Atom O>\n",
      "<Atom CB>\n",
      "<Atom CG>\n",
      "<Atom OD1>\n",
      "<Atom OD2>\n",
      "<Atom N>\n",
      "<Atom CA>\n",
      "<Atom C>\n",
      "<Atom O>\n",
      "<Atom CB>\n",
      "<Atom CG>\n",
      "<Atom CD1>\n",
      "<Atom CD2>\n",
      "<Atom CE1>\n",
      "<Atom CE2>\n",
      "<Atom CZ>\n",
      "<Atom N>\n",
      "<Atom CA>\n",
      "<Atom C>\n",
      "<Atom O>\n",
      "<Atom CB>\n",
      "<Atom CG>\n",
      "<Atom OD1>\n",
      "<Atom ND2>\n",
      "<Atom N>\n",
      "<Atom CA>\n",
      "<Atom C>\n",
      "<Atom O>\n",
      "<Atom CB>\n",
      "<Atom CG>\n",
      "<Atom CD1>\n",
      "<Atom CD2>\n",
      "<Atom N>\n",
      "<Atom CA>\n",
      "<Atom C>\n",
      "<Atom O>\n",
      "<Atom CB>\n",
      "<Atom CG1>\n",
      "<Atom CG2>\n",
      "<Atom N>\n",
      "<Atom CA>\n",
      "<Atom C>\n",
      "<Atom O>\n",
      "<Atom CB>\n",
      "<Atom N>\n",
      "<Atom CA>\n",
      "<Atom C>\n",
      "<Atom O>\n",
      "<Atom CB>\n",
      "<Atom CG>\n",
      "<Atom SD>\n",
      "<Atom CE>\n",
      "<Atom N>\n",
      "<Atom CA>\n",
      "<Atom C>\n",
      "<Atom O>\n",
      "<Atom CB>\n",
      "<Atom CG>\n",
      "<Atom CD>\n",
      "<Atom CE>\n",
      "<Atom NZ>\n",
      "<Atom N>\n",
      "<Atom CA>\n",
      "<Atom C>\n",
      "<Atom O>\n",
      "<Atom CB>\n",
      "<Atom CG>\n",
      "<Atom CD1>\n",
      "<Atom CD2>\n",
      "<Atom CE1>\n",
      "<Atom CE2>\n",
      "<Atom CZ>\n",
      "<Atom OH>\n",
      "<Atom N>\n",
      "<Atom CA>\n",
      "<Atom C>\n",
      "<Atom O>\n",
      "<Atom CB>\n",
      "<Atom CG>\n",
      "<Atom OD1>\n",
      "<Atom ND2>\n",
      "<Atom N>\n",
      "<Atom CA>\n",
      "<Atom C>\n",
      "<Atom O>\n",
      "<Atom CB>\n",
      "<Atom CG>\n",
      "<Atom CD1>\n",
      "<Atom CD2>\n",
      "<Atom CE1>\n",
      "<Atom CE2>\n",
      "<Atom CZ>\n",
      "<Atom OH>\n",
      "<Atom N>\n",
      "<Atom CA>\n",
      "<Atom C>\n",
      "<Atom O>\n",
      "<Atom CB>\n",
      "<Atom CG>\n",
      "<Atom CD>\n",
      "<Atom OE1>\n",
      "<Atom OE2>\n",
      "<Atom N>\n",
      "<Atom CA>\n",
      "<Atom C>\n",
      "<Atom O>\n",
      "<Atom CB>\n",
      "<Atom CG>\n",
      "<Atom CD>\n",
      "<Atom N>\n",
      "<Atom CA>\n",
      "<Atom C>\n",
      "<Atom O>\n",
      "<Atom CB>\n",
      "<Atom CG>\n",
      "<Atom CD1>\n",
      "<Atom CD2>\n",
      "<Atom N>\n",
      "<Atom CA>\n",
      "<Atom C>\n",
      "<Atom O>\n",
      "<Atom CB>\n",
      "<Atom OG1>\n",
      "<Atom CG2>\n",
      "<Atom N>\n",
      "<Atom CA>\n",
      "<Atom C>\n",
      "<Atom O>\n",
      "<Atom CB>\n",
      "<Atom CG>\n",
      "<Atom CD>\n",
      "<Atom OE1>\n",
      "<Atom NE2>\n",
      "<Atom N>\n",
      "<Atom CA>\n",
      "<Atom C>\n",
      "<Atom O>\n",
      "<Atom CB>\n",
      "<Atom CG>\n",
      "<Atom OD1>\n",
      "<Atom OD2>\n",
      "<Atom N>\n",
      "<Atom CA>\n",
      "<Atom C>\n",
      "<Atom O>\n",
      "<Atom CB>\n",
      "<Atom CG>\n",
      "<Atom ND1>\n",
      "<Atom CD2>\n",
      "<Atom CE1>\n",
      "<Atom NE2>\n",
      "<Atom N>\n",
      "<Atom CA>\n",
      "<Atom C>\n",
      "<Atom O>\n",
      "<Atom CB>\n",
      "<Atom CG1>\n",
      "<Atom CG2>\n",
      "<Atom N>\n",
      "<Atom CA>\n",
      "<Atom C>\n",
      "<Atom O>\n",
      "<Atom CB>\n",
      "<Atom CG>\n",
      "<Atom OD1>\n",
      "<Atom OD2>\n",
      "<Atom N>\n",
      "<Atom CA>\n",
      "<Atom C>\n",
      "<Atom O>\n",
      "<Atom CB>\n",
      "<Atom CG1>\n",
      "<Atom CG2>\n",
      "<Atom CD1>\n",
      "<Atom N>\n",
      "<Atom CA>\n",
      "<Atom C>\n",
      "<Atom O>\n",
      "<Atom CB>\n",
      "<Atom CG>\n",
      "<Atom CD1>\n",
      "<Atom CD2>\n",
      "<Atom N>\n",
      "<Atom CA>\n",
      "<Atom C>\n",
      "<Atom O>\n",
      "<Atom N>\n",
      "<Atom CA>\n",
      "<Atom C>\n",
      "<Atom O>\n",
      "<Atom CB>\n",
      "<Atom CG>\n",
      "<Atom CD>\n",
      "<Atom N>\n",
      "<Atom CA>\n",
      "<Atom C>\n",
      "<Atom O>\n",
      "<Atom CB>\n",
      "<Atom CG>\n",
      "<Atom CD1>\n",
      "<Atom CD2>\n",
      "<Atom N>\n",
      "<Atom CA>\n",
      "<Atom C>\n",
      "<Atom O>\n",
      "<Atom CB>\n",
      "<Atom OG>\n",
      "<Atom N>\n",
      "<Atom CA>\n",
      "<Atom C>\n",
      "<Atom O>\n",
      "<Atom CB>\n",
      "<Atom N>\n",
      "<Atom CA>\n",
      "<Atom C>\n",
      "<Atom O>\n",
      "<Atom CB>\n",
      "<Atom CG>\n",
      "<Atom CD>\n",
      "<Atom OE1>\n",
      "<Atom NE2>\n",
      "<Atom N>\n",
      "<Atom CA>\n",
      "<Atom C>\n",
      "<Atom O>\n",
      "<Atom CB>\n",
      "<Atom OG1>\n",
      "<Atom CG2>\n",
      "<Atom N>\n",
      "<Atom CA>\n",
      "<Atom C>\n",
      "<Atom O>\n",
      "<Atom N>\n",
      "<Atom CA>\n",
      "<Atom C>\n",
      "<Atom O>\n",
      "<Atom CB>\n",
      "<Atom CG1>\n",
      "<Atom CG2>\n",
      "<Atom CD1>\n",
      "<Atom N>\n",
      "<Atom CA>\n",
      "<Atom C>\n",
      "<Atom O>\n",
      "<Atom CB>\n",
      "<Atom N>\n",
      "<Atom CA>\n",
      "<Atom C>\n",
      "<Atom O>\n",
      "<Atom CB>\n",
      "<Atom CG1>\n",
      "<Atom CG2>\n",
      "<Atom N>\n",
      "<Atom CA>\n",
      "<Atom C>\n",
      "<Atom O>\n",
      "<Atom CB>\n",
      "<Atom CG>\n",
      "<Atom CD1>\n",
      "<Atom CD2>\n",
      "<Atom N>\n",
      "<Atom CA>\n",
      "<Atom C>\n",
      "<Atom O>\n",
      "<Atom CB>\n",
      "<Atom CG>\n",
      "<Atom OD1>\n",
      "<Atom OD2>\n",
      "<Atom N>\n",
      "<Atom CA>\n",
      "<Atom C>\n",
      "<Atom O>\n",
      "<Atom CB>\n",
      "<Atom CG>\n",
      "<Atom SD>\n",
      "<Atom CE>\n",
      "<Atom N>\n",
      "<Atom CA>\n",
      "<Atom C>\n",
      "<Atom O>\n",
      "<Atom CB>\n",
      "<Atom SG>\n",
      "<Atom N>\n",
      "<Atom CA>\n",
      "<Atom C>\n",
      "<Atom O>\n",
      "<Atom CB>\n",
      "<Atom N>\n",
      "<Atom CA>\n",
      "<Atom C>\n",
      "<Atom O>\n",
      "<Atom CB>\n",
      "<Atom OG>\n",
      "<Atom N>\n",
      "<Atom CA>\n",
      "<Atom C>\n",
      "<Atom O>\n",
      "<Atom CB>\n",
      "<Atom CG>\n",
      "<Atom CD1>\n",
      "<Atom CD2>\n",
      "<Atom N>\n",
      "<Atom CA>\n",
      "<Atom C>\n",
      "<Atom O>\n",
      "<Atom CB>\n",
      "<Atom CG>\n",
      "<Atom CD>\n",
      "<Atom CE>\n",
      "<Atom NZ>\n",
      "<Atom N>\n",
      "<Atom CA>\n",
      "<Atom C>\n",
      "<Atom O>\n",
      "<Atom CB>\n",
      "<Atom CG>\n",
      "<Atom CD>\n",
      "<Atom OE1>\n",
      "<Atom OE2>\n",
      "<Atom N>\n",
      "<Atom CA>\n",
      "<Atom C>\n",
      "<Atom O>\n",
      "<Atom CB>\n",
      "<Atom CG>\n",
      "<Atom CD1>\n",
      "<Atom CD2>\n",
      "<Atom N>\n",
      "<Atom CA>\n",
      "<Atom C>\n",
      "<Atom O>\n",
      "<Atom CB>\n",
      "<Atom CG>\n",
      "<Atom CD1>\n",
      "<Atom CD2>\n",
      "<Atom N>\n",
      "<Atom CA>\n",
      "<Atom C>\n",
      "<Atom O>\n",
      "<Atom CB>\n",
      "<Atom CG>\n",
      "<Atom CD>\n",
      "<Atom OE1>\n",
      "<Atom NE2>\n",
      "<Atom N>\n",
      "<Atom CA>\n",
      "<Atom C>\n",
      "<Atom O>\n",
      "<Atom CB>\n",
      "<Atom CG>\n",
      "<Atom OD1>\n",
      "<Atom ND2>\n",
      "<Atom N>\n",
      "<Atom CA>\n",
      "<Atom C>\n",
      "<Atom O>\n",
      "<Atom N>\n",
      "<Atom CA>\n",
      "<Atom C>\n",
      "<Atom O>\n",
      "<Atom CB>\n",
      "<Atom CG>\n",
      "<Atom SD>\n",
      "<Atom CE>\n",
      "<Atom N>\n",
      "<Atom CA>\n",
      "<Atom C>\n",
      "<Atom O>\n",
      "<Atom CB>\n",
      "<Atom CG>\n",
      "<Atom OD1>\n",
      "<Atom ND2>\n",
      "<Atom N>\n",
      "<Atom CA>\n",
      "<Atom C>\n",
      "<Atom O>\n",
      "<Atom N>\n",
      "<Atom CA>\n",
      "<Atom C>\n",
      "<Atom O>\n",
      "<Atom CB>\n",
      "<Atom CG>\n",
      "<Atom CD>\n",
      "<Atom NE>\n",
      "<Atom CZ>\n",
      "<Atom NH1>\n",
      "<Atom NH2>\n",
      "<Atom N>\n",
      "<Atom CA>\n",
      "<Atom C>\n",
      "<Atom O>\n",
      "<Atom CB>\n",
      "<Atom OG1>\n",
      "<Atom CG2>\n",
      "<Atom N>\n",
      "<Atom CA>\n",
      "<Atom C>\n",
      "<Atom O>\n",
      "<Atom CB>\n",
      "<Atom CG1>\n",
      "<Atom CG2>\n",
      "<Atom CD1>\n",
      "<Atom N>\n",
      "<Atom CA>\n",
      "<Atom C>\n",
      "<Atom O>\n",
      "<Atom CB>\n",
      "<Atom CG>\n",
      "<Atom CD1>\n",
      "<Atom CD2>\n",
      "<Atom N>\n",
      "<Atom CA>\n",
      "<Atom C>\n",
      "<Atom O>\n",
      "<Atom N>\n",
      "<Atom CA>\n",
      "<Atom C>\n",
      "<Atom O>\n",
      "<Atom CB>\n",
      "<Atom OG>\n",
      "<Atom N>\n",
      "<Atom CA>\n",
      "<Atom C>\n",
      "<Atom O>\n",
      "<Atom CB>\n",
      "<Atom N>\n",
      "<Atom CA>\n",
      "<Atom C>\n",
      "<Atom O>\n",
      "<Atom CB>\n",
      "<Atom CG>\n",
      "<Atom CD1>\n",
      "<Atom CD2>\n",
      "<Atom N>\n",
      "<Atom CA>\n",
      "<Atom C>\n",
      "<Atom O>\n",
      "<Atom CB>\n",
      "<Atom CG>\n",
      "<Atom CD1>\n",
      "<Atom CD2>\n",
      "<Atom N>\n",
      "<Atom CA>\n",
      "<Atom C>\n",
      "<Atom O>\n",
      "<Atom CB>\n",
      "<Atom CG>\n",
      "<Atom CD>\n",
      "<Atom OE1>\n",
      "<Atom OE2>\n",
      "<Atom N>\n",
      "<Atom CA>\n",
      "<Atom C>\n",
      "<Atom O>\n",
      "<Atom CB>\n",
      "<Atom CG>\n",
      "<Atom OD1>\n",
      "<Atom OD2>\n",
      "<Atom N>\n",
      "<Atom CA>\n",
      "<Atom C>\n",
      "<Atom O>\n",
      "<Atom CB>\n",
      "<Atom CG>\n",
      "<Atom CD>\n",
      "<Atom OE1>\n",
      "<Atom OE2>\n",
      "<Atom N>\n",
      "<Atom CA>\n",
      "<Atom C>\n",
      "<Atom O>\n",
      "<Atom CB>\n",
      "<Atom CG>\n",
      "<Atom CD1>\n",
      "<Atom CD2>\n",
      "<Atom CE1>\n",
      "<Atom CE2>\n",
      "<Atom CZ>\n",
      "<Atom N>\n",
      "<Atom CA>\n",
      "<Atom C>\n",
      "<Atom O>\n",
      "<Atom CB>\n",
      "<Atom OG1>\n",
      "<Atom CG2>\n",
      "<Atom N>\n",
      "<Atom CA>\n",
      "<Atom C>\n",
      "<Atom O>\n",
      "<Atom CB>\n",
      "<Atom CG>\n",
      "<Atom CD>\n",
      "<Atom N>\n",
      "<Atom CA>\n",
      "<Atom C>\n",
      "<Atom O>\n",
      "<Atom CB>\n",
      "<Atom CG>\n",
      "<Atom CD1>\n",
      "<Atom CD2>\n",
      "<Atom CE1>\n",
      "<Atom CE2>\n",
      "<Atom CZ>\n",
      "<Atom N>\n",
      "<Atom CA>\n",
      "<Atom C>\n",
      "<Atom O>\n",
      "<Atom CB>\n",
      "<Atom CG>\n",
      "<Atom OD1>\n",
      "<Atom OD2>\n",
      "<Atom N>\n",
      "<Atom CA>\n",
      "<Atom C>\n",
      "<Atom O>\n",
      "<Atom CB>\n",
      "<Atom CG1>\n",
      "<Atom CG2>\n",
      "<Atom N>\n",
      "<Atom CA>\n",
      "<Atom C>\n",
      "<Atom O>\n",
      "<Atom CB>\n",
      "<Atom CG1>\n",
      "<Atom CG2>\n",
      "<Atom N>\n",
      "<Atom CA>\n",
      "<Atom C>\n",
      "<Atom O>\n",
      "<Atom CB>\n",
      "<Atom CG>\n",
      "<Atom CD>\n",
      "<Atom NE>\n",
      "<Atom CZ>\n",
      "<Atom NH1>\n",
      "<Atom NH2>\n",
      "<Atom N>\n",
      "<Atom CA>\n",
      "<Atom C>\n",
      "<Atom O>\n",
      "<Atom CB>\n",
      "<Atom CG>\n",
      "<Atom CD>\n",
      "<Atom OE1>\n",
      "<Atom NE2>\n",
      "<Atom N>\n",
      "<Atom CA>\n",
      "<Atom C>\n",
      "<Atom O>\n",
      "<Atom CB>\n",
      "<Atom SG>\n",
      "<Atom N>\n",
      "<Atom CA>\n",
      "<Atom C>\n",
      "<Atom O>\n",
      "<Atom CB>\n",
      "<Atom OG>\n",
      "<Atom N>\n",
      "<Atom CA>\n",
      "<Atom C>\n",
      "<Atom O>\n",
      "<Atom N>\n",
      "<Atom CA>\n",
      "<Atom C>\n",
      "<Atom O>\n",
      "<Atom CB>\n",
      "<Atom CG1>\n",
      "<Atom CG2>\n",
      "<Atom N>\n",
      "<Atom CA>\n",
      "<Atom C>\n",
      "<Atom O>\n",
      "<Atom CB>\n",
      "<Atom OG1>\n",
      "<Atom CG2>\n",
      "<Atom N>\n",
      "<Atom CA>\n",
      "<Atom C>\n",
      "<Atom O>\n",
      "<Atom CB>\n",
      "<Atom CG>\n",
      "<Atom CD1>\n",
      "<Atom CD2>\n",
      "<Atom CE1>\n",
      "<Atom CE2>\n",
      "<Atom CZ>\n",
      "<Atom N>\n",
      "<Atom CA>\n",
      "<Atom C>\n",
      "<Atom O>\n",
      "<Atom CB>\n",
      "<Atom CG>\n",
      "<Atom CD>\n",
      "<Atom OE1>\n",
      "<Atom NE2>\n",
      "<Atom O>\n",
      "<Atom O>\n",
      "<Atom O>\n",
      "<Atom O>\n",
      "<Atom O>\n",
      "<Atom O>\n",
      "<Atom O>\n",
      "<Atom O>\n",
      "<Atom O>\n",
      "<Atom O>\n",
      "<Atom O>\n",
      "<Atom O>\n",
      "<Atom O>\n",
      "<Atom O>\n",
      "<Atom O>\n",
      "<Atom O>\n",
      "<Atom O>\n",
      "<Atom O>\n",
      "<Atom O>\n",
      "<Atom O>\n",
      "<Atom O>\n",
      "<Atom O>\n",
      "<Atom O>\n",
      "<Atom O>\n",
      "<Atom O>\n",
      "<Atom O>\n",
      "<Atom O>\n",
      "<Atom O>\n",
      "<Atom O>\n",
      "<Atom O>\n",
      "<Atom O>\n",
      "<Atom O>\n",
      "<Atom O>\n",
      "<Atom O>\n",
      "<Atom O>\n",
      "<Atom O>\n",
      "<Atom O>\n",
      "<Atom O>\n",
      "<Atom O>\n",
      "<Atom O>\n",
      "<Atom O>\n",
      "<Atom O>\n",
      "<Atom O>\n",
      "<Atom O>\n",
      "<Atom O>\n",
      "<Atom O>\n",
      "<Atom O>\n",
      "<Atom O>\n",
      "<Atom O>\n",
      "<Atom O>\n",
      "<Atom O>\n",
      "<Atom O>\n",
      "<Atom O>\n",
      "<Atom O>\n",
      "<Atom O>\n",
      "<Atom O>\n",
      "<Atom O>\n",
      "<Atom O>\n",
      "<Atom O>\n",
      "<Atom O>\n",
      "<Atom O>\n",
      "<Atom O>\n",
      "<Atom O>\n",
      "<Atom O>\n",
      "<Atom O>\n",
      "<Atom O>\n",
      "<Atom O>\n",
      "<Atom O>\n",
      "<Atom O>\n",
      "<Atom O>\n",
      "<Atom O>\n",
      "<Atom O>\n",
      "<Atom O>\n",
      "<Atom O>\n",
      "<Atom O>\n",
      "<Atom O>\n",
      "<Atom O>\n",
      "<Atom O>\n",
      "<Atom O>\n",
      "<Atom O>\n",
      "<Atom O>\n",
      "<Atom O>\n",
      "<Atom O>\n",
      "<Atom O>\n",
      "Chain <Chain id=C>,Chain_IDC\n",
      "<Atom C4>\n",
      "<Atom C5>\n",
      "<Atom C6>\n",
      "<Atom O1>\n",
      "<Atom N2>\n",
      "<Atom C3>\n",
      "<Atom C41>\n",
      "<Atom O42>\n",
      "<Atom N>\n",
      "<Atom CA>\n",
      "<Atom C>\n",
      "<Atom O>\n",
      "<Atom CB>\n",
      "<Atom N>\n",
      "<Atom CA>\n",
      "<Atom C>\n",
      "<Atom O>\n",
      "<Atom CB>\n",
      "<Atom CG1>\n",
      "<Atom CG2>\n",
      "<Atom N>\n",
      "<Atom CA>\n",
      "<Atom C>\n",
      "<Atom O>\n",
      "<Atom CB>\n",
      "<Atom CG>\n",
      "<Atom CD1>\n",
      "<Atom CD2>\n",
      "<Atom C19>\n",
      "<Atom C20>\n",
      "<Atom C21>\n",
      "<Atom C22>\n",
      "<Atom C25>\n",
      "<Atom C26>\n",
      "<Atom C27>\n",
      "<Atom C28>\n",
      "<Atom N6>\n",
      "<Atom C29>\n",
      "<Atom O8>\n",
      "<Atom N5>\n",
      "<Atom O7>\n",
      "<Atom C>\n",
      "<Atom O>\n",
      "<Atom C1>\n",
      "<Atom C2>\n",
      "<Atom C3>\n",
      "<Atom C4>\n",
      "<Atom C5>\n",
      "<Atom C6>\n"
     ]
    }
   ],
   "source": [
    "# Check for atoms\n",
    "for chain in model:\n",
    "    print(f'Chain {chain},Chain_ID{chain.id}')\n",
    "    for residue in chain:\n",
    "        for atom in residue:\n",
    "            print(atom)"
   ]
  },
  {
   "cell_type": "markdown",
   "metadata": {},
   "source": [
    "## Visualizing the 3D structure\n",
    "+ py3Dmol\n"
   ]
  },
  {
   "cell_type": "code",
   "execution_count": 148,
   "metadata": {},
   "outputs": [
    {
     "name": "stdout",
     "output_type": "stream",
     "text": [
      "[LabBuildApp] JupyterLab 2.1.5\n",
      "[LabBuildApp] Building in /Users/senesbasbug/opt/anaconda3/share/jupyter/lab\n",
      "[LabBuildApp] Building jupyterlab assets (build:prod:minimize)\n"
     ]
    }
   ],
   "source": [
    "# Method 1 using py3DMol\n",
    "#pip install py3Dmol \n",
    "!jupyter lab build"
   ]
  },
  {
   "cell_type": "code",
   "execution_count": 149,
   "metadata": {},
   "outputs": [],
   "source": [
    "import py3Dmol"
   ]
  },
  {
   "cell_type": "code",
   "execution_count": 150,
   "metadata": {},
   "outputs": [],
   "source": [
    "#jupyter labextension install jupyterlab_3dmol"
   ]
  },
  {
   "cell_type": "code",
   "execution_count": 151,
   "metadata": {},
   "outputs": [],
   "source": [
    "view1 = py3Dmol.view(query='pdb:6LU7')"
   ]
  },
  {
   "cell_type": "code",
   "execution_count": 152,
   "metadata": {},
   "outputs": [
    {
     "data": {
      "application/3dmoljs_load.v0": "<div id=\"3dmolviewer_1594934736387918\"  style=\"position: relative; width: 640px; height: 480px\">\n        <p id=\"3dmolwarning_1594934736387918\" style=\"background-color:#ffcccc;color:black\">You appear to be running in JupyterLab (or JavaScript failed to load for some other reason).  You need to install the 3dmol extension: <br>\n        <tt>jupyter labextension install jupyterlab_3dmol</tt></p>\n        </div>\n<script>\n\nvar loadScriptAsync = function(uri){\n  return new Promise((resolve, reject) => {\n    var tag = document.createElement('script');\n    tag.src = uri;\n    tag.async = true;\n    tag.onload = () => {\n      resolve();\n    };\n  var firstScriptTag = document.getElementsByTagName('script')[0];\n  firstScriptTag.parentNode.insertBefore(tag, firstScriptTag);\n});\n};\n\nif(typeof $3Dmolpromise === 'undefined') {\n$3Dmolpromise = null;\n  $3Dmolpromise = loadScriptAsync('https://3dmol.csb.pitt.edu/build/3Dmol.js');\n}\n\nvar viewer_1594934736387918 = null;\nvar warn = document.getElementById(\"3dmolwarning_1594934736387918\");\nif(warn) {\n    warn.parentNode.removeChild(warn);\n}\n$3Dmolpromise.then(function() {\nviewer_1594934736387918 = $3Dmol.createViewer($(\"#3dmolviewer_1594934736387918\"),{backgroundColor:\"white\"});\n$3Dmol.download(\"pdb:6LU7\", viewer_1594934736387918, {}, function() {\n\tviewer_1594934736387918.setStyle({\"cartoon\": {\"color\": \"spectrum\"}});\nviewer_1594934736387918.render();\n})\n});\n</script>",
      "text/html": [
       "<div id=\"3dmolviewer_1594934736387918\"  style=\"position: relative; width: 640px; height: 480px\">\n",
       "        <p id=\"3dmolwarning_1594934736387918\" style=\"background-color:#ffcccc;color:black\">You appear to be running in JupyterLab (or JavaScript failed to load for some other reason).  You need to install the 3dmol extension: <br>\n",
       "        <tt>jupyter labextension install jupyterlab_3dmol</tt></p>\n",
       "        </div>\n",
       "<script>\n",
       "\n",
       "var loadScriptAsync = function(uri){\n",
       "  return new Promise((resolve, reject) => {\n",
       "    var tag = document.createElement('script');\n",
       "    tag.src = uri;\n",
       "    tag.async = true;\n",
       "    tag.onload = () => {\n",
       "      resolve();\n",
       "    };\n",
       "  var firstScriptTag = document.getElementsByTagName('script')[0];\n",
       "  firstScriptTag.parentNode.insertBefore(tag, firstScriptTag);\n",
       "});\n",
       "};\n",
       "\n",
       "if(typeof $3Dmolpromise === 'undefined') {\n",
       "$3Dmolpromise = null;\n",
       "  $3Dmolpromise = loadScriptAsync('https://3dmol.csb.pitt.edu/build/3Dmol.js');\n",
       "}\n",
       "\n",
       "var viewer_1594934736387918 = null;\n",
       "var warn = document.getElementById(\"3dmolwarning_1594934736387918\");\n",
       "if(warn) {\n",
       "    warn.parentNode.removeChild(warn);\n",
       "}\n",
       "$3Dmolpromise.then(function() {\n",
       "viewer_1594934736387918 = $3Dmol.createViewer($(\"#3dmolviewer_1594934736387918\"),{backgroundColor:\"white\"});\n",
       "$3Dmol.download(\"pdb:6LU7\", viewer_1594934736387918, {}, function() {\n",
       "\tviewer_1594934736387918.setStyle({\"cartoon\": {\"color\": \"spectrum\"}});\n",
       "viewer_1594934736387918.render();\n",
       "})\n",
       "});\n",
       "</script>"
      ]
     },
     "metadata": {},
     "output_type": "display_data"
    },
    {
     "data": {
      "text/plain": [
       "<py3Dmol.view at 0x7f9c06d36210>"
      ]
     },
     "execution_count": 152,
     "metadata": {},
     "output_type": "execute_result"
    }
   ],
   "source": [
    "view1.setStyle({'cartoon':{'color':'spectrum'}})"
   ]
  },
  {
   "cell_type": "code",
   "execution_count": 153,
   "metadata": {},
   "outputs": [],
   "source": [
    "view2 = py3Dmol.view(query='pdb:4ZS6')"
   ]
  },
  {
   "cell_type": "code",
   "execution_count": 154,
   "metadata": {},
   "outputs": [
    {
     "data": {
      "application/3dmoljs_load.v0": "<div id=\"3dmolviewer_1594934736397064\"  style=\"position: relative; width: 640px; height: 480px\">\n        <p id=\"3dmolwarning_1594934736397064\" style=\"background-color:#ffcccc;color:black\">You appear to be running in JupyterLab (or JavaScript failed to load for some other reason).  You need to install the 3dmol extension: <br>\n        <tt>jupyter labextension install jupyterlab_3dmol</tt></p>\n        </div>\n<script>\n\nvar loadScriptAsync = function(uri){\n  return new Promise((resolve, reject) => {\n    var tag = document.createElement('script');\n    tag.src = uri;\n    tag.async = true;\n    tag.onload = () => {\n      resolve();\n    };\n  var firstScriptTag = document.getElementsByTagName('script')[0];\n  firstScriptTag.parentNode.insertBefore(tag, firstScriptTag);\n});\n};\n\nif(typeof $3Dmolpromise === 'undefined') {\n$3Dmolpromise = null;\n  $3Dmolpromise = loadScriptAsync('https://3dmol.csb.pitt.edu/build/3Dmol.js');\n}\n\nvar viewer_1594934736397064 = null;\nvar warn = document.getElementById(\"3dmolwarning_1594934736397064\");\nif(warn) {\n    warn.parentNode.removeChild(warn);\n}\n$3Dmolpromise.then(function() {\nviewer_1594934736397064 = $3Dmol.createViewer($(\"#3dmolviewer_1594934736397064\"),{backgroundColor:\"white\"});\n$3Dmol.download(\"pdb:4ZS6\", viewer_1594934736397064, {}, function() {\n\tviewer_1594934736397064.setStyle({\"cartoon\": {\"color\": \"spectrum\"}});\nviewer_1594934736397064.render();\n})\n});\n</script>",
      "text/html": [
       "<div id=\"3dmolviewer_1594934736397064\"  style=\"position: relative; width: 640px; height: 480px\">\n",
       "        <p id=\"3dmolwarning_1594934736397064\" style=\"background-color:#ffcccc;color:black\">You appear to be running in JupyterLab (or JavaScript failed to load for some other reason).  You need to install the 3dmol extension: <br>\n",
       "        <tt>jupyter labextension install jupyterlab_3dmol</tt></p>\n",
       "        </div>\n",
       "<script>\n",
       "\n",
       "var loadScriptAsync = function(uri){\n",
       "  return new Promise((resolve, reject) => {\n",
       "    var tag = document.createElement('script');\n",
       "    tag.src = uri;\n",
       "    tag.async = true;\n",
       "    tag.onload = () => {\n",
       "      resolve();\n",
       "    };\n",
       "  var firstScriptTag = document.getElementsByTagName('script')[0];\n",
       "  firstScriptTag.parentNode.insertBefore(tag, firstScriptTag);\n",
       "});\n",
       "};\n",
       "\n",
       "if(typeof $3Dmolpromise === 'undefined') {\n",
       "$3Dmolpromise = null;\n",
       "  $3Dmolpromise = loadScriptAsync('https://3dmol.csb.pitt.edu/build/3Dmol.js');\n",
       "}\n",
       "\n",
       "var viewer_1594934736397064 = null;\n",
       "var warn = document.getElementById(\"3dmolwarning_1594934736397064\");\n",
       "if(warn) {\n",
       "    warn.parentNode.removeChild(warn);\n",
       "}\n",
       "$3Dmolpromise.then(function() {\n",
       "viewer_1594934736397064 = $3Dmol.createViewer($(\"#3dmolviewer_1594934736397064\"),{backgroundColor:\"white\"});\n",
       "$3Dmol.download(\"pdb:4ZS6\", viewer_1594934736397064, {}, function() {\n",
       "\tviewer_1594934736397064.setStyle({\"cartoon\": {\"color\": \"spectrum\"}});\n",
       "viewer_1594934736397064.render();\n",
       "})\n",
       "});\n",
       "</script>"
      ]
     },
     "metadata": {},
     "output_type": "display_data"
    },
    {
     "data": {
      "text/plain": [
       "<py3Dmol.view at 0x7f9c06d69d10>"
      ]
     },
     "execution_count": 154,
     "metadata": {},
     "output_type": "execute_result"
    }
   ],
   "source": [
    "view2.setStyle({'cartoon':{'color':'spectrum'}})"
   ]
  },
  {
   "cell_type": "code",
   "execution_count": null,
   "metadata": {},
   "outputs": [],
   "source": []
  }
 ],
 "metadata": {
  "kernelspec": {
   "display_name": "Python 3",
   "language": "python",
   "name": "python3"
  },
  "language_info": {
   "codemirror_mode": {
    "name": "ipython",
    "version": 3
   },
   "file_extension": ".py",
   "mimetype": "text/x-python",
   "name": "python",
   "nbconvert_exporter": "python",
   "pygments_lexer": "ipython3",
   "version": "3.7.6"
  }
 },
 "nbformat": 4,
 "nbformat_minor": 4
}
